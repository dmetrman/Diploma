{
  "cells": [
    {
      "cell_type": "markdown",
      "id": "42415a42-e2b1-477f-bc3f-607f88a10f6b",
      "metadata": {},
      "source": [
        "<center>\n",
        "    <img src=\"https://cf-courses-data.s3.us.cloud-object-storage.appdomain.cloud/assets/logos/SN_web_lightmode.png\" width=\"300\" alt=\"cognitiveclass.ai logo\"  />\n",
        "</center>\n",
        "\n",
        "# **Breast Cancer Investigation**\n",
        "# Lab 2. Data Wrangling\n",
        "\n",
        "## Abstract\n",
        "\n",
        "In this lab, you'll dive into the realm of healthcare data analysis with a focus on breast cancer using Python and Pandas. Gain hands-on experience in identifying and handling missing values, correcting data formats, standardizing and normalizing data, and creating indicator variables. Master these essential techniques to ensure accurate and reliable analysis of breast cancer datasets. Join this project to enhance your data analysis and machine learning skills while unlocking the potential of medical data models in improving healthcare outcomes.\n",
        "\n",
        "Estimated time needed: **30** minutes\n",
        "\n",
        "## Objectives\n",
        "\n",
        "After completing this lab you will be able to:\n",
        "\n",
        "*   Handle missing values\n",
        "*   Correct data format\n",
        "*   Standardize and normalize data\n"
      ]
    },
    {
      "cell_type": "markdown",
      "id": "e7401b00-9a98-4e09-9327-3eb6bc14db5c",
      "metadata": {},
      "source": [
        "<h2>Table of Contents</h2>\n",
        "\n",
        "<div class=\"alert alert-block alert-info\" style=\"margin-top: 20px\">\n",
        "<ol>\n",
        "    <li><a href=\"#identify_handle_missing_values\">Identify and handle missing values</a>\n",
        "        <ul>\n",
        "            <li><a href=\"#identify_missing_values\">Identify missing values</a></li>\n",
        "            <li><a href=\"#deal_missing_values\">Deal with missing values</a></li>\n",
        "            <li><a href=\"#correct_data_format\">Correct data format</a></li>\n",
        "        </ul>\n",
        "    </li>\n",
        "    <li><a href=\"#data_standardization\">Data standardization</a></li>\n",
        "    <li><a href=\"#data_normalization\">Data normalization (centering/scaling)</a></li>\n",
        "    <li><a href=\"#binning\">Binning</a></li>\n",
        "    <li><a href=\"#indicator\">Indicator variable</a></li>\n",
        "</ol>\n",
        "\n",
        "</div>\n",
        "\n",
        "<hr>\n"
      ]
    },
    {
      "cell_type": "markdown",
      "id": "7d377013-c44a-4ddf-9174-8c0e968122db",
      "metadata": {},
      "source": [
        "<h2>What is the purpose of data wrangling?</h2>\n"
      ]
    },
    {
      "cell_type": "markdown",
      "id": "ba393187-c43a-42c2-bdb3-ad3996a367cc",
      "metadata": {},
      "source": [
        "Data wrangling is the process of converting data from the initial format to a format that may be better for analysis.\n"
      ]
    },
    {
      "cell_type": "markdown",
      "id": "5b6dc16b-e50d-489c-bd79-0e2a0313b989",
      "metadata": {},
      "source": [
        "<h3>How to transform months to years?</h3>\n"
      ]
    },
    {
      "cell_type": "markdown",
      "id": "e3b4c09c-1fa6-4b5e-b03a-94bde7250ff1",
      "metadata": {},
      "source": [
        "<h3>Import data</h3>\n",
        "<p>\n",
        "You can find the \"Breast Cancer Dataset\" from the following link: <a href=\"https://www.kaggle.com/datasets/gunesevitan/breast-cancer-metabric\">https://www.kaggle.com/datasets/gunesevitan/breast-cancer-metabric</a>.\n",
        "We will be using this dataset throughout this course.\n",
        "</p>\n"
      ]
    },
    {
      "cell_type": "markdown",
      "id": "fdbc7233-0741-4060-a707-0e45a2c8b1c7",
      "metadata": {},
      "source": [
        "<h4>Import pandas</h4>"
      ]
    },
    {
      "cell_type": "markdown",
      "id": "d07dc9cd-1604-4b6c-87f7-0753c993bec9",
      "metadata": {},
      "source": [
        "Now, let's import libraries that we will use"
      ]
    },
    {
      "cell_type": "code",
      "execution_count": null,
      "id": "aae32ef4-5a0b-435f-80be-7beb1530a582",
      "metadata": {},
      "outputs": [],
      "source": [
        "conda install -c anaconda scikit-learn"
      ]
    },
    {
      "cell_type": "code",
      "execution_count": 1,
      "id": "ac2c9428-c9f7-474c-bede-09593feda72c",
      "metadata": {},
      "outputs": [],
      "source": [
        "import pandas as pd\n",
        "import matplotlib.pylab as plt\n",
        "import numpy as np\n",
        "\n",
        "from sklearn.metrics import mean_absolute_percentage_error\n",
        "from sklearn.metrics import confusion_matrix, recall_score\n",
        "from sklearn import preprocessing\n",
        "\n",
        "%matplotlib inline\n",
        "import matplotlib as plt\n",
        "from matplotlib import pyplot"
      ]
    },
    {
      "cell_type": "markdown",
      "id": "5755d8c8-8314-4f5b-a296-dfea083a0a3d",
      "metadata": {},
      "source": [
        "<h2>Reading the dataset from the URL and adding the related headers</h2>\n"
      ]
    },
    {
      "cell_type": "markdown",
      "id": "e574ae94-bbd0-474b-877f-e64bb90479f8",
      "metadata": {},
      "source": [
        "First, we assign the URL of the dataset to \"filename\".\n"
      ]
    },
    {
      "cell_type": "code",
      "execution_count": 2,
      "id": "425de233-9c0f-40d0-ad2f-f877f0675fa2",
      "metadata": {},
      "outputs": [],
      "source": [
        "filename = \"https://cf-courses-data.s3.us.cloud-object-storage.appdomain.cloud/IBMSkillsNetwork-GPXX0XQ4EN/breast_cancer.csv\""
      ]
    },
    {
      "cell_type": "markdown",
      "id": "1a7e3b6e-38cb-4283-8660-e30d91bfd83c",
      "metadata": {},
      "source": [
        "Use the Pandas method <b>read_csv()</b> to load the data from the web address.\n"
      ]
    },
    {
      "cell_type": "code",
      "execution_count": null,
      "id": "1ef98961-e58e-47a7-9aa8-e0c70f767fee",
      "metadata": {},
      "outputs": [],
      "source": [
        "df = pd.read_csv(filename)"
      ]
    },
    {
      "cell_type": "markdown",
      "id": "73d88d73-8478-4625-b464-a7121e3e3088",
      "metadata": {},
      "source": [
        "Let's read the data in df2 and drop all the rows that have no data"
      ]
    },
    {
      "cell_type": "code",
      "execution_count": null,
      "id": "7206fd48-07ab-485e-871c-e37e85cbd7be",
      "metadata": {},
      "outputs": [],
      "source": [
        "df2=df.dropna().reset_index(drop=True)\n",
        "df2.head(10)"
      ]
    },
    {
      "cell_type": "markdown",
      "id": "85ac1c44-8cd1-40cd-90e9-4fc9f826bd08",
      "metadata": {},
      "source": [
        "Now let's write in the dictionary <b>col</b> the columns in which we will generate empty fields."
      ]
    },
    {
      "cell_type": "code",
      "execution_count": null,
      "id": "4c4ea1d3-3941-4550-8eb9-250d5d13495b",
      "metadata": {},
      "outputs": [],
      "source": [
        "cols = {'Age at Diagnosis': df2[['Age at Diagnosis']], 'Primary Tumor Laterality': df2[['Primary Tumor Laterality']],\n",
        "        'Nottingham prognostic index': df2[['Nottingham prognostic index']], 'Overall Survival (Months)': df2[['Overall Survival (Months)']], \"Patient's Vital Status\": df2[[\"Patient's Vital Status\"]]}\n",
        "\n",
        "col = {'Age at Diagnosis': 0.07, 'Primary Tumor Laterality': 0.1, 'Nottingham prognostic index': 0.05, 'Overall Survival (Months)': 0.03, \"Patient's Vital Status\": 0.01}\n",
        "for c in col:\n",
        "    m = np.random.rand(len(df2))\n",
        "    mask = m < col[c]\n",
        "    df2.loc[mask, c] = np.NaN\n"
      ]
    },
    {
      "cell_type": "markdown",
      "id": "9e782b89-0e42-4ff3-a724-e4740aea456f",
      "metadata": {},
      "source": [
        "Use the method <b>head()</b> to display the first five rows of the dataframe.\n"
      ]
    },
    {
      "cell_type": "code",
      "execution_count": null,
      "id": "c0041ca7-8866-485d-8afb-1501b7d18d7d",
      "metadata": {},
      "outputs": [],
      "source": [
        "# To see what the data set looks like, we'll use the head() method.\n",
        "df2.head()"
      ]
    },
    {
      "cell_type": "markdown",
      "id": "c0e83445-9f22-4d76-bb5d-b9799bb0f7c1",
      "metadata": {},
      "source": [
        "As we can see, several NaN appeared in the dataframe; those are missing values which may hinder our further analysis.\n",
        "\n",
        "<div>So, how do we identify all those missing values and deal with them?</div> \n",
        "\n",
        "<b>How to work with missing data?</b>\n",
        "\n",
        "Steps for working with missing data:\n",
        "\n",
        "<ol>\n",
        "    <li>Identify missing data</li>\n",
        "    <li>Deal with missing data</li>\n",
        "    <li>Correct data format</li>\n",
        "</ol>\n"
      ]
    },
    {
      "cell_type": "markdown",
      "id": "81c2ce20-8a89-4d40-9eee-127710b4fcdc",
      "metadata": {},
      "source": [
        "<p id=\"identify_handle_missing_values\"></p>\n",
        "<h2>1. Identify and handle missing values</h2>\n",
        "\n",
        "<p id=\"identify_missing_values\"></p>\n",
        "<h3>Identify missing values</h3>\n"
      ]
    },
    {
      "cell_type": "markdown",
      "id": "36280f06-0efa-461f-88bf-6758e34119b0",
      "metadata": {},
      "source": [
        "<h4>Evaluating for Missing Data</h4>\n",
        "\n",
        "The missing values are converted by default. We use the following functions to identify these missing values. There are two methods to detect missing data:\n",
        "\n",
        "<ol>\n",
        "    <li><b>.isnull()</b></li>\n",
        "    <li><b>.notnull()</b></li>\n",
        "</ol>\n",
        "The output is a boolean value indicating whether the value that is passed into the argument is in fact missing data.\n"
      ]
    },
    {
      "cell_type": "code",
      "execution_count": null,
      "id": "0e55ce68-f681-45c9-b024-bfc455716a21",
      "metadata": {},
      "outputs": [],
      "source": [
        "missing_data = df2.isnull()\n",
        "missing_data.head(5)"
      ]
    },
    {
      "cell_type": "markdown",
      "id": "56111b54-b77c-4cd2-bd0d-a6978f82a1f2",
      "metadata": {},
      "source": [
        "\"True\" means the value is a missing value while \"False\" means the value is not a missing value.\n"
      ]
    },
    {
      "cell_type": "markdown",
      "id": "2a2332c2-e6d5-4aa5-9894-645621917c1c",
      "metadata": {},
      "source": [
        "<h4>Count missing values in each column</h4>\n",
        "<p>\n",
        "Using a for loop in Python, we can quickly figure out the number of missing values in each column. As mentioned above, \"True\" represents a missing value and \"False\" means the value is present in the dataset.  In the body of the for loop the method \".value_counts()\" counts the number of \"True\" values. \n",
        "</p>\n"
      ]
    },
    {
      "cell_type": "code",
      "execution_count": null,
      "id": "991ed7d5-e799-4b37-858b-4138f59df27d",
      "metadata": {},
      "outputs": [],
      "source": [
        "for column in missing_data.columns.values.tolist():\n",
        "    print(column)\n",
        "    print (missing_data[column].value_counts())\n",
        "    print(\"\")"
      ]
    },
    {
      "cell_type": "markdown",
      "id": "29562fad-4770-4994-bf4d-ce14c187b5b0",
      "metadata": {},
      "source": [
        "Based on the summary above, each column contains more than 1000 rows of data and six of the columns containing missing data:\n",
        "\n",
        "<ol>\n",
        "    <li>\"Age at Diagnosis\"</li>\n",
        "    <li>\"Primary Tumor Laterality\"</li>\n",
        "    <li>\"Nottingham prognostic index\"</li>\n",
        "    <li>\"Overall Survival (Months)\"</li>\n",
        "    <li>\"Patient's Vital Status\"</li>\n",
        "</ol>\n"
      ]
    },
    {
      "cell_type": "markdown",
      "id": "6b575d15-58db-45f4-aa60-410c3a07f676",
      "metadata": {},
      "source": [
        "<p id=\"deal_missing_values\"></p>\n",
        "<h3>Deal with missing data</h3>\n",
        "<b>How to deal with missing data?</b>\n",
        "\n",
        "<ol>\n",
        "    <li>Drop data<br>\n",
        "        a. Drop the whole row<br>\n",
        "        b. Drop the whole column\n",
        "    </li>\n",
        "    <li>Replace data<br>\n",
        "        a. Replace it by mean<br>\n",
        "        b. Replace it by frequency<br>\n",
        "        c. Replace it based on other functions\n",
        "    </li>\n",
        "</ol>\n"
      ]
    },
    {
      "cell_type": "markdown",
      "id": "46501a28-54d2-4e89-98e3-7273ad38f2c0",
      "metadata": {},
      "source": [
        "Whole columns should be dropped only if most entries in the column are empty. In our dataset, none of the columns are empty enough to drop entirely.\n",
        "We have some freedom in choosing which method to replace data; however, some methods may seem more reasonable than others. We will apply each method to many different columns:\n",
        "\n",
        "<b>Replace by mean:</b>\n",
        "\n",
        "<ul>\n",
        "    <li>\"Age at Diagnosis\": replace them with mean</li>\n",
        "    <li>\"Nottingham prognostic index\": replace them with mean</li>\n",
        "    <li>\"Overall Survival (Months)\": replace them with mean</li>\n",
        "</ul>\n",
        "\n",
        "<b>Replace by frequency:</b>\n",
        "\n",
        "<ul>\n",
        "    <li>\"Primary Tumor Laterality\": replace them with \"Left\".\n",
        "        <ul>\n",
        "            <li>Reason: More than half of the data is \"Left\". Since \"Left\" is the most common, this is the most likely</li>\n",
        "        </ul>\n",
        "    </li>\n",
        "</ul>\n",
        "\n",
        "<b>Drop the whole row:</b>\n",
        "\n",
        "<ul>\n",
        "    <li>\"Patient's Vital Status\": simply delete the whole row\n",
        "    </li>\n",
        "</ul>\n"
      ]
    },
    {
      "cell_type": "markdown",
      "id": "bba868b1-bd83-4fac-99d1-ca4441ff35b2",
      "metadata": {},
      "source": [
        "<h4>Calculate the mean value for the \"Age at Diagnosis\" column </h4>\n"
      ]
    },
    {
      "cell_type": "code",
      "execution_count": null,
      "id": "c9ef20e2-43ea-44e2-8abd-170a3c3efa5e",
      "metadata": {},
      "outputs": [],
      "source": [
        "avg_age_loss = df2[\"Age at Diagnosis\"].astype(\"float\").mean(axis=0)\n",
        "print(\"Age at Diagnosis:\", round(avg_age_loss, 2))"
      ]
    },
    {
      "cell_type": "markdown",
      "id": "1d33fd79-959f-4cb9-a193-7e689fb30222",
      "metadata": {},
      "source": [
        "<h4>Replace \"NaN\" with mean value in \"Age at Diagnosis\" column</h4>\n"
      ]
    },
    {
      "cell_type": "code",
      "execution_count": null,
      "id": "7b20a0d1-de01-4aa3-8e45-6f7e50757bf2",
      "metadata": {},
      "outputs": [],
      "source": [
        "df2[\"Age at Diagnosis\"].replace(np.nan, avg_age_loss, inplace=True)"
      ]
    },
    {
      "cell_type": "markdown",
      "id": "28432e36-9246-4a63-89e8-cacf4f465353",
      "metadata": {},
      "source": [
        "<h4>Let's calculate the error between the replaced data and the original data</h4>"
      ]
    },
    {
      "cell_type": "code",
      "execution_count": null,
      "id": "acd5a4cf-52b5-4c87-a3de-bb4b8905b311",
      "metadata": {},
      "outputs": [],
      "source": [
        "mape_age = mean_absolute_percentage_error(cols['Age at Diagnosis'], df2['Age at Diagnosis'])\n",
        "print('Error of Age at Diagnosis: ', round(mape_age, 2) * 100, '%')"
      ]
    },
    {
      "cell_type": "markdown",
      "id": "d85fab33-a59f-4ef0-9b55-80033bd283e5",
      "metadata": {},
      "source": [
        "<h4>Calculate the mean value for the \"Nottingham prognostic index\" column</h4>\n"
      ]
    },
    {
      "cell_type": "code",
      "execution_count": null,
      "id": "cb197ec7-d8c4-4a47-83e1-cb0b3a5df4ba",
      "metadata": {},
      "outputs": [],
      "source": [
        "avg_nottingham=df2['Nottingham prognostic index'].astype('float').mean(axis=0)\n",
        "print(\"Nottingham prognostic index:\", round(avg_nottingham, 2))"
      ]
    },
    {
      "cell_type": "markdown",
      "id": "8e0029ba-4301-4355-a8f1-aa93ab8fdf65",
      "metadata": {},
      "source": [
        "<h4>Replace \"NaN\" with the mean value in the \"Nottingham prognostic index\" column</h4>\n"
      ]
    },
    {
      "cell_type": "code",
      "execution_count": null,
      "id": "fe77ce8c-203f-430b-acb1-d3ff5f0105be",
      "metadata": {},
      "outputs": [],
      "source": [
        "df2[\"Nottingham prognostic index\"].replace(np.nan, avg_nottingham, inplace=True)"
      ]
    },
    {
      "cell_type": "markdown",
      "id": "23b6e923-15ea-4c53-880e-5d64b33c3475",
      "metadata": {},
      "source": [
        "<h4>Let's calculate the error between the replaced data and the original data</h4>"
      ]
    },
    {
      "cell_type": "code",
      "execution_count": null,
      "id": "42281b76-8953-4dd6-9162-441f4b70bde9",
      "metadata": {},
      "outputs": [],
      "source": [
        "mape_nottingham = mean_absolute_percentage_error(cols['Nottingham prognostic index'], df2['Nottingham prognostic index'])\n",
        "print('Error of Nottingham prognostic index: ', round(mape_nottingham, 2) * 100, '%')"
      ]
    },
    {
      "cell_type": "markdown",
      "id": "0e7bd9e5-8757-4ad3-a707-66271863c989",
      "metadata": {},
      "source": [
        "<div class=\"alert alert-danger alertdanger\" style=\"margin-top: 20px\">\n",
        "<h1> Question  #1: </h1>\n",
        "\n",
        "<b>Based on the example above, replace NaN in \"Overall Survival (Months)\" column with the mean value and calculate the error.</b>\n",
        "\n",
        "</div>\n"
      ]
    },
    {
      "cell_type": "code",
      "execution_count": null,
      "id": "13f2c67c-62fd-4ab1-a72c-e02bb20f9c47",
      "metadata": {},
      "outputs": [],
      "source": [
        "# Write your code below and press Shift+Enter to execute \n"
      ]
    },
    {
      "cell_type": "markdown",
      "id": "91c7e63d-ad30-4838-831a-ccfe9d6143d9",
      "metadata": {},
      "source": [
        "<details><summary>Click here for the solution</summary>\n",
        "\n",
        "```python\n",
        "#Calculate the mean value for \"stroke\" column\n",
        "avg_survival = df2['Overall Survival (Months)'].astype('float').mean(axis=0)\n",
        "print(\"Overall Survival (Months):\", avg_survival)\n",
        "\n",
        "# replace NaN by mean value in \"stroke\" column\n",
        "df2['Overall Survival (Months)'].replace(np.nan, avg_survival, inplace=True)\n",
        "\n",
        "#Let's calculate the error between the replaced data and the original data\n",
        "mape_survival = mean_absolute_percentage_error(cols['Overall Survival (Months)'], df2['Overall Survival (Months)'])\n",
        "print('Error of Overall Survival (Months): ', round(mape_survival, 2) * 100, '%')\n",
        "```\n",
        "\n",
        "</details>\n"
      ]
    },
    {
      "cell_type": "markdown",
      "id": "c9124c54-fa3d-4437-9113-b8d762d8e97e",
      "metadata": {},
      "source": [
        "To see which values are present in a particular column, we can use the \".value_counts()\" method:\n"
      ]
    },
    {
      "cell_type": "code",
      "execution_count": null,
      "id": "3efea79c-69d6-4f88-9814-f2fd2375f182",
      "metadata": {},
      "outputs": [],
      "source": [
        "df2['Primary Tumor Laterality'].value_counts()"
      ]
    },
    {
      "cell_type": "markdown",
      "id": "d9d736ba-2eb5-402d-af50-722c9b8380c9",
      "metadata": {},
      "source": [
        "We can see that \"Left\" is the most common type. We can also use the \".idxmax()\" method to calculate the most common type automatically:\n"
      ]
    },
    {
      "cell_type": "code",
      "execution_count": null,
      "id": "56347c58-9868-4859-a10c-7d35a83d8d21",
      "metadata": {},
      "outputs": [],
      "source": [
        "df2['Primary Tumor Laterality'].value_counts().idxmax()"
      ]
    },
    {
      "cell_type": "markdown",
      "id": "090cd0a0-2f19-4104-b776-09d1ea1e1cf4",
      "metadata": {},
      "source": [
        "The replacement procedure is very similar to what we have seen previously:\n"
      ]
    },
    {
      "cell_type": "code",
      "execution_count": null,
      "id": "1dc59bf2-aea0-44fc-a29f-c824782b945e",
      "metadata": {},
      "outputs": [],
      "source": [
        "#replace the missing 'Primary Tumor Laterality' values by the most frequent\n",
        "df2[\"Primary Tumor Laterality\"].replace(np.nan, \"Left\", inplace=True)"
      ]
    },
    {
      "cell_type": "markdown",
      "id": "e5bf65be-1a45-46c2-a701-706324c5be14",
      "metadata": {},
      "source": [
        "<h4>Let's calculate the error between the replaced data and the original data</h4>"
      ]
    },
    {
      "cell_type": "code",
      "execution_count": null,
      "id": "c954243c-2d65-4fa7-a205-cc61765f0e6d",
      "metadata": {},
      "outputs": [],
      "source": [
        "confusion_matrix(cols['Primary Tumor Laterality'], df2[['Primary Tumor Laterality']])\n",
        "\n",
        "mape_primary = recall_score(cols['Primary Tumor Laterality'], df2[['Primary Tumor Laterality']], average='macro')\n",
        "print('Error of Primary Tumor Laterality: ', round(1 - mape_primary, 2) * 100, '%')"
      ]
    },
    {
      "cell_type": "markdown",
      "id": "0b2c78f4-1130-47db-bf71-54e6d5539a20",
      "metadata": {},
      "source": [
        "Finally, let's drop all rows that do not have Patient's Vital Status data:\n"
      ]
    },
    {
      "cell_type": "code",
      "execution_count": null,
      "id": "ba2d55ed-32d1-472a-b39f-239186e60a71",
      "metadata": {},
      "outputs": [],
      "source": [
        "# simply drop whole row with NaN in \"Patient's Vital Status\" column\n",
        "df2.dropna(subset=[\"Patient's Vital Status\"], axis=0, inplace=True)\n",
        "\n",
        "# reset index, because we droped two rows\n",
        "df2.reset_index(drop=True, inplace=True)"
      ]
    },
    {
      "cell_type": "code",
      "execution_count": null,
      "id": "300b4203-aa14-427b-aa3a-34b9b9244de5",
      "metadata": {},
      "outputs": [],
      "source": [
        "df2.head()"
      ]
    },
    {
      "cell_type": "markdown",
      "id": "65395b9e-caec-421d-bd76-da0ed8d1851e",
      "metadata": {},
      "source": [
        "We can notice that the errors we calculated are insignificant which is acceptable. So we can go back to our original <b>df</b> data and replace the empty values.\n",
        "\n",
        "Let's create two arrays in which we will write the names of the columns in which we will replace empty values. Data from the first array will be replaced by the mean. Data from the second array are replaced by the most frequent.\n"
      ]
    },
    {
      "cell_type": "code",
      "execution_count": null,
      "id": "a2c8aa87-ce0f-4f65-8956-e586b32b4065",
      "metadata": {},
      "outputs": [],
      "source": [
        "col_mean = [\"Age at Diagnosis\", \"Nottingham prognostic index\", \"Overall Survival (Months)\",\n",
        "            \"Relapse Free Status (Months)\", \"Tumor Size\", ]\n",
        "col_freq = [\"Type of Breast Surgery\", \"Cellularity\", \"Chemotherapy\", \"Pam50 + Claudin-low subtype\", \"Cohort\",\n",
        "            \"ER status measured by IHC\", \"ER Status\", \"Neoplasm Histologic Grade\", \"HER2 status measured by SNP6\", \"HER2 Status\", \"Tumor Other Histologic Subtype\", \"Hormone Therapy\", \"Inferred Menopausal State\", \"Integrative Cluster\", \"Primary Tumor Laterality\", \"Lymph nodes examined positive\", \"Mutation Count\", \"Oncotree Code\", \"Overall Survival Status\", \"PR Status\", \"Radio Therapy\", \"Relapse Free Status\", \"3-Gene classifier subtype\", \"Tumor Stage\", \"Patient's Vital Status\"]"
      ]
    },
    {
      "cell_type": "markdown",
      "id": "ac1c8207-dd27-4bee-ad8e-193eca6668cb",
      "metadata": {},
      "source": [
        "Calculate the mean values for the <b>col_mean</b> array and replace them."
      ]
    },
    {
      "cell_type": "code",
      "execution_count": null,
      "id": "830f7f26-11ab-46c6-9151-1d73f55bf04c",
      "metadata": {},
      "outputs": [],
      "source": [
        "#Calculate the mean values for \"col_mean\" array\n",
        "\n",
        "for c in col_mean:\n",
        "    avg_c = df[c].astype('float').mean(axis=0)\n",
        "    print(c, \":\", round(avg_c, 2))\n",
        "    df[c].replace(np.nan, avg_c, inplace=True)\n"
      ]
    },
    {
      "cell_type": "markdown",
      "id": "eab552a4-1719-4a4d-b57f-df3bffe38e6f",
      "metadata": {},
      "source": [
        "Let's determine the most common that value in the array using the \".idxmax()\" and replace them."
      ]
    },
    {
      "cell_type": "code",
      "execution_count": null,
      "id": "b102ed44-5d8b-4fc0-b058-26329c34c54c",
      "metadata": {},
      "outputs": [],
      "source": [
        "#replace the missing values for \"col_freq\" array by the most frequent\n",
        "\n",
        "for c in col_freq:\n",
        "    max_value = df[c].value_counts().idxmax()\n",
        "    #replace the missing values by the most frequent\n",
        "    df[c].replace(np.nan, max_value, inplace=True)\n",
        "\n",
        "df.head()"
      ]
    },
    {
      "cell_type": "markdown",
      "id": "8a7fcea0-6ff9-4f07-9d08-604467043c90",
      "metadata": {},
      "source": [
        "<b>Good!</b> Now, we have a dataset with no missing values.\n"
      ]
    },
    {
      "cell_type": "markdown",
      "id": "d365c3d7-0c5a-4aa6-ae09-b13b5baa5ebc",
      "metadata": {},
      "source": [
        "<p id=\"correct_data_format\"></p>\n",
        "<h3>Correct data format</h3>\n",
        "<b>We are almost there!</b>\n",
        "<p>The last step in data cleaning is checking and making sure that all data is in the correct format (int, float, text or other).</p>\n",
        "\n",
        "In Pandas, we use:\n",
        "\n",
        "<p><b>.dtype()</b> to check the data type</p>\n",
        "<p><b>.astype()</b> to change the data type</p>\n"
      ]
    },
    {
      "cell_type": "markdown",
      "id": "5e6c0229-e9f6-4ec0-be4c-6bfcbcbff8a7",
      "metadata": {},
      "source": [
        "<h4>Let's list the data types for each column</h4>\n"
      ]
    },
    {
      "cell_type": "code",
      "execution_count": null,
      "id": "cbc128e3-c6f9-4ffb-8dbc-b2fac8636f8b",
      "metadata": {},
      "outputs": [],
      "source": [
        "df.dtypes"
      ]
    },
    {
      "cell_type": "markdown",
      "id": "349dcea3-74d5-4802-b22e-f3b0c544e32d",
      "metadata": {},
      "source": [
        "<p>As we can see above, some columns are not of the correct data type. Numerical variables should have type 'float' or 'int', and variables with strings such as categories should have type 'object'. For example, 'Cohort' and 'Neoplasm Histologic Grade' they are shown as type 'float', although they must be of type 'int'. We have to convert data types into a proper format for each column using the \"astype()\" method.</p>\n"
      ]
    },
    {
      "cell_type": "markdown",
      "id": "ee493412-6913-4d6d-96ce-b5e8bb2a0dd1",
      "metadata": {},
      "source": [
        "<h4>Convert data types to proper format</h4>\n"
      ]
    },
    {
      "cell_type": "code",
      "execution_count": null,
      "id": "33f034d0-e7a3-4d53-aecb-6c8f66f5cfcb",
      "metadata": {},
      "outputs": [],
      "source": [
        "col_int = [\"Cohort\", \"Neoplasm Histologic Grade\",\"Lymph nodes examined positive\", \"Mutation Count\", \"Tumor Stage\"]\n",
        "\n",
        "col_cat = list(df.select_dtypes(include=['object']).columns)\n",
        "#exceprt column \"Patient ID\"\n",
        "col_cat = col_cat[1:]\n",
        "\n",
        "col_bool = [\"Chemotherapy\", \"Hormone Therapy\", \"Radio Therapy\"]\n",
        "\n",
        "df[col_int] = df[col_int].astype(\"int\")\n",
        "df[col_cat] = df[col_cat].astype(\"category\")\n",
        "for c in col_bool:\n",
        "    df[c] = df[c].map({'Yes': True, 'No': False})\n",
        "\n",
        "df[col_bool] = df[col_bool].astype(\"bool\")"
      ]
    },
    {
      "cell_type": "markdown",
      "id": "afc5d7ef-fe67-4472-99e5-d1bf82124aaa",
      "metadata": {},
      "source": [
        "<h4>Let us list the columns after the conversion</h4>\n"
      ]
    },
    {
      "cell_type": "code",
      "execution_count": null,
      "id": "2261a4a7-c8b6-41d1-9bc2-48943e477e6e",
      "metadata": {},
      "outputs": [],
      "source": [
        "df.dtypes"
      ]
    },
    {
      "cell_type": "markdown",
      "id": "4759ad66-4c0e-47c0-b644-22692a40c1e4",
      "metadata": {},
      "source": [
        "<b>Wonderful!</b>\n",
        "\n",
        "Now we have finally obtained the cleaned dataset with no missing values with all data in its proper format.\n"
      ]
    },
    {
      "cell_type": "markdown",
      "id": "76420639-229a-4811-996f-c5dc46a19c48",
      "metadata": {},
      "source": [
        "<p id=\"data_standardization\"></p>\n",
        "<h2>2. Data Standardization</h2>\n",
        "<p>\n",
        "Data is usually collected from different agencies in different formats.\n",
        "(Data standardization is also a term for a particular type of data normalization where we subtract the mean and divide by the standard deviation.)\n",
        "</p>\n",
        "\n",
        "<b>What is standardization?</b>\n",
        "\n",
        "<p>Standardization is the process of transforming data into a common format, allowing the researcher to make the meaningful comparison.\n",
        "</p>\n",
        "\n",
        "<b>Example</b>\n",
        "\n",
        "<p>Transform months to years:</p>\n",
        "<p>In our dataset, there are two columns in which the values are presented in months.</p>\n",
        "<p>We will need to apply <b>data transformation</b> to transform months to years.</p>\n"
      ]
    },
    {
      "cell_type": "markdown",
      "id": "7665544b-84e9-44bb-b283-e994cd418c27",
      "metadata": {},
      "source": [
        "<p>We can do many mathematical operations directly in Pandas.</p>\n"
      ]
    },
    {
      "cell_type": "code",
      "execution_count": null,
      "id": "5b8b2974-90db-4e28-9d30-65b43cf8f67d",
      "metadata": {},
      "outputs": [],
      "source": [
        "df.head()"
      ]
    },
    {
      "cell_type": "code",
      "execution_count": null,
      "id": "7c412a1a-5072-4b79-bb89-3a7f22c4bdb2",
      "metadata": {},
      "outputs": [],
      "source": [
        "# Convert months to years by mathematical operation (Divide months by 12)\n",
        "df['Overall Survival (Years)'] = df[\"Overall Survival (Months)\"]/12\n",
        "\n",
        "df = df.drop(columns='Overall Survival (Months)')\n",
        "\n",
        "# check your transformed data\n",
        "df.head()"
      ]
    },
    {
      "cell_type": "markdown",
      "id": "819c3b69-5ee9-4b98-a2b3-c28da5482560",
      "metadata": {},
      "source": [
        "<div class=\"alert alert-danger alertdanger\" style=\"margin-top: 20px\">\n",
        "<h1> Question  #2: </h1>\n",
        "\n",
        "<b>According to the example above, transform months to years in the column of \"Relapse Free Status (Years)\".</b>\n",
        "\n",
        "</div>\n"
      ]
    },
    {
      "cell_type": "code",
      "execution_count": null,
      "id": "708560f7-a851-40bc-af4f-1d9e7e5e3dd4",
      "metadata": {},
      "outputs": [],
      "source": [
        "# Write your code below and press Shift+Enter to execute \n"
      ]
    },
    {
      "cell_type": "markdown",
      "id": "2ffe7d49-eb0a-4a50-bf16-b3532816095b",
      "metadata": {},
      "source": [
        "<details><summary>Click here for the solution</summary>\n",
        "\n",
        "```python\n",
        "# Convert months to years by mathematical operation (Divide months by 12)\n",
        "df[\"Relapse Free Status (Years)\"] = df[\"Relapse Free Status (Months)\"]/12\n",
        "\n",
        "# check your transformed data\n",
        "df.head()\n",
        "\n",
        "```\n",
        "\n",
        "</details>\n"
      ]
    },
    {
      "cell_type": "markdown",
      "id": "dc0faa41-0e76-40e5-8d4b-16ae8bfb720f",
      "metadata": {},
      "source": [
        "<p id=\"data_normalization\"></p>\n",
        "<h2>3. Data Normalization</h2>\n",
        "\n",
        "<b>Why normalization?</b>\n",
        "\n",
        "<p>Normalization is the process of transforming values of several variables into a similar range. Typical normalizations include scaling the variable so the variable average is 0, scaling the variable so the variance is 1, or scaling the variable so the variable values range from 0 to 1.\n",
        "</p>\n",
        "\n",
        "<b>Example</b>\n",
        "\n",
        "<p>To demonstrate normalization, let's say we want to scale the column \"Tumor Size\".</p>\n",
        "<p><b>Target:</b> would like to normalize this variable so their value ranges from 0 to 1</p>\n"
      ]
    },
    {
      "cell_type": "code",
      "execution_count": null,
      "id": "181275a6-bbad-447a-99a4-cbe8c3acafa4",
      "metadata": {},
      "outputs": [],
      "source": [
        "# replace (original value) by MinMaxScaler values\n",
        "\n",
        "scaler = preprocessing.MinMaxScaler()\n",
        "df['Tumor Size']  = scaler.fit_transform(df[['Tumor Size']])\n",
        "\n",
        "# show the scaled column\n",
        "df[[\"Tumor Size\"]].head()"
      ]
    },
    {
      "cell_type": "markdown",
      "id": "b80f94b9-9e68-4001-a82c-bb66f7a8a408",
      "metadata": {},
      "source": [
        "<div class=\"alert alert-danger alertdanger\" style=\"margin-top: 20px\">\n",
        "<h1> Question #3: </h1>\n",
        "\n",
        "<b>According to the task above, normalize the data by another method. Replace original value by (original value)/(maximum value)</b>\n",
        "\n",
        "</div>\n"
      ]
    },
    {
      "cell_type": "code",
      "execution_count": null,
      "id": "c50b4195-922b-4b2a-84b3-0c60362c6559",
      "metadata": {},
      "outputs": [],
      "source": [
        "# Write your code below and press Shift+Enter to execute\n"
      ]
    },
    {
      "cell_type": "markdown",
      "id": "39038bad-c71d-4ff7-ac68-ba2bde5ebca3",
      "metadata": {},
      "source": [
        "<details><summary>Click here for the solution</summary>\n",
        "\n",
        "```python\n",
        "df['Tumor Size'] = df['Tumor Size']/df['Tumor Size'].max()\n",
        "\n",
        "# show the scaled column\n",
        "df[[\"Tumor Size\"]].head()\n",
        "\n",
        "\n",
        "```\n",
        "\n",
        "</details>\n"
      ]
    },
    {
      "cell_type": "markdown",
      "id": "6c34b794-dbba-40dc-b861-2bc86f7e7bee",
      "metadata": {},
      "source": [
        "Here we can see we've normalized column \"Tumor Size\" in the range of \\[0,1].\n"
      ]
    },
    {
      "cell_type": "markdown",
      "id": "fda2400d-7325-4735-bf49-ad2778a17500",
      "metadata": {},
      "source": [
        "<p id=\"binning\"></p>\n",
        "<h2>4. Binning</h2>\n",
        "<b>Why binning?</b>\n",
        "<p>\n",
        "    Binning is a process of transforming continuous numerical variables into discrete categorical 'bins' for grouped analysis.\n",
        "</p>\n",
        "\n",
        "<b>Example: </b>\n",
        "\n",
        "<p>In our dataset, \"Nottingham prognostic index\" is a real valued variable ranging from 1 to 7. What if we only care about the difference between patients with high index, medium index, and little index (3 types)? Can we rearrange them into three ‘bins' to simplify analysis? </p>\n",
        "\n",
        "<p>We will use the pandas method 'cut' to segment the 'Nottingham prognostic index' column into 3 bins.</p>\n"
      ]
    },
    {
      "cell_type": "markdown",
      "id": "5eaada66-3357-477e-b133-01508a4cc61d",
      "metadata": {},
      "source": [
        "<h3>Example of Binning Data In Pandas</h3>\n"
      ]
    },
    {
      "cell_type": "markdown",
      "id": "6b89e47e-4be8-4928-9520-fb15710cbd47",
      "metadata": {},
      "source": [
        "Convert data to correct format:\n"
      ]
    },
    {
      "cell_type": "code",
      "execution_count": null,
      "id": "8c63a027-0d8f-4497-985a-e9adc95ac90f",
      "metadata": {},
      "outputs": [],
      "source": [
        "df[\"Nottingham prognostic index\"]=df[\"Nottingham prognostic index\"].astype(int, copy=True)"
      ]
    },
    {
      "cell_type": "markdown",
      "id": "9fa2133d-bc70-4665-9de7-188f611d299d",
      "metadata": {},
      "source": [
        "Let's plot the histogram of Nottingham prognostic index to see what the distribution of Nottingham prognostic index looks like.\n",
        "\n"
      ]
    },
    {
      "cell_type": "code",
      "execution_count": null,
      "id": "4578df75-bcb7-4914-8b9e-8923ccfd4d86",
      "metadata": {},
      "outputs": [],
      "source": [
        "plt.pyplot.hist(df[\"Nottingham prognostic index\"])\n",
        "\n",
        "# set x/y labels and plot title\n",
        "plt.pyplot.xlabel(\"Nottingham prognostic index\")\n",
        "plt.pyplot.ylabel(\"count\")\n",
        "plt.pyplot.title(\"Nottingham prognostic index bins\")"
      ]
    },
    {
      "cell_type": "markdown",
      "id": "f7c6aa12-4dee-4873-bdc6-11047da28416",
      "metadata": {},
      "source": [
        "<p>We would like 3 bins of equal size bandwidth so we use numpy's <code>linspace(start_value, end_value, numbers_generated</code> function.</p>\n",
        "<p>Since we want to include the minimum value of Nottingham prognostic index, we want to set start_value = min(df[\"Nottingham prognostic index\"]).</p>\n",
        "<p>Since we want to include the maximum value of Nottingham prognostic index, we want to set end_value = max(df[\"Nottingham prognostic index\"]).</p>\n",
        "<p>Since we are building 3 bins of equal length, there should be 4 dividers, so numbers_generated = 4.</p>\n"
      ]
    },
    {
      "cell_type": "markdown",
      "id": "80ccd0f5-7222-4a4a-8956-e4737290dd61",
      "metadata": {},
      "source": [
        "We build a bin array with a minimum value to a maximum value by using the bandwidth calculated above. The values will determine when one bin ends and another begins.\n"
      ]
    },
    {
      "cell_type": "code",
      "execution_count": null,
      "id": "13ad6d21-afc1-4879-8929-7030134eb6e7",
      "metadata": {},
      "outputs": [],
      "source": [
        "bins = np.linspace(min(df[\"Nottingham prognostic index\"]), max(df[\"Nottingham prognostic index\"]), 4)\n",
        "bins"
      ]
    },
    {
      "cell_type": "markdown",
      "id": "e5899c9b-b5c6-476b-a407-1b8501589f3f",
      "metadata": {},
      "source": [
        "We set group  names:\n"
      ]
    },
    {
      "cell_type": "code",
      "execution_count": null,
      "id": "c282a950-1e8b-47b2-8b0d-dc0e8fe39173",
      "metadata": {},
      "outputs": [],
      "source": [
        "group_names = ['Low', 'Medium', 'High']"
      ]
    },
    {
      "cell_type": "markdown",
      "id": "d9ef513c-1124-4437-94cf-c90dc2497d12",
      "metadata": {},
      "source": [
        "We apply the function \"cut\" to determine what each value of `df['Nottingham prognostic index']` belongs to.\n"
      ]
    },
    {
      "cell_type": "code",
      "execution_count": null,
      "id": "2cd8edab-81f0-4d30-bcc9-2b9d5335576c",
      "metadata": {},
      "outputs": [],
      "source": [
        "df['Nottingham prognostic index-binned'] = pd.cut(df['Nottingham prognostic index'], bins, labels=group_names, include_lowest=True )\n",
        "df[['Nottingham prognostic index','Nottingham prognostic index-binned']].head(20)"
      ]
    },
    {
      "cell_type": "markdown",
      "id": "86cd5f76-c433-42df-8f7e-e4d577a5c7e9",
      "metadata": {},
      "source": [
        "Let's see the number of patients in each bin:\n"
      ]
    },
    {
      "cell_type": "code",
      "execution_count": null,
      "id": "7477497b-aaed-4ea1-9f03-cf0d1ff6bf63",
      "metadata": {},
      "outputs": [],
      "source": [
        "df[\"Nottingham prognostic index-binned\"].value_counts()"
      ]
    },
    {
      "cell_type": "markdown",
      "id": "c4324b22-06c3-4efd-8a41-638c3c55f4b9",
      "metadata": {},
      "source": [
        "Let's plot the distribution of each bin:\n",
        "\n"
      ]
    },
    {
      "cell_type": "code",
      "execution_count": null,
      "id": "31761eb9-8c55-4af6-a28a-4ede6f4300c6",
      "metadata": {},
      "outputs": [],
      "source": [
        "pyplot.bar(group_names, df[\"Nottingham prognostic index-binned\"].value_counts())\n",
        "\n",
        "# set x/y labels and plot title\n",
        "plt.pyplot.xlabel(\"Nottingham prognostic index\")\n",
        "plt.pyplot.ylabel(\"count\")\n",
        "plt.pyplot.title(\"Nottingham prognostic index bins\")"
      ]
    },
    {
      "cell_type": "markdown",
      "id": "5b63c4b6-9f15-4731-816c-288d20423ec9",
      "metadata": {},
      "source": [
        "<p>\n",
        "    Look at the dataframe above carefully. You will find that the last column provides the bins for \"Nottingham prognostic index\" based on 3 categories (\"Low\", \"Medium\" and \"High\").\n",
        "</p>\n"
      ]
    },
    {
      "cell_type": "markdown",
      "id": "c5bcc8f0-962a-49f9-b3bd-30f82ebaf493",
      "metadata": {},
      "source": [
        "<h3>Bins Visualization</h3>\n",
        "Normally, a histogram is used to visualize the distribution of bins we created above. \n",
        "\n",
        "\n"
      ]
    },
    {
      "cell_type": "code",
      "execution_count": null,
      "id": "a0124434-f7ad-44f2-a462-6d25869a4ed7",
      "metadata": {},
      "outputs": [],
      "source": [
        "# draw histogram of attribute \"Nottingham prognostic index\" with bins = 3\n",
        "plt.pyplot.hist(df[\"Nottingham prognostic index\"], bins = 3)\n",
        "\n",
        "# set x/y labels and plot title\n",
        "plt.pyplot.xlabel(\"Nottingham prognostic index\")\n",
        "plt.pyplot.ylabel(\"count\")\n",
        "plt.pyplot.title(\"Nottingham prognostic index bins\")"
      ]
    },
    {
      "cell_type": "markdown",
      "id": "2dcead12-bca2-4908-9f9b-509ec170a3a6",
      "metadata": {},
      "source": [
        "The plot above shows the binning result for the attribute \"Nottingham prognostic index\".\n"
      ]
    },
    {
      "cell_type": "markdown",
      "id": "823c702d-0a2c-4cf1-a09c-b2a352723a08",
      "metadata": {},
      "source": [
        "<p id=\"indicator\"></p>\n",
        "<h2>5. Indicator Variable (or Dummy Variable)</h2>\n",
        "<b>What is an indicator variable?</b>\n",
        "<p>\n",
        "    An indicator variable (or dummy variable) is a numerical variable used to label categories. They are called 'dummies' because the numbers themselves don't have inherent meaning. \n",
        "</p>\n",
        "\n",
        "<b>Why we use indicator variables?</b>\n",
        "\n",
        "<p>\n",
        "    We use indicator variables so we can use categorical variables for regression analysis in the later modules.\n",
        "</p>\n",
        "<b>Example</b>\n",
        "<p>\n",
        "    We see the column \"Inferred Menopausal State\" has two unique values: \"Post\" or \"Pre\". Regression doesn't understand words, only numbers. To use this attribute in regression analysis, we convert \"Inferred Menopausal State\" to indicator variables.\n",
        "</p>\n",
        "\n",
        "<p>\n",
        "    We will use pandas' method 'get_dummies' to assign numerical values to different categories of fuel type. \n",
        "</p>\n"
      ]
    },
    {
      "cell_type": "code",
      "execution_count": null,
      "id": "a9309ed9-e26e-4bbb-a366-01b83013e30a",
      "metadata": {},
      "outputs": [],
      "source": [
        "df.columns"
      ]
    },
    {
      "cell_type": "markdown",
      "id": "a8c8d2ce-2aaf-4c46-81b2-e85cc6971b22",
      "metadata": {},
      "source": [
        "Get the indicator variables and assign it to data frame \"dummy_variable\\_1\":\n"
      ]
    },
    {
      "cell_type": "code",
      "execution_count": null,
      "id": "ca124c5a-e311-4559-b1d1-eb1aa45684e2",
      "metadata": {},
      "outputs": [],
      "source": [
        "dummy_variable_1 = pd.get_dummies(df[\"Inferred Menopausal State\"])\n",
        "dummy_variable_1.head()"
      ]
    },
    {
      "cell_type": "markdown",
      "id": "d3799d54-aae9-4d5e-a986-5ce3a7075a1e",
      "metadata": {},
      "source": [
        "Change the column names for clarity:\n"
      ]
    },
    {
      "cell_type": "code",
      "execution_count": null,
      "id": "793f89f9-c586-4cd8-9c7d-df7ba39d70a6",
      "metadata": {},
      "outputs": [],
      "source": [
        "dummy_variable_1.rename(columns={'Post':'Inferred Menopausal State-Post',\n",
        "                                 'Pre':'Inferred Menopausal State-Pre'}, inplace=True)\n",
        "dummy_variable_1.head()"
      ]
    },
    {
      "cell_type": "markdown",
      "id": "862cb4a7-88fa-4556-a634-df09687a8ca5",
      "metadata": {},
      "source": [
        "In the dataframe, column 'Inferred Menopausal State' has values for 'Post' and 'Pre' as 0s and 1s now.\n"
      ]
    },
    {
      "cell_type": "code",
      "execution_count": null,
      "id": "2e841a00-8498-4a98-89c5-73396bc49ee0",
      "metadata": {},
      "outputs": [],
      "source": [
        "# merge data frame \"df\" and \"dummy_variable_1\" \n",
        "df = pd.concat([df, dummy_variable_1], axis=1)\n",
        "\n",
        "# drop original column \"Inferred Menopausal State\" from \"df\"\n",
        "df.drop(\"Inferred Menopausal State\", axis = 1, inplace=True)"
      ]
    },
    {
      "cell_type": "code",
      "execution_count": null,
      "id": "9ed7d2b2-7d39-437e-97b6-a1901940bfbf",
      "metadata": {},
      "outputs": [],
      "source": [
        "df.head()"
      ]
    },
    {
      "cell_type": "markdown",
      "id": "2073a8a3-66ca-4b20-8d6a-b7eb369d0b3c",
      "metadata": {},
      "source": [
        "The last two columns are now the indicator variable representation of the Inferred Menopausal State variable. They're all 0s and 1s now.\n"
      ]
    },
    {
      "cell_type": "markdown",
      "id": "1a0f209f-26f3-4d3e-965f-49503056076f",
      "metadata": {},
      "source": [
        "<div class=\"alert alert-danger alertdanger\" style=\"margin-top: 20px\">\n",
        "<h1> Question  #4: </h1>\n",
        "\n",
        "<b>Similar to before, create an indicator variable for the column \"Relapse Free Status\"</b>\n",
        "\n",
        "</div>\n"
      ]
    },
    {
      "cell_type": "code",
      "execution_count": null,
      "id": "a1faedf4-2dfc-4b39-8409-33380b2b046e",
      "metadata": {},
      "outputs": [],
      "source": [
        "# Write your code below and press Shift+Enter to execute\n"
      ]
    },
    {
      "cell_type": "markdown",
      "id": "694c1c2f-e673-48ab-bc1f-e02742d25142",
      "metadata": {},
      "source": [
        "<details><summary>Click here for the solution</summary>\n",
        "\n",
        "```python\n",
        "# get indicator variables of aspiration and assign it to data frame \"dummy_variable_2\"\n",
        "dummy_variable_2 = pd.get_dummies(df['Relapse Free Status'])\n",
        "\n",
        "# change column names for clarity\n",
        "dummy_variable_2.rename(columns={'Recurred':'Relapse Free Status-Recurred', 'Not Recurred': 'Relapse Free Status-Not Recurred'}, inplace=True)\n",
        "\n",
        "# show first 5 instances of data frame \"dummy_variable_1\"\n",
        "dummy_variable_2.head()\n",
        "```\n",
        "\n",
        "</details>\n"
      ]
    },
    {
      "cell_type": "markdown",
      "id": "fd434b29-7474-41a3-b35f-0c89a311aab7",
      "metadata": {},
      "source": [
        " <div class=\"alert alert-danger alertdanger\" style=\"margin-top: 20px\">\n",
        "<h1> Question  #5: </h1>\n",
        "\n",
        "<b>Merge the new dataframe to the original dataframe, then drop the column 'aspiration'.</b>\n",
        "\n",
        "</div>\n"
      ]
    },
    {
      "cell_type": "code",
      "execution_count": null,
      "id": "b5d066a7-fedf-4c54-937b-93585bd07288",
      "metadata": {},
      "outputs": [],
      "source": [
        "# Write your code below and press Shift+Enter to execute \n"
      ]
    },
    {
      "cell_type": "markdown",
      "id": "d2f23bff-5a5f-406b-9d9f-81a86876d697",
      "metadata": {},
      "source": [
        "<details><summary>Click here for the solution</summary>\n",
        "\n",
        "```python\n",
        "# merge the new dataframe to the original datafram\n",
        "df = pd.concat([df, dummy_variable_2], axis=1)\n",
        "\n",
        "# drop original column \"aspiration\" from \"df\"\n",
        "df.drop('Relapse Free Status', axis = 1, inplace=True)\n",
        "```\n",
        "\n",
        "</details>\n"
      ]
    },
    {
      "cell_type": "code",
      "execution_count": null,
      "id": "86ab1141-f362-4929-af95-4f006deef9bd",
      "metadata": {},
      "outputs": [],
      "source": [
        "df.to_csv('breast_cancer_clean')"
      ]
    },
    {
      "cell_type": "markdown",
      "id": "0b4a9e22-f2a1-48ce-8bb2-302a40d1d174",
      "metadata": {},
      "source": [
        "Save the new csv."
      ]
    },
    {
      "cell_type": "markdown",
      "id": "2bc824a8-e3cc-498c-b80a-d710d25962ed",
      "metadata": {},
      "source": [
        "### Thank you for completing this lab!\n",
        "\n",
        "## Author\n",
        "\n",
        "<a href=\"https://author.skills.network/instructors/dmytro_shliakhovskyi\">Dmytro Shliakhovskyi</a>\n",
        "\n",
        "### Other Contributors\n",
        "\n",
        "<a href=\"https://author.skills.network/instructors/yaroslav_vyklyuk_2\">Prof. Yaroslav Vyklyuk, DrSc, PhD</a>\n",
        "\n",
        "<a href=\"https://author.skills.network/instructors/nataliya_boyko\">Ass. Prof. Nataliya Boyko, PhD</a>\n",
        "\n",
        "\n",
        "## Change Log\n",
        "\n",
        "| Date (YYYY-MM-DD) | Version | Changed By | Change Description                                         |\n",
        "| ----------------- | ------- | ---------- | ---------------------------------------------------------- |\n",
        "|    2023-03-04     | 01 | Dmytro Shliakhovkyi | Lab created |\n",
        "\n",
        "\n",
        "\n",
        "<hr>\n",
        "\n",
        "## <h3 align=\"center\"> © IBM Corporation 2020. All rights reserved. <h3/>\n"
      ]
    }
  ],
  "metadata": {
    "kernelspec": {
      "display_name": "Python 3",
      "language": "python",
      "name": "python3"
    },
    "language_info": {
      "codemirror_mode": {
        "name": "ipython",
        "version": 3
      },
      "file_extension": ".py",
      "mimetype": "text/x-python",
      "name": "python",
      "nbconvert_exporter": "python",
      "pygments_lexer": "ipython3",
      "version": "3.10.9"
    }
  },
  "nbformat": 4,
  "nbformat_minor": 4
}
