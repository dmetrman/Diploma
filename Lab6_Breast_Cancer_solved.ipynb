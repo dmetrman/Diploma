{
 "cells": [
  {
   "cell_type": "markdown",
   "id": "477e5dd6-c44a-4985-b2fd-f5ea61a435d7",
   "metadata": {},
   "source": [
    "<center>\n",
    "    <img src=\"https://cf-courses-data.s3.us.cloud-object-storage.appdomain.cloud/assets/logos/SN_web_lightmode.png\" width=\"300\" alt=\"cognitiveclass.ai logo\">\n",
    "</center>\n",
    "\n",
    "# Predicting the patient's status\n",
    "\n",
    "Estimated time needed: **30** minutes\n",
    "\n",
    "## Objectives\n",
    "\n",
    "After completing this lab you will be able to:\n",
    "\n",
    "*   Be confident about your data analysis skills\n",
    "\n",
    "The statistical data obtained from <a href=\"https://www.kaggle.com/datasets/raghadalharbi/breast-cancer-gene-expression-profiles-metabric\">https://www.kaggle.com/datasets/raghadalharbi/breast-cancer-gene-expression-profiles-metabric</a> under <a href=\"https://opendatacommons.org/licenses/dbcl/1-0/\" target=\"_blank\">Database: Open Database, Contents: Database Contents</a> license.\n",
    "\n",
    "The Molecular Taxonomy of Breast Cancer International Consortium (METABRIC) database is a Canada-UK Project which contains targeted sequencing data of 1,980 primary breast cancer samples. Clinical and genomic data was downloaded from cBioPortal.\n",
    "\n",
    "The dataset was collected by Professor Carlos Caldas from Cambridge Research Institute and Professor Sam Aparicio from the British Columbia Cancer Centre in Canada and published on Nature Communications (Pereira et al., 2016). It was also featured in multiple papers including Nature and others."
   ]
  },
  {
   "cell_type": "markdown",
   "id": "0ba1bef6-6b79-4aa7-a3f9-c7dbaf60fe60",
   "metadata": {},
   "source": [
    "<h4>You will need the following libraries</h4>"
   ]
  },
  {
   "cell_type": "code",
   "execution_count": 1,
   "id": "4b4442a7-6fbc-4cc8-ac45-a78019bfd276",
   "metadata": {
    "ExecuteTime": {
     "end_time": "2023-04-11T00:53:47.408486Z",
     "start_time": "2023-04-11T00:53:47.383475Z"
    }
   },
   "outputs": [],
   "source": [
    "# !pip install scikit-learn"
   ]
  },
  {
   "cell_type": "code",
   "execution_count": 2,
   "id": "f3f27a8a-128a-42f6-b189-009a6f4ba04b",
   "metadata": {
    "ExecuteTime": {
     "end_time": "2023-04-11T00:53:47.422487Z",
     "start_time": "2023-04-11T00:53:47.410482Z"
    }
   },
   "outputs": [],
   "source": [
    "# !pip install imblearn"
   ]
  },
  {
   "cell_type": "code",
   "execution_count": 3,
   "id": "f65eb348-fb1a-4ddb-a5c5-e69e2e0153d2",
   "metadata": {
    "ExecuteTime": {
     "end_time": "2023-04-11T00:53:47.428485Z",
     "start_time": "2023-04-11T00:53:47.418488Z"
    }
   },
   "outputs": [],
   "source": [
    "# !pip install dython"
   ]
  },
  {
   "cell_type": "code",
   "execution_count": 4,
   "id": "3b1e679d-9179-42a0-b7de-e2392d6038d5",
   "metadata": {},
   "outputs": [
    {
     "ename": "ModuleNotFoundError",
     "evalue": "No module named 'imblearn'",
     "output_type": "error",
     "traceback": [
      "\u001b[1;31m---------------------------------------------------------------------------\u001b[0m",
      "\u001b[1;31mModuleNotFoundError\u001b[0m                       Traceback (most recent call last)",
      "Cell \u001b[1;32mIn[4], line 10\u001b[0m\n\u001b[0;32m      8\u001b[0m \u001b[38;5;28;01mfrom\u001b[39;00m \u001b[38;5;21;01msklearn\u001b[39;00m \u001b[38;5;28;01mimport\u001b[39;00m set_config\n\u001b[0;32m      9\u001b[0m \u001b[38;5;28;01mfrom\u001b[39;00m \u001b[38;5;21;01msklearn\u001b[39;00m\u001b[38;5;21;01m.\u001b[39;00m\u001b[38;5;21;01mmodel_selection\u001b[39;00m \u001b[38;5;28;01mimport\u001b[39;00m train_test_split\n\u001b[1;32m---> 10\u001b[0m \u001b[38;5;28;01mfrom\u001b[39;00m \u001b[38;5;21;01mimblearn\u001b[39;00m\u001b[38;5;21;01m.\u001b[39;00m\u001b[38;5;21;01mpipeline\u001b[39;00m \u001b[38;5;28;01mimport\u001b[39;00m make_pipeline\n\u001b[0;32m     11\u001b[0m \u001b[38;5;28;01mfrom\u001b[39;00m \u001b[38;5;21;01msklearn\u001b[39;00m\u001b[38;5;21;01m.\u001b[39;00m\u001b[38;5;21;01mmetrics\u001b[39;00m \u001b[38;5;28;01mimport\u001b[39;00m plot_confusion_matrix\n\u001b[0;32m     12\u001b[0m \u001b[38;5;28;01mfrom\u001b[39;00m \u001b[38;5;21;01mimblearn\u001b[39;00m\u001b[38;5;21;01m.\u001b[39;00m\u001b[38;5;21;01mover_sampling\u001b[39;00m \u001b[38;5;28;01mimport\u001b[39;00m RandomOverSampler\n",
      "\u001b[1;31mModuleNotFoundError\u001b[0m: No module named 'imblearn'"
     ]
    }
   ],
   "source": [
    "import pandas as pd\n",
    "import numpy as np\n",
    "import matplotlib.pyplot as plt\n",
    "import matplotlib as mpl\n",
    "import seaborn as sns\n",
    "from sklearn.preprocessing import LabelEncoder, OrdinalEncoder, StandardScaler, MinMaxScaler\n",
    "from sklearn.compose import make_column_transformer\n",
    "from sklearn import set_config\n",
    "from sklearn.model_selection import train_test_split\n",
    "from imblearn.pipeline import make_pipeline\n",
    "from sklearn.metrics import plot_confusion_matrix\n",
    "from imblearn.over_sampling import RandomOverSampler\n",
    "from sklearn.linear_model import LogisticRegression\n",
    "from sklearn.svm import SVC\n",
    "from sklearn.ensemble import RandomForestClassifier, AdaBoostClassifier\n",
    "from sklearn.neural_network import MLPClassifier\n",
    "from sklearn.ensemble import GradientBoostingClassifier\n",
    "from sklearn.ensemble import BaggingClassifier\n",
    "from sklearn.ensemble import VotingClassifier\n",
    "from sklearn import tree\n",
    "from sklearn.metrics import recall_score\n",
    "from dython.nominal import associations\n",
    "from sklearn.model_selection import cross_val_score\n",
    "from sklearn.model_selection import cross_val_predict\n",
    "from sklearn.ensemble import ExtraTreesClassifier\n",
    "from sklearn.tree import DecisionTreeClassifier, ExtraTreeClassifier"
   ]
  },
  {
   "cell_type": "markdown",
   "id": "3cf1c2a2-963b-4511-8e1d-38ae49fceca6",
   "metadata": {},
   "source": [
    "<div class=\"alert alert-danger alertdanger\" style=\"margin-top: 20px\">\n",
    "If error appeared, please restart kernel or run this block again.\n",
    "</div>\n"
   ]
  },
  {
   "cell_type": "markdown",
   "id": "8e0089ba-191c-4acf-9f32-ef7154e1d4c5",
   "metadata": {},
   "source": [
    "Let's disable warnings by **[warnings.filterwarnings()](https://docs.python.org/3/library/warnings.html)**"
   ]
  },
  {
   "cell_type": "code",
   "execution_count": null,
   "id": "cb51b0df-bc54-40ab-b47e-ce92f6e6e889",
   "metadata": {},
   "outputs": [],
   "source": [
    "import warnings\n",
    "warnings.filterwarnings('ignore')"
   ]
  },
  {
   "cell_type": "markdown",
   "id": "d090b743-3326-4c31-ad41-d92953ef11e2",
   "metadata": {},
   "source": [
    "<b>Importing the Data</b>\n"
   ]
  },
  {
   "cell_type": "markdown",
   "id": "9a2729e4-5b3b-42cf-a499-5aeee7f53bbe",
   "metadata": {},
   "source": [
    "Load the csv:\n"
   ]
  },
  {
   "cell_type": "code",
   "execution_count": null,
   "id": "2919910f-db85-4066-ba71-feca70da7a6b",
   "metadata": {},
   "outputs": [],
   "source": [
    "filename = \"https://cf-courses-data.s3.us.cloud-object-storage.appdomain.cloud/IBMSkillsNetwork-GPXX08UPEN/METABRIC_RNA_Mutation.csv\"\n",
    "df = pd.read_csv(filename)"
   ]
  },
  {
   "cell_type": "markdown",
   "id": "a48e3cc4-34d0-4559-b712-eeb477c591d0",
   "metadata": {},
   "source": [
    "We use the method  <code>head()</code>  to display the first 5 columns of the dataframe:"
   ]
  },
  {
   "cell_type": "code",
   "execution_count": null,
   "id": "2cd86a5e-2150-4c34-816a-a385050a236f",
   "metadata": {},
   "outputs": [],
   "source": [
    "df.head()"
   ]
  },
  {
   "cell_type": "markdown",
   "id": "7c15f03f-a3a8-4431-9709-efb9ef335d4a",
   "metadata": {},
   "source": [
    "<details>\n",
    "<summary><b>Click to see attribute information</b></summary>\n",
    "\n",
    "Input features (column names):\n",
    "\n",
    "    1. `patient_id` - Patient ID\n",
    "    2. `age_at_diagnosis` - Age of the patient at diagnosis time\n",
    "    3. `type_of_breast_surgery` - Breast cancer surgery type\n",
    "    4. `cancer_type` - Breast cancer types\n",
    "    5. `cancer_type_detailed` - Detailed Breast cancer types\n",
    "    6. `cellularity` - Cancer cellularity post-chemotherapy, which refers to the number of tumor cells in the specimen and their arrangement into clusters\n",
    "    7. `chemotherapy` - Whether or not the patient had chemotherapy as a treatment (yes/no)\n",
    "    8. `pam50_+_claudin-low_subtype` - Pam 50: is a tumor profiling test that helps show whether some estrogen receptor-positive (ER-positive), HER2-negative breast cancers are likely to metastasize (when breast cancer spreads to other organs).\n",
    "    9. `cohort` - A cohort is a group of subjects who share a defining characteristic\n",
    "    10. `er_status_measured_by_ihc` - To assess if estrogen receptors are expressed on cancer cells by using immune-histochemistry\n",
    "    11. `er_status` - Cancer cells are positive or negative for estrogen receptors\n",
    "    12. `neoplasm_histologic_grade` - Determined by pathology by looking at the nature of the cells, do they look aggressive or not\n",
    "    13. `her2_status_measured_by_snp6` - To assess if cancer positive for HER2 or not by using advanced molecular techniques\n",
    "    14. `her2_status` - Whether the cancer is positive or negative for HER2\n",
    "    15. `tumor_other_histologic_subtype` - Type of cancer based on microscopic examination of the cancer tissue\n",
    "    16. `hormone_therapy` - Whether or not the patient had hormonal as a treatment (yes/no)\n",
    "    17. `inferred_menopausal_state` - Whether the patient is is post-menopausal or not (post/pre)\n",
    "    18. `integrative_cluster` - Molecular subtype of cancer based on some gene expression\n",
    "    19. `primary_tumor_laterality` - Whether it is involving the right breast or the left breast\n",
    "    20. `lymph_nodes_examined_positive` - To take samples of the lymph node during the surgery and see if there were involved in the cancer\n",
    "    21. `mutation_count` - Number of a gene that has relevant mutations\n",
    "    22. `nottingham_prognostic_index` - It is used to determine the prognosis following surgery for breast cancer. Its value is calculated using three pathological criteria: the size of the tumor; the number of involved lymph nodes; and the grade of the tumor.\n",
    "    23. `oncotree_code` - The OncoTree is an open-source ontology that was developed at Memorial Sloan Kettering Cancer Center (MSK) for standardizing cancer-type diagnosis from a clinical perspective by assigning each diagnosis a unique OncoTree code.\n",
    "    24. `overall_survival_months` - Duration from the time of the intervention to death\n",
    "    25. `overall_survival` - Target variable whether the patient is alive or dead.\n",
    "    26. `pr_status` - Cancer cells are positive or negative for progesterone receptors\n",
    "    27. `radio_therapy` - Whether or not the patient had radio as a treatment (yes/no)\n",
    "    28. `3-gene_classifier_subtype` - Three Gene classifier subtype\n",
    "    29. `tumor_size` - Tumor size measured by imaging techniques\n",
    "    30. `tumor_stage` - Stage of cancer based on the involvement of surrounding structures, lymph nodes, and distant spread\n",
    "\n",
    "Output feature (desired target):\n",
    "\n",
    "    31. `death_from_cancer` - Whether the patient's death was due to cancer\n",
    "    \n",
    "</details>"
   ]
  },
  {
   "cell_type": "markdown",
   "id": "d23241d7-c237-4178-abb7-759a04da0ded",
   "metadata": {},
   "source": [
    "<b>Question 1:</b> Delete unnecessary columns from 31 to the last one:\n"
   ]
  },
  {
   "cell_type": "code",
   "execution_count": null,
   "id": "8cc469c0-451e-4c15-8323-d06e1db0dae9",
   "metadata": {},
   "outputs": [],
   "source": [
    "df = df.iloc[:,:31]"
   ]
  },
  {
   "cell_type": "code",
   "execution_count": null,
   "id": "ec0d2008-2ef3-4e5d-91ca-31d603859d5f",
   "metadata": {},
   "outputs": [],
   "source": [
    "df.head()"
   ]
  },
  {
   "cell_type": "markdown",
   "id": "4da3cae8-de3e-440e-b00a-6de42a11fb9c",
   "metadata": {},
   "source": [
    "<b>Question 2:</b> Check for NaN and remove them using `dropna`:\n"
   ]
  },
  {
   "cell_type": "code",
   "execution_count": null,
   "id": "5b5f85ec-233f-4a37-9c82-e3a469078e18",
   "metadata": {},
   "outputs": [],
   "source": [
    "df.isnull().values.any()"
   ]
  },
  {
   "cell_type": "code",
   "execution_count": null,
   "id": "b09eba10-a5c6-436a-b98b-fb9f9ccaa731",
   "metadata": {},
   "outputs": [],
   "source": [
    "df = df.dropna()"
   ]
  },
  {
   "cell_type": "markdown",
   "id": "c16fa3bc-8f60-44c5-a5cf-02a0fd95d5e1",
   "metadata": {},
   "source": [
    "<b>Question 3:</b> Build a correlation matrix for numeric columns and association heatmap for object columns:\n"
   ]
  },
  {
   "cell_type": "code",
   "execution_count": null,
   "id": "5a85d86a-ad5e-4f8d-bae1-f974de85df4a",
   "metadata": {},
   "outputs": [],
   "source": [
    "corr = df.corr()\n",
    "sns.heatmap(corr, linewidths=.5)"
   ]
  },
  {
   "cell_type": "code",
   "execution_count": null,
   "id": "0f2df3e4-40b3-450e-aec8-7b5bb9caba84",
   "metadata": {},
   "outputs": [],
   "source": [
    "col_obj = list(df.select_dtypes(include=['object']).columns)"
   ]
  },
  {
   "cell_type": "code",
   "execution_count": null,
   "id": "23c090da-d151-4569-aeaf-5f3913b5191f",
   "metadata": {},
   "outputs": [],
   "source": [
    "associations(df[col_obj], annot=False)"
   ]
  },
  {
   "cell_type": "markdown",
   "id": "d56e0aef-0c35-4a09-ba0c-2657f59a8e3e",
   "metadata": {},
   "source": [
    "<b>Question 4:</b> Remove columns that are strictly correlate each other:\n"
   ]
  },
  {
   "cell_type": "code",
   "execution_count": null,
   "id": "5d1d909c-14ca-4aee-844b-64ffbef5342d",
   "metadata": {},
   "outputs": [],
   "source": [
    "df = df.drop([\"patient_id\", \"cancer_type\", \"oncotree_code\", \"overall_survival\"], axis=1)"
   ]
  },
  {
   "cell_type": "markdown",
   "id": "364ad3c3-4d78-429b-b58e-2e6403d2e57f",
   "metadata": {},
   "source": [
    "<b>Question 5:</b> Check the data type of the columns and change their data type:"
   ]
  },
  {
   "cell_type": "code",
   "execution_count": null,
   "id": "a87490c3-1003-428f-a7c9-2e5922eca152",
   "metadata": {},
   "outputs": [],
   "source": [
    "df.dtypes"
   ]
  },
  {
   "cell_type": "code",
   "execution_count": null,
   "id": "736daac7-6f2e-4a7a-87b9-6868a0b55f47",
   "metadata": {},
   "outputs": [],
   "source": [
    "df[['chemotherapy',\"hormone_therapy\", \"radio_therapy\"]] = df[['chemotherapy',\"hormone_therapy\", \"radio_therapy\"]].astype(bool)"
   ]
  },
  {
   "attachments": {},
   "cell_type": "markdown",
   "id": "d6047b26-3987-4981-80d9-360193cdd672",
   "metadata": {},
   "source": [
    "<b>Question 6:</b> Create two dataframes for the feature column and the target column:"
   ]
  },
  {
   "cell_type": "code",
   "execution_count": null,
   "id": "2fe968cf-dab2-4055-98c3-bc93fd01ff83",
   "metadata": {},
   "outputs": [],
   "source": [
    "x = df.drop(columns = [\"death_from_cancer\"])\n",
    "y = df[\"death_from_cancer\"]"
   ]
  },
  {
   "attachments": {},
   "cell_type": "markdown",
   "id": "9be4cbc5-fe50-4cdf-a57b-c560a555fe53",
   "metadata": {},
   "source": [
    "<b>Question 7:</b> Create transformer using `make_column_transformer`:"
   ]
  },
  {
   "cell_type": "code",
   "execution_count": null,
   "id": "46b0a337-4b6b-45aa-b952-099ee06fdb80",
   "metadata": {},
   "outputs": [],
   "source": [
    "col_cat = list(x.select_dtypes(include=['object']).columns)\n",
    "col_num = list(x.select_dtypes(include=['float', 'int', 'bool']).columns)\n",
    "\n",
    "trans = make_column_transformer((OrdinalEncoder(handle_unknown='use_encoded_value', unknown_value=-1),col_cat),\n",
    "                                (StandardScaler(),col_num),\n",
    "                                remainder='passthrough')\n",
    "set_config(display = 'diagram')\n",
    "trans"
   ]
  },
  {
   "attachments": {},
   "cell_type": "markdown",
   "id": "1a434d1c-c5e3-4483-8cd1-f2e2a68bbfec",
   "metadata": {},
   "source": [
    "<b>Question 8:</b> Incorporate a train/test split with a ratio of 0.3 for our DataSet."
   ]
  },
  {
   "cell_type": "code",
   "execution_count": null,
   "id": "c50e4a86-3ffe-4adb-ab9f-c2ea7c0d2147",
   "metadata": {},
   "outputs": [],
   "source": [
    "x_train,x_test,y_train,y_test = train_test_split(x,y,test_size = 0.3, shuffle=False)"
   ]
  },
  {
   "attachments": {},
   "cell_type": "markdown",
   "id": "d9d327cf-85dd-4ed7-9094-65b49dd30670",
   "metadata": {},
   "source": [
    "<b>Question 9:</b> Create a logistic regression pipeline and fit it:"
   ]
  },
  {
   "cell_type": "code",
   "execution_count": null,
   "id": "ecbac8d2-1723-4683-ab39-5c7e1f0cc722",
   "metadata": {},
   "outputs": [],
   "source": [
    "lr = LogisticRegression()\n",
    "pipe_lr = make_pipeline(trans,lr)\n",
    "pipe_lr.fit(x_train,y_train)"
   ]
  },
  {
   "attachments": {},
   "cell_type": "markdown",
   "id": "31d96f17-9559-4af7-8b9c-92d6650c5776",
   "metadata": {},
   "source": [
    "<b>Question 10:</b> Calculate the accuracy of the pipeline for test and train DataSets:"
   ]
  },
  {
   "cell_type": "code",
   "execution_count": null,
   "id": "f657ac38-7c17-496c-8fa3-d29a4dee2b67",
   "metadata": {},
   "outputs": [],
   "source": [
    "scores_train = pipe_lr.score(x_train, y_train)\n",
    "scores_test = pipe_lr.score(x_test, y_test)\n",
    "print('Training DataSet accuracy: {: .1%}'.format(scores_train), 'Test DataSet accuracy: {: .1%}'.format(scores_test))"
   ]
  },
  {
   "attachments": {},
   "cell_type": "markdown",
   "id": "056091ce-a443-48a1-accd-4dadf2050094",
   "metadata": {},
   "source": [
    "<b>Question 11:</b> Add cross-validation and predict the output:"
   ]
  },
  {
   "cell_type": "code",
   "execution_count": null,
   "id": "15fda416-269c-4f37-baa8-ae7177badae9",
   "metadata": {},
   "outputs": [],
   "source": [
    "Rcross = cross_val_score(pipe_lr, x, y, cv=4)\n",
    "print(np.around(Rcross, decimals=2))\n",
    "print(\"The mean of the folds are\", round(Rcross.mean(), 2), \"and the standard deviation is\" , round(Rcross.std(), 2))\n",
    "\n",
    "yhat = cross_val_predict(pipe_lr, x, y,cv=4)\n",
    "yhat[0:5]"
   ]
  },
  {
   "attachments": {},
   "cell_type": "markdown",
   "id": "9b7ba19a-57f2-427f-8b2d-bf57d9a446e3",
   "metadata": {},
   "source": [
    "<b>Question 12:</b> Plot the confusion matrix:"
   ]
  },
  {
   "cell_type": "code",
   "execution_count": null,
   "id": "f3ee54d0-1333-4ae4-bae3-e80dd1e6097a",
   "metadata": {},
   "outputs": [],
   "source": [
    "plot_confusion_matrix(pipe_lr, x_test, y_test)\n",
    "plt.show() "
   ]
  },
  {
   "attachments": {},
   "cell_type": "markdown",
   "id": "d49acdfc-f86d-45c7-8e5b-12892db29016",
   "metadata": {},
   "source": [
    "<b>Question 13:</b> Determine if the count of values in the target column is alike:"
   ]
  },
  {
   "cell_type": "code",
   "execution_count": null,
   "id": "f20c8784-807d-4940-80ce-09f11975b6cb",
   "metadata": {},
   "outputs": [],
   "source": [
    "sns.countplot(x = y)"
   ]
  },
  {
   "attachments": {},
   "cell_type": "markdown",
   "id": "d52a4dbf-964e-48d4-94a2-5acad94cd867",
   "metadata": {},
   "source": [
    "<b>Question 14:</b> Use `RandomOverSampler` to balance the number of values in the target column:"
   ]
  },
  {
   "cell_type": "code",
   "execution_count": null,
   "id": "b8c13ad6-1480-43d8-a0ce-8da169523e56",
   "metadata": {},
   "outputs": [],
   "source": [
    "ROS = RandomOverSampler()\n",
    "o_x, o_y = ROS.fit_resample(x,y)\n",
    "sns.countplot(x = o_y)"
   ]
  },
  {
   "attachments": {},
   "cell_type": "markdown",
   "id": "d6c25203-2ae8-48e1-a7a5-1558d6970dc2",
   "metadata": {},
   "source": [
    "<b>Question 15:</b> Add this function to our `Pipeline` and fit the model:"
   ]
  },
  {
   "cell_type": "code",
   "execution_count": null,
   "id": "6bea0efd-c8ae-471b-b0b6-9b04b3b5e42f",
   "metadata": {},
   "outputs": [],
   "source": [
    "pipe_s_lr = make_pipeline(trans, ROS, lr)\n",
    "pipe_s_lr.fit(x_train,y_train)\n",
    "pipe_s_lr"
   ]
  },
  {
   "attachments": {},
   "cell_type": "markdown",
   "id": "b5603ab7-cd87-4e26-8a13-bfdbd43d12e5",
   "metadata": {},
   "source": [
    "<b>Question 16:</b> Calculate the accuracy for `pipe_s_lr` using the `Recall` metric:"
   ]
  },
  {
   "cell_type": "code",
   "execution_count": null,
   "id": "9c229f3e-2a4c-44cf-b528-e57ee249927f",
   "metadata": {},
   "outputs": [],
   "source": [
    "scores_train = recall_score(y_train, pipe_s_lr.predict(x_train), average='macro')\n",
    "scores_test = recall_score(y_test, pipe_s_lr.predict(x_test), average='macro')\n",
    "print('Training DataSet accuracy: {: .1%}'.format(scores_train), 'Test DataSet accuracy: {: .1%}'.format(scores_test))"
   ]
  },
  {
   "attachments": {},
   "cell_type": "markdown",
   "id": "b506a561-2534-4613-a877-1961895a988f",
   "metadata": {},
   "source": [
    "<b>Question 17:</b> Plot the confusion matrix for `pipe_s_lr`:"
   ]
  },
  {
   "cell_type": "code",
   "execution_count": null,
   "id": "d53d9bbf-9a45-45fb-b48c-8b9c686eef49",
   "metadata": {},
   "outputs": [],
   "source": [
    "plot_confusion_matrix(pipe_s_lr, x_test, y_test)  \n",
    "plt.show() "
   ]
  },
  {
   "attachments": {},
   "cell_type": "markdown",
   "id": "83cc16b9-c731-4de5-8fbb-87fb0b572abd",
   "metadata": {},
   "source": [
    "<b>Question 18:</b> Add cross-validation for `pipe_s_lr` and predict the output:"
   ]
  },
  {
   "cell_type": "code",
   "execution_count": null,
   "id": "512ee3e8-538d-4459-99fd-4e7d5baef720",
   "metadata": {},
   "outputs": [],
   "source": [
    "Rcross = cross_val_score(pipe_s_lr, x, y, cv=4)\n",
    "print(np.around(Rcross, decimals=2))\n",
    "print(\"The mean of the folds are\", round(Rcross.mean(), 2), \"and the standard deviation is\" , round(Rcross.std(), 2))\n",
    "\n",
    "yhat = cross_val_predict(pipe_s_lr, x, y,cv=4)\n",
    "yhat[0:5]"
   ]
  },
  {
   "attachments": {},
   "cell_type": "markdown",
   "id": "2ae42cf7-44a3-47f9-b8ce-e3e5650160bd",
   "metadata": {},
   "source": [
    "<b>Question 19:</b> Create an ensemble of classifiers including `VotingClassifier` and calculate their accuracy:"
   ]
  },
  {
   "cell_type": "code",
   "execution_count": null,
   "id": "ce0a6038-0686-481c-ac33-5c60ceba485d",
   "metadata": {},
   "outputs": [],
   "source": [
    "names = [\"Logistic Regression\", \"Linear SVM\",\n",
    "         \"Decision Tree\", \"Extra Tree\", \"Random Forest\", \"Neural Net\", \n",
    "         \"AdaBoost\", \"GradientBoostingClassifier\", \"BaggingClassifier\", \"VotingClassifier\"]\n",
    "\n",
    "classifiers = [\n",
    "    LogisticRegression(),\n",
    "    SVC(kernel=\"linear\", C=0.025),\n",
    "    DecisionTreeClassifier(max_depth=5),\n",
    "    ExtraTreeClassifier(max_depth=5),\n",
    "    RandomForestClassifier(max_depth=5, n_estimators=10, max_features=1),\n",
    "    MLPClassifier(alpha=1, max_iter=1000),\n",
    "    AdaBoostClassifier(n_estimators=100, random_state=0),\n",
    "    GradientBoostingClassifier(n_estimators=100, learning_rate=1.0, max_depth=1, random_state=0),\n",
    "    BaggingClassifier(base_estimator=SVC(), n_estimators=10, random_state=0)]\n",
    "\n",
    "est = [(str(est), est) for est in classifiers]\n",
    "\n",
    "eclf = [VotingClassifier(\n",
    "     estimators=est,\n",
    "     voting='hard')]\n",
    "classifiers += eclf\n",
    "scores_train = []\n",
    "scores_test = []\n",
    "scores_train_s = []\n",
    "scores_test_s = []\n",
    "\n",
    "for name, classif in zip(names, classifiers):\n",
    "    print(name,'fitting.....')\n",
    "    clf = make_pipeline(trans, classif)\n",
    "    clf.fit(x_train,y_train)\n",
    "    score_train = recall_score(y_train, clf.predict(x_train), average='macro')\n",
    "    score_test = recall_score(y_test, clf.predict(x_test), average='macro')\n",
    "    scores_train.append(score_train)\n",
    "    scores_test.append(score_test)\n",
    "    \n",
    "    clf_s = make_pipeline(trans, ROS, classif)\n",
    "    clf_s.fit(x_train,y_train)\n",
    "    score_train_s = recall_score(y_train, clf_s.predict(x_train), average='macro')\n",
    "    score_test_s = recall_score(y_test, clf_s.predict(x_test), average='macro')\n",
    "    scores_train_s.append(score_train_s)\n",
    "    scores_test_s.append(score_test_s)"
   ]
  },
  {
   "attachments": {},
   "cell_type": "markdown",
   "id": "e167d65e-14d9-42ba-9791-d914c3f99086",
   "metadata": {},
   "source": [
    "<b>Question 20:</b> Display the accuracy of each classifier:"
   ]
  },
  {
   "cell_type": "code",
   "execution_count": null,
   "id": "7b98e02d-8343-4dda-b6a3-6e03b6a1c0b6",
   "metadata": {},
   "outputs": [],
   "source": [
    "res = pd.DataFrame(index = names)\n",
    "res['Train'] = np.array(scores_train)\n",
    "res['Test'] = np.array(scores_test)\n",
    "res['Train Over Sampler'] = np.array(scores_train_s)\n",
    "res['Test Over Sampler'] = np.array(scores_test_s)\n",
    "\n",
    "res.index.name = \"Classifier accuracy\"\n",
    "pd.options.display.float_format = '{:,.2f}'.format\n",
    "res"
   ]
  },
  {
   "attachments": {},
   "cell_type": "markdown",
   "id": "f5686c02-9bd5-4aa6-87b5-9c58beea41f4",
   "metadata": {},
   "source": [
    "<b>Question 21:</b> Build a diagram of classifiers' accuracy:"
   ]
  },
  {
   "cell_type": "code",
   "execution_count": null,
   "id": "2adf2d38-f639-403d-955d-a055b5545fb8",
   "metadata": {},
   "outputs": [],
   "source": [
    "fig, ax = plt.subplots(figsize=(10, 6))\n",
    "ax.bar(names, scores_test)\n",
    "ax.bar(names, scores_test_s)\n",
    "\n",
    "\n",
    "ax.set_title('Classifier Test Accuracies')\n",
    "ax.set_xlabel('Classifier')\n",
    "ax.set_ylabel('Accuracy')\n",
    "\n",
    "plt.xticks(rotation=90)\n",
    "\n",
    "plt.show()"
   ]
  },
  {
   "attachments": {},
   "cell_type": "markdown",
   "id": "80f5cfb9-c367-419f-ae44-02d7dbfc8430",
   "metadata": {},
   "source": [
    "<b>Question 22:</b> Create a Pipeline based on Decision Tree and calculate the accuracy:"
   ]
  },
  {
   "cell_type": "code",
   "execution_count": null,
   "id": "446af1d7-4224-4515-a771-2fea7dfcc23f",
   "metadata": {},
   "outputs": [],
   "source": [
    "dtr = DecisionTreeClassifier(max_depth=3)\n",
    "pipe_s_dtr = make_pipeline(trans, ROS, dtr)\n",
    "pipe_s_dtr.fit(x_train,y_train)\n",
    "scores_train = pipe_s_dtr.score(x_train, y_train)\n",
    "scores_test = pipe_s_dtr.score(x_test, y_test)\n",
    "print('Training DataSet accuracy: {: .1%}'.format(scores_train), 'Test DataSet accuracy: {: .1%}'.format(scores_test))"
   ]
  },
  {
   "attachments": {},
   "cell_type": "markdown",
   "id": "f98db494-edac-40e0-84e3-bf2b5405ca65",
   "metadata": {},
   "source": [
    "<b>Question 23:</b> Build a text visualization of decision tree:"
   ]
  },
  {
   "cell_type": "code",
   "execution_count": null,
   "id": "055f8274-831e-47e1-935e-13e06887a734",
   "metadata": {},
   "outputs": [],
   "source": [
    "text_representation = tree.export_text(pipe_s_dtr['decisiontreeclassifier'])\n",
    "print(text_representation)"
   ]
  },
  {
   "attachments": {},
   "cell_type": "markdown",
   "id": "cf04fab6-6854-4e66-9fe0-8e36346229c4",
   "metadata": {},
   "source": [
    "<b>Question 24</b>: Plot decision tree using `plot_tree`:"
   ]
  },
  {
   "cell_type": "code",
   "execution_count": null,
   "id": "90d50dc7-2d5d-4869-8c50-3aca01c6e6af",
   "metadata": {},
   "outputs": [],
   "source": [
    "fig = plt.figure(figsize=(25,20))\n",
    "_ = tree.plot_tree(pipe_s_dtr['decisiontreeclassifier'],\n",
    "               feature_names = x_train.columns, \n",
    "               class_names = y_train.unique().astype('str'),\n",
    "               filled = True)"
   ]
  },
  {
   "attachments": {},
   "cell_type": "markdown",
   "id": "b63258af-5fd5-4dc2-938a-e78f44cc6ab3",
   "metadata": {},
   "source": [
    "<b>Question 25:</b> Compose a function called `create_ensemble()` that generates an ensemble utilizing a fixed count of classifiers previously established:"
   ]
  },
  {
   "cell_type": "code",
   "execution_count": null,
   "id": "0524e250-9a9e-424b-98e0-92e757f02725",
   "metadata": {},
   "outputs": [],
   "source": [
    "def create_ensemble(classifiers, x_train, y_train, x_test, y_test, trans):\n",
    "    est = [(str(est), est) for est in classifiers]\n",
    "    eclf = VotingClassifier(estimators=est, voting='hard')\n",
    "    clf = make_pipeline(trans, eclf)\n",
    "    clf.fit(x_train, y_train)\n",
    "    score_train = recall_score(y_train, clf.predict(x_train), average='macro')\n",
    "    score_test = recall_score(y_test, clf.predict(x_test), average='macro')\n",
    "    print(\"Accuracy of ensemble Train: \", round(score_train, 2))\n",
    "    print(\"Accuracy of ensemble Test: \", round(score_test, 2))\n",
    "    return clf"
   ]
  },
  {
   "attachments": {},
   "cell_type": "markdown",
   "id": "4a8779f6-5284-453c-a837-b58eaf3cf43b",
   "metadata": {},
   "source": [
    "<b>Question 26:</b> Compose a function called `create_ensemble()` that can predict patient vital status, with input parameters consisting of a classifier and a DataFrame."
   ]
  },
  {
   "cell_type": "code",
   "execution_count": null,
   "id": "206043fe-5dcc-419d-8dfa-80cbebb93e87",
   "metadata": {},
   "outputs": [],
   "source": [
    "def predict_patient_status(classifier, data):\n",
    "    res = pd.DataFrame(classifier.predict(data), columns=[\"death_from_cancer\"])\n",
    "    return res"
   ]
  },
  {
   "attachments": {},
   "cell_type": "markdown",
   "id": "1e97bb1f-f4bd-4131-b49b-e949f3221b6f",
   "metadata": {},
   "source": [
    "<b>Question 27:</b> Create list of classifiers:"
   ]
  },
  {
   "cell_type": "code",
   "execution_count": null,
   "id": "d27575e2-e237-405b-bf79-a0ed6932597b",
   "metadata": {},
   "outputs": [],
   "source": [
    "classifiers_list = [\n",
    "    DecisionTreeClassifier(max_depth=5),\n",
    "    ExtraTreeClassifier(max_depth=5),\n",
    "    RandomForestClassifier(max_depth=5, n_estimators=10, max_features=1),\n",
    "    MLPClassifier(alpha=1, max_iter=1000),\n",
    "    AdaBoostClassifier(n_estimators=100, random_state=0),\n",
    "    GradientBoostingClassifier(n_estimators=100, learning_rate=1.0, max_depth=1, random_state=0),\n",
    "    BaggingClassifier(base_estimator=SVC(), n_estimators=10, random_state=0)]"
   ]
  },
  {
   "attachments": {},
   "cell_type": "markdown",
   "id": "c0c07d00-2a7e-402a-8ea7-d8dc6fe67f00",
   "metadata": {},
   "source": [
    "<b>Question 28:</b> Create a new ensemble using `create_ensemble`:"
   ]
  },
  {
   "cell_type": "code",
   "execution_count": null,
   "id": "d11ca46d-7aa5-4013-9f45-b45905033649",
   "metadata": {},
   "outputs": [],
   "source": [
    "ensemble = create_ensemble(classifiers_list, x_train, y_train, x_test, y_test, trans)"
   ]
  },
  {
   "attachments": {},
   "cell_type": "markdown",
   "id": "ee4e658b-701b-44b3-b435-0356dc974e72",
   "metadata": {},
   "source": [
    "<b>Question 29:</b> Make a predict using your new data and `predict_patient_status`:"
   ]
  },
  {
   "cell_type": "code",
   "execution_count": null,
   "id": "158d3099-fc96-4651-a3f6-c1801b9b99d4",
   "metadata": {},
   "outputs": [],
   "source": [
    "new_data = [[70, \"MASTECTOMY\", \"Breast Invasive Ductal Carcinoma\", \"High\", False, \"LumA\", 1, \"Positve\", \"Positive\", 2, \"NEUTRAL\", \"Negative\", \n",
    "            \"Ductal/NST\", True, \"Pre\", \"3\", \"Right\", 8, 2, 5, 40, \"Negative\", True, \"ER-/HER2-\", 20, 2],\n",
    "            [48, \"MASTECTOMY\", \"Breast Invasive Ductal Carcinoma\", \"High\", True, \"LumB\", 1, \"Positve\", \"Positive\", 2, \"NEUTRAL\", \"Negative\", \n",
    "            \"Ductal/NST\", True, \"Post\", \"3\", \"Right\", 1, 2, 4, 83, \"Positive\", False, \"\", 15, 2]]\n",
    "\n",
    "df1 = pd.DataFrame(data=new_data, columns=x.columns)\n",
    "predict_patient_status(ensemble, df1)"
   ]
  },
  {
   "attachments": {},
   "cell_type": "markdown",
   "id": "a9f5c255-e9b5-451f-8028-0f87fa93887c",
   "metadata": {},
   "source": [
    "### Thank you for completing this lab!\n",
    "\n",
    "## Author\n",
    "\n",
    "<a href=\"https://author.skills.network/instructors/dmytro_shliakhovskyi\">Dmytro Shliakhovskyi</a>\n",
    "\n",
    "### Other Contributors\n",
    "\n",
    "<a href=\"https://author.skills.network/instructors/yaroslav_vyklyuk_2\">Prof. Yaroslav Vyklyuk, DrSc, PhD</a>\n",
    "\n",
    "<a href=\"https://author.skills.network/instructors/nataliya_boyko\">Ass. Prof. Nataliya Boyko, PhD</a>\n",
    "\n",
    "\n",
    "## Change Log\n",
    "\n",
    "| Date (YYYY-MM-DD) | Version | Changed By | Change Description                                         |\n",
    "| ----------------- | ------- | ---------- | ---------------------------------------------------------- |\n",
    "|    2023-04-01     | 01 | Dmytro Shliakhovkyi | Lab created |\n",
    "\n",
    "\n",
    "\n",
    "<hr>\n",
    "\n",
    "## <h3 align=\"center\"> © IBM Corporation 2023. All rights reserved. <h3/>"
   ]
  }
 ],
 "metadata": {
  "kernelspec": {
   "display_name": "Python 3 (ipykernel)",
   "language": "python",
   "name": "python3"
  },
  "language_info": {
   "codemirror_mode": {
    "name": "ipython",
    "version": 3
   },
   "file_extension": ".py",
   "mimetype": "text/x-python",
   "name": "python",
   "nbconvert_exporter": "python",
   "pygments_lexer": "ipython3",
   "version": "3.10.9"
  }
 },
 "nbformat": 4,
 "nbformat_minor": 5
}
