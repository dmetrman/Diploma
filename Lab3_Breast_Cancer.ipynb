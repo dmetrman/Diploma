{
  "cells": [
    {
      "cell_type": "markdown",
      "id": "4a348fec-5498-4403-9964-7151b80b51b1",
      "metadata": {},
      "source": [
        "<center>\n",
        "    <img src=\"https://cf-courses-data.s3.us.cloud-object-storage.appdomain.cloud/assets/logos/SN_web_lightmode.png\" width=\"300\" alt=\"cognitiveclass.ai logo\"  />\n",
        "</center>\n",
        "\n",
        "# **Breast Cancer Investigation**\n",
        "\n",
        "# Lab 3. Data Analysis with Python\n",
        "\n",
        "## Abstract\n",
        "\n",
        "In this lab, you'll explore the world of healthcare data analysis with a focus on breast cancer using Python and Pandas. Gain hands-on experience in importing data from modules, visualizing individual feature patterns, conducting descriptive statistical analysis, exploring grouping techniques, and uncovering correlations and causations within the dataset. Learn how to apply ANOVA to gain deeper insights into the data. Join this project to enhance your data analysis skills and unlock the potential of medical data models in improving our understanding of breast cancer.\n",
        "\n",
        "Estimated time needed: **30** minutes\n",
        "\n",
        "## Objectives\n",
        "\n",
        "After completing this lab you will be able to:\n",
        "\n",
        "*   Explore features or charecteristics to predict Patient's Vital Status.\n"
      ]
    },
    {
      "cell_type": "markdown",
      "id": "00ff9a45-c4d2-448c-9c01-7ce6f32f6d82",
      "metadata": {},
      "source": [
        "<h2>Table of Contents</h2>\n",
        "\n",
        "<div class=\"alert alert-block alert-info\" style=\"margin-top: 20px\">\n",
        "<ol>\n",
        "    <li><a href=\"#import_data\">Import Data from Module</a></li>\n",
        "    <li><a href=\"#pattern_visualization\">Analyzing Individual Feature Patterns using Visualization</a></li>\n",
        "    <li><a href=\"#discriptive_statistics\">Descriptive Statistical Analysis</a></li>\n",
        "    <li><a href=\"#basic_grouping\">Basics of Grouping</a></li>\n",
        "    <li><a href=\"#correlation_causation\">Correlation and Causation</a></li>\n",
        "    <li><a href=\"#anova\">ANOVA</a></li>\n",
        "</ol>\n",
        "\n",
        "</div>\n",
        "\n",
        "<hr>\n"
      ]
    },
    {
      "cell_type": "markdown",
      "id": "bc7b2652-36ca-4064-88f1-f24b2a9eaeca",
      "metadata": {},
      "source": [
        "<h3>What are the main characteristics that have the most impact on a Patient's Vital Status?</h3>\n"
      ]
    },
    {
      "cell_type": "markdown",
      "id": "b3a364b9-048b-4039-ad88-c8488dc94a4c",
      "metadata": {},
      "source": [
        "<p id=\"import_data\"></p>\n",
        "<h2>1. Import Data from Module 2</h2>\n"
      ]
    },
    {
      "cell_type": "markdown",
      "id": "7d5a8a6d-07ce-420a-8071-22079e458734",
      "metadata": {},
      "source": [
        "<h4>Setup</h4>\n"
      ]
    },
    {
      "cell_type": "markdown",
      "id": "3c69952a-11df-4e4c-a58f-366edde4acf2",
      "metadata": {},
      "source": [
        "To install Seaborn we use pip, the Python package manager.\n",
        "\n",
        "Import libraries:\n"
      ]
    },
    {
      "cell_type": "code",
      "execution_count": null,
      "id": "44ddd0bf-3066-4d75-b670-f7a71f57a1cb",
      "metadata": {},
      "outputs": [],
      "source": [
        "conda install -c anaconda scikit-learn"
      ]
    },
    {
      "cell_type": "code",
      "execution_count": null,
      "id": "b97d64c5-85e7-49a9-aaea-b46489e74fda",
      "metadata": {},
      "outputs": [],
      "source": [
        "!pip install dython\n",
        "! mamba install seaborn=0.9.0-y"
      ]
    },
    {
      "cell_type": "markdown",
      "id": "66a334dc-8ace-4bb6-b9ea-3ff466191ecc",
      "metadata": {},
      "source": [
        "<div class=\"alert alert-danger alertdanger\" style=\"margin-top: 20px\">\n",
        "If error appeared, please restart kernel or run this block again.\n",
        "</div>\n"
      ]
    },
    {
      "cell_type": "code",
      "execution_count": 1,
      "id": "8a1cec4b-9c33-440f-ba1d-437b7966510b",
      "metadata": {},
      "outputs": [],
      "source": [
        "import pandas as pd\n",
        "import numpy as np\n",
        "\n",
        "import matplotlib.pyplot as plt\n",
        "import seaborn as sns\n",
        "%matplotlib inline\n",
        "\n",
        "from sklearn import preprocessing\n",
        "from dython.nominal import associations\n",
        "\n",
        "from scipy import stats\n",
        "\n",
        "import itertools"
      ]
    },
    {
      "cell_type": "markdown",
      "id": "bb3ee14e-72ca-42e0-827d-bafffd57fb55",
      "metadata": {},
      "source": [
        "Load the data and store it in dataframe `df`:\n"
      ]
    },
    {
      "cell_type": "code",
      "execution_count": 2,
      "id": "fb8281b8-a93d-4be1-834f-5cadcb5553bc",
      "metadata": {},
      "outputs": [],
      "source": [
        "path='https://cf-courses-data.s3.us.cloud-object-storage.appdomain.cloud/IBMSkillsNetwork-GPXX0VB7EN/breast_cancer_clean.csv'"
      ]
    },
    {
      "cell_type": "code",
      "execution_count": null,
      "id": "2bd9bc63-483d-48ac-8228-36e2dace13b8",
      "metadata": {},
      "outputs": [],
      "source": [
        "df = pd.read_csv(path, index_col=0)\n",
        "df.head()"
      ]
    },
    {
      "cell_type": "markdown",
      "id": "88c8edda-8ed3-4eab-82d7-fd33d9dd40bb",
      "metadata": {},
      "source": [
        "Let's use \"pd.options.display.float_format = '{:,.2f}'.format\" for the display of float numbers in Pandas with two decimal places, separated by a comma."
      ]
    },
    {
      "cell_type": "code",
      "execution_count": null,
      "id": "bddcd8b4-85f6-496d-bb6a-39c1a9e9186a",
      "metadata": {},
      "outputs": [],
      "source": [
        "pd.options.display.float_format = '{:,.2f}'.format\n"
      ]
    },
    {
      "cell_type": "markdown",
      "id": "5ff88b02-ff2c-4654-9ed9-b75489763cc3",
      "metadata": {},
      "source": [
        "<p id=\"pattern_visualization\"></p>\n",
        "<h2>2. Analyzing Individual Feature Patterns Using Visualization</h2>\n"
      ]
    },
    {
      "cell_type": "markdown",
      "id": "63add500-c57d-4b29-a223-0e666c3ed4c1",
      "metadata": {},
      "source": [
        "<h4>How to choose the right visualization method?</h4>\n",
        "<p>When visualizing individual variables, it is important to first understand what type of variable you are dealing with. This will help us find the right visualization method for that variable.</p>\n"
      ]
    },
    {
      "cell_type": "code",
      "execution_count": null,
      "id": "f8366049-d94d-443d-81ae-96e1fb9a7b2b",
      "metadata": {},
      "outputs": [],
      "source": [
        "# list the data types for each column\n",
        "print(df.dtypes)"
      ]
    },
    {
      "cell_type": "markdown",
      "id": "59a74a7b-9cdc-460f-b1f5-99f7d65952c6",
      "metadata": {},
      "source": [
        "We need to transform the categorical column \"Patient's Vital Status\" so that we can work with it as a column of type Int. The \"transform\" method is used to transform the original categorical column into an array of integers, which is assigned to the variable transformed_vital_stat. Finally, a new column is created in the dataframe called \"Patient's Vital Status - transformed\" and its values are set to the transformed categorical data."
      ]
    },
    {
      "cell_type": "code",
      "execution_count": null,
      "id": "bad6e089-19f3-4d14-8b3f-dab210e1cca0",
      "metadata": {},
      "outputs": [],
      "source": [
        "enc = preprocessing.OrdinalEncoder()\n",
        "enc.fit(df[[\"Patient's Vital Status\"]])\n",
        "\n",
        "#Write down to array\n",
        "transformed_vital_stat = enc.transform(df[[\"Patient's Vital Status\"]])\n",
        "\n",
        "#Create new column\n",
        "df[\"Patient's Vital Status - transformed\"] = transformed_vital_stat\n",
        "\n",
        "df"
      ]
    },
    {
      "cell_type": "markdown",
      "id": "9f6fe772-5c1d-450c-aea5-231266fd10fa",
      "metadata": {},
      "source": [
        "Now we have a new column \"Vital status of the patient - changed\", which contains the following values: 0 - Died of Disease, 1 - Died of Other Causes, 2 - Living."
      ]
    },
    {
      "cell_type": "markdown",
      "id": "78c38c8d-70d1-41a4-960d-dbdc5d71cffa",
      "metadata": {},
      "source": [
        "<div class=\"alert alert-danger alertdanger\" style=\"margin-top: 20px\">\n",
        "<h3>Question  #1:</h3>\n",
        "\n",
        "<b>What is the data type of the column \"Tumor Size\"? </b>\n",
        "\n",
        "</div>\n"
      ]
    },
    {
      "cell_type": "code",
      "execution_count": null,
      "id": "e340a46f-a71c-426f-85b2-484c34fbe658",
      "metadata": {},
      "outputs": [],
      "source": [
        "# Write your code below and press Shift+Enter to execute\n"
      ]
    },
    {
      "cell_type": "markdown",
      "id": "27af5146-f4a4-449e-a961-dd7884b6431b",
      "metadata": {},
      "source": [
        "<details><summary>Click here for the solution</summary>\n",
        "\n",
        "```python\n",
        "df['Tumor Size'].dtypes\n",
        "```\n",
        "\n",
        "</details>\n"
      ]
    },
    {
      "cell_type": "markdown",
      "id": "024556a3-709f-4442-8f1b-27df54f31724",
      "metadata": {},
      "source": [
        "For example, we can calculate the correlation between variables  of type \"int64\" or \"float64\" using the method \"corr\":\n"
      ]
    },
    {
      "cell_type": "code",
      "execution_count": null,
      "id": "6e351932-e012-4406-a4ad-2b271bd31631",
      "metadata": {},
      "outputs": [],
      "source": [
        "corr = df.corr()\n",
        "corr"
      ]
    },
    {
      "cell_type": "markdown",
      "id": "970bb48f-f86e-4a7a-b3e2-f43b4b8f1907",
      "metadata": {},
      "source": [
        "The diagonal elements are always one; we will study correlation more precisely Pearson correlation in-depth at the end of the notebook.\n"
      ]
    },
    {
      "cell_type": "markdown",
      "id": "317b9ef4-8ead-427d-bd66-acc8dd34c8c1",
      "metadata": {},
      "source": [
        "Let's take a look on correlation heatmap of our data"
      ]
    },
    {
      "cell_type": "code",
      "execution_count": null,
      "id": "b983b405-e528-45fa-9a39-c13cec8ea7d1",
      "metadata": {},
      "outputs": [],
      "source": [
        "sns.heatmap(corr, linewidths=.5)"
      ]
    },
    {
      "cell_type": "markdown",
      "id": "c7d03ecb-7af1-4a70-ad46-a5f06cf6cae1",
      "metadata": {},
      "source": [
        "The associations method from the dython.nominal library is used to calculate and visualize the association between the categorical variables in a Pandas dataframe."
      ]
    },
    {
      "cell_type": "code",
      "execution_count": null,
      "id": "2d934eeb-9918-470f-8f62-550110797461",
      "metadata": {},
      "outputs": [],
      "source": [
        "associations(df[[\"Type of Breast Surgery\", \"Cancer Type\", \"Cancer Type Detailed\", \"Cellularity\", \"Chemotherapy\", \"Pam50 + Claudin-low subtype\", \"ER status measured by IHC\", \"ER Status\", \"HER2 status measured by SNP6\", \"HER2 Status\", \"Tumor Other Histologic Subtype\", \"Hormone Therapy\", \"Integrative Cluster\", \"Primary Tumor Laterality\", \"Oncotree Code\", \"Overall Survival Status\", \"PR Status\", \"Radio Therapy\", \"3-Gene classifier subtype\", \"Patient's Vital Status\", \"Nottingham prognostic index-binned\", \"Patient's Vital Status - transformed\"]], annot=False)"
      ]
    },
    {
      "cell_type": "markdown",
      "id": "616366a9-3bbd-446d-995c-4b1668a77621",
      "metadata": {},
      "source": [
        "<div class=\"alert alert-danger alertdanger\" style=\"margin-top: 20px\">\n",
        "<h3> Question  #2: </h3>\n",
        "\n",
        "<p>Find the correlation between the following columns: Tumor Size, Cohort, Neoplasm Histologic Grade, and Mutation Count.</p>\n",
        "<p>Hint: if you would like to select those columns, use the following syntax: df[['Tumor Size', 'Cohort', 'Neoplasm Histologic Grade', 'Mutation Count']]</p>\n",
        "</div>\n"
      ]
    },
    {
      "cell_type": "code",
      "execution_count": null,
      "id": "f946aec8-2841-465b-a1b6-e80c734901e0",
      "metadata": {},
      "outputs": [],
      "source": [
        "# Write your code below and press Shift+Enter to execute\n"
      ]
    },
    {
      "cell_type": "markdown",
      "id": "93c59dca-8e55-4b45-bf30-d7a114f55480",
      "metadata": {},
      "source": [
        "<details><summary>Click here for the solution</summary>\n",
        "\n",
        "```python\n",
        "df[['Tumor Size', 'Cohort', 'Neoplasm Histologic Grade', 'Mutation Count']].corr()\n",
        "```\n",
        "\n",
        "</details>\n"
      ]
    },
    {
      "cell_type": "markdown",
      "id": "8f4293ba-8cb8-4ac1-897e-4c33bb3f5966",
      "metadata": {},
      "source": [
        "<h2>Continuous Numerical Variables:</h2> \n",
        "\n",
        "<p>Continuous numerical variables are variables that may contain any value within some range. They can be of type \"int64\" or \"float64\". A great way to visualize these variables is by using scatterplots with fitted lines.</p>\n",
        "\n",
        "<p>In order to start understanding the (linear) relationship between an individual variable and the price, we can use \"regplot\" which plots the scatterplot plus the fitted regression line for the data.</p>\n",
        "\n",
        "<p>For forecasting, we selected column \"Patient's Vital Status - transformed\", but this column has only 3 values. Therefore, we will take other columns in order to show what examples of graphs exist.</p>\n"
      ]
    },
    {
      "cell_type": "markdown",
      "id": "d22801c4-1b34-4b2c-88e3-f7154b773c8c",
      "metadata": {},
      "source": [
        "Let's see several examples of different linear relationships:\n"
      ]
    },
    {
      "cell_type": "markdown",
      "id": "ac90d3b3-d1db-4c08-8a26-fe4a0782f7fd",
      "metadata": {},
      "source": [
        "<h3>Positive Linear Relationship</h4>\n"
      ]
    },
    {
      "cell_type": "markdown",
      "id": "d74db7b0-e2ed-4826-a6c6-56dda129aaea",
      "metadata": {},
      "source": [
        "Let's find the scatterplot of \"Lymph nodes examined positive\" and \"Nottingham prognostic index\".\n"
      ]
    },
    {
      "cell_type": "code",
      "execution_count": null,
      "id": "02e60417-190a-40d4-9419-eab329c3c316",
      "metadata": {},
      "outputs": [],
      "source": [
        "# Lymph nodes examined positive as potential predictor variable of Nottingham prognostic index\n",
        "sns.regplot(x=\"Lymph nodes examined positive\", y=\"Nottingham prognostic index\", data=df)\n",
        "plt.ylim(0,)"
      ]
    },
    {
      "cell_type": "markdown",
      "id": "025533fc-e731-4aaa-b544-90de21e7f43a",
      "metadata": {},
      "source": [
        "<p>As the Lymph nodes examined positive goes up, the Nottingham prognostic index goes up: this indicates a positive direct correlation between these two variables. Lymph nodes examined positive seems like a pretty good predictor of Nottingham prognostic index since the regression line is almost a perfect diagonal line.</p>\n"
      ]
    },
    {
      "cell_type": "markdown",
      "id": "0c1b6f10-e747-498c-9142-5f737817a5e1",
      "metadata": {},
      "source": [
        "We can examine the correlation between 'Lymph nodes examined positive' and 'Nottingham prognostic index' and see that it's approximately 0.52.\n"
      ]
    },
    {
      "cell_type": "code",
      "execution_count": null,
      "id": "fdc666e8-3259-4848-92e8-e834b66cefd3",
      "metadata": {},
      "outputs": [],
      "source": [
        "df[[\"Lymph nodes examined positive\", \"Nottingham prognostic index\"]].corr()"
      ]
    },
    {
      "cell_type": "markdown",
      "id": "d5195fd2-e7e2-49e0-8cd5-9727fafb8b1b",
      "metadata": {},
      "source": [
        "Lymph nodes examined positive is a potential predictor variable of Relapse Free Status (Years). Let's find the scatterplot of \"Lymph nodes examined positive\" and \"Relapse Free Status (Years)\".\n"
      ]
    },
    {
      "cell_type": "code",
      "execution_count": null,
      "id": "4ee797b4-ce49-4f8f-bb2e-09e25153283a",
      "metadata": {},
      "outputs": [],
      "source": [
        "sns.regplot(x=\"Lymph nodes examined positive\", y=\"Relapse Free Status (Years)\", data=df)"
      ]
    },
    {
      "cell_type": "markdown",
      "id": "5ba1f13f-fb10-4a73-b9cb-61caa7f32336",
      "metadata": {},
      "source": [
        "<p>As Lymph nodes examined positive goes up, the Relapse Free Status (Years) goes down: this indicates an inverse/negative relationship between these two variables. Lymph nodes examined positive could potentially be a predictor of Relapse Free Status (Years).</p>\n"
      ]
    },
    {
      "cell_type": "markdown",
      "id": "81df2c92-a1f2-4ea3-97e5-4b651af339fa",
      "metadata": {},
      "source": [
        "We can examine the correlation between 'Lymph nodes examined positive' and 'Relapse Free Status (Years)' and see it's approximately -0.22.\n"
      ]
    },
    {
      "cell_type": "code",
      "execution_count": null,
      "id": "21a28d66-fe78-46d2-9e15-a35953f473ad",
      "metadata": {},
      "outputs": [],
      "source": [
        "df[[\"Lymph nodes examined positive\", \"Relapse Free Status (Years)\"]].corr()"
      ]
    },
    {
      "cell_type": "markdown",
      "id": "706f6a4a-0432-4d4d-8626-3b2d2056300e",
      "metadata": {},
      "source": [
        "<h3>Weak Linear Relationship</h3>\n"
      ]
    },
    {
      "cell_type": "markdown",
      "id": "0370e5d5-5223-4a85-92e3-685b754e71ee",
      "metadata": {},
      "source": [
        "Let's see if \"Tumor Size\" is a predictor variable of \"Mutation Count\".\n"
      ]
    },
    {
      "cell_type": "code",
      "execution_count": null,
      "id": "789a696d-306c-4b80-94d6-538e67874c29",
      "metadata": {},
      "outputs": [],
      "source": [
        "sns.regplot(x=\"Tumor Size\", y=\"Mutation Count\", data=df)"
      ]
    },
    {
      "cell_type": "markdown",
      "id": "af1da596-eb5e-48d1-b97e-52c47dfc377c",
      "metadata": {},
      "source": [
        "<p>Tumor Size does not seem like a good predictor of the Mutation Count at all since the regression line is close to horizontal. Also, the data points are very scattered and far from the fitted line, showing lots of variability. Therefore, it's not a reliable variable.</p>\n"
      ]
    },
    {
      "cell_type": "markdown",
      "id": "5dddb0fa-2fb1-44ca-a080-f47a516e0ec1",
      "metadata": {},
      "source": [
        "We can examine the correlation between 'Tumor Size' and 'Mutation Count' and see it's approximately 0.02.\n"
      ]
    },
    {
      "cell_type": "code",
      "execution_count": null,
      "id": "664cab9f-cd69-4050-a238-af60b826f409",
      "metadata": {},
      "outputs": [],
      "source": [
        "df[[\"Tumor Size\", \"Mutation Count\"]].corr()"
      ]
    },
    {
      "cell_type": "markdown",
      "id": "61f81326-47bb-4c0d-8806-623f0acbf1a9",
      "metadata": {},
      "source": [
        " <div class=\"alert alert-danger alertdanger\" style=\"margin-top: 20px\">\n",
        "<h1> Question  3 a): </h1>\n",
        "\n",
        "<p>Find the correlation  between x=\"Relapse Free Status (Months)\" and y=\"Age at Diagnosis\".</p>\n",
        "<p>Hint: if you would like to select those columns, use the following syntax: df[[\"Relapse Free Status (Months)\", \"Age at Diagnosis\"]].  </p>\n",
        "</div>\n"
      ]
    },
    {
      "cell_type": "code",
      "execution_count": null,
      "id": "fcb569bb-43dd-4dc8-9e91-4c8c8efa5231",
      "metadata": {},
      "outputs": [],
      "source": [
        "# Write your code below and press Shift+Enter to execute\n"
      ]
    },
    {
      "cell_type": "markdown",
      "id": "079eaf6c-371f-41b0-b676-de6c70da24af",
      "metadata": {},
      "source": [
        "<details><summary>Click here for the solution</summary>\n",
        "\n",
        "```python\n",
        "\n",
        "#The correlation is -0.1, the non-diagonal elements of the table.\n",
        "\n",
        "df[[\"Relapse Free Status (Months)\",\"Age at Diagnosis\"]].corr()\n",
        "\n",
        "```\n",
        "\n",
        "</details>\n"
      ]
    },
    {
      "cell_type": "markdown",
      "id": "10c53981-6af7-467c-b793-53489da02c62",
      "metadata": {},
      "source": [
        "<div class=\"alert alert-danger alertdanger\" style=\"margin-top: 20px\">\n",
        "<h1>Question  3 b):</h1>\n",
        "\n",
        "<p>Given the correlation results between \"Age at Diagnosis\" and \"Relapse Free Status (Months)\", do you expect a linear relationship?</p>\n",
        "<p>Verify your results using the function \"regplot()\".</p>\n",
        "</div>\n"
      ]
    },
    {
      "cell_type": "code",
      "execution_count": null,
      "id": "205c14a5-3010-4d39-b9cc-5d05b0ba31f9",
      "metadata": {},
      "outputs": [],
      "source": [
        "# Write your code below and press Shift+Enter to execute \n"
      ]
    },
    {
      "cell_type": "markdown",
      "id": "c4351c34-f3ea-492c-af28-89a4f30f38d0",
      "metadata": {},
      "source": [
        "<details><summary>Click here for the solution</summary>\n",
        "\n",
        "```python\n",
        "\n",
        "#There is a weak correlation between the variable 'Relapse Free Status (Months)' and 'Age at Diagnosis' as such regression will not work well. We can see this using \"regplot\" to demonstrate this.\n",
        "\n",
        "#Code: \n",
        "sns.regplot(x=\"Relapse Free Status (Months)\", y=\"Age at Diagnosis\", data=df)\n",
        "\n",
        "```\n",
        "\n",
        "</details>\n"
      ]
    },
    {
      "cell_type": "markdown",
      "id": "98e78c74-4d5c-417e-ad90-f39b4588abd6",
      "metadata": {},
      "source": [
        "<h3>Categorical Variables</h3>\n",
        "\n",
        "<p>These are variables that describe a 'characteristic' of a data unit, and are selected from a small group of categories. The categorical variables can have the type \"object\" or \"int64\". A good way to visualize categorical variables is by using boxplots.</p>\n"
      ]
    },
    {
      "cell_type": "markdown",
      "id": "baa0b238-e7e5-42a2-95e6-6a2fd0177999",
      "metadata": {},
      "source": [
        "Let's look at the relationship between \"Integrative Cluster\" and \"Overall Survival (Years)\".\n"
      ]
    },
    {
      "cell_type": "code",
      "execution_count": null,
      "id": "16a65073-4624-4e4e-bd97-8d4803ccb88d",
      "metadata": {},
      "outputs": [],
      "source": [
        "sns.boxplot(x=\"Integrative Cluster\", y=\"Overall Survival (Years)\", data=df)"
      ]
    },
    {
      "cell_type": "markdown",
      "id": "7a5b67c2-4b15-4f02-8883-7f3184c2f448",
      "metadata": {},
      "source": [
        "<p>We see that the distributions of Overall Survival (Years) between the different Integrative Cluster categories have a significant overlap, so Integrative Cluster would not be a good predictor of Overall Survival (Years). If you have many points that are distributed along the Y axis in your boxplot, it suggests that the data in that column has a large spread or variability. It can be seen in cluster \"8\" that we have different from others.\n",
        "\n",
        "Let's examine engine \"Tumor Stage\" and \"Patient's Vital Status - transformed\":</p>\n"
      ]
    },
    {
      "cell_type": "code",
      "execution_count": null,
      "id": "8b1a465b-c391-4503-be3b-7e3667f177e1",
      "metadata": {},
      "outputs": [],
      "source": [
        "sns.boxplot(x=\"Tumor Stage\", y=\"Patient's Vital Status - transformed\", data=df)"
      ]
    },
    {
      "cell_type": "markdown",
      "id": "839f571d-0d7e-48cb-bf89-99a674de3992",
      "metadata": {},
      "source": [
        "<p>Here we see that the categories are potentially distributed well, but with stages 0 and 4 there may be a question. Stage 0 is the lightest form of the tumor, so its mortality is the lowest, stage 4 is the most advanced stage of the tumor, so its survival rate is the lowest.</p>\n"
      ]
    },
    {
      "cell_type": "markdown",
      "id": "685fb1fc-7e41-4063-80d3-50cedb1f7ecc",
      "metadata": {},
      "source": [
        "Let's examine \"Nottingham prognostic index-binned\" and \"Overall Survival (Years)\".\n"
      ]
    },
    {
      "cell_type": "code",
      "execution_count": null,
      "id": "676cb6b7-ed07-4606-bf69-6967cd82c3e0",
      "metadata": {},
      "outputs": [],
      "source": [
        "sns.boxplot(x=\"Nottingham prognostic index-binned\", y=\"Overall Survival (Years)\", data=df)"
      ]
    },
    {
      "cell_type": "markdown",
      "id": "f3f7bba6-c435-4230-832c-9c59b1f65136",
      "metadata": {},
      "source": [
        "<p>Here we see that the distribution of Overall Survival (Years) between the different Nottingham prognostic index-binned categories differs. As such, Nottingham prognostic index-binned could potentially be a predictor of Overall Survival (Years).</p>\n"
      ]
    },
    {
      "cell_type": "markdown",
      "id": "a4e6156d-f52c-425b-8e29-8e899e758be8",
      "metadata": {},
      "source": [
        "<p id=\"discriptive_statistics\"></p>\n",
        "<h2>3. Descriptive Statistical Analysis</h2>\n"
      ]
    },
    {
      "cell_type": "markdown",
      "id": "2f7d0df8-6dec-419f-b9a1-7a75192cf6ec",
      "metadata": {},
      "source": [
        "<p>Let's first take a look at the variables by utilizing a description method.</p>\n",
        "\n",
        "<p>The <b>describe</b> function automatically computes basic statistics for all continuous variables. Any NaN values are automatically skipped in these statistics.</p>\n",
        "\n",
        "This will show:\n",
        "\n",
        "<ul>\n",
        "    <li>the count of that variable</li>\n",
        "    <li>the mean</li>\n",
        "    <li>the standard deviation (std)</li> \n",
        "    <li>the minimum value</li>\n",
        "    <li>the IQR (Interquartile Range: 25%, 50% and 75%)</li>\n",
        "    <li>the maximum value</li>\n",
        "<ul>\n"
      ]
    },
    {
      "cell_type": "markdown",
      "id": "d3e6386b-eb82-4b54-bf59-645c1b76b718",
      "metadata": {},
      "source": [
        "We can apply the method \"describe\" as follows:\n"
      ]
    },
    {
      "cell_type": "code",
      "execution_count": null,
      "id": "0e719686-a682-4932-8fbd-93c6ef8f68db",
      "metadata": {},
      "outputs": [],
      "source": [
        "df.describe()"
      ]
    },
    {
      "cell_type": "markdown",
      "id": "dbd3fab0-6bf6-4690-87f2-8ce19e58058e",
      "metadata": {},
      "source": [
        "The default setting of \"describe\" skips variables of type object. We can apply the method \"describe\" on the variables of type 'object' as follows:\n"
      ]
    },
    {
      "cell_type": "code",
      "execution_count": null,
      "id": "580d48d4-3d0d-4222-900a-68911fc52d51",
      "metadata": {},
      "outputs": [],
      "source": [
        "df.describe(include=['object'])"
      ]
    },
    {
      "cell_type": "markdown",
      "id": "948776c4-0f6a-4a63-94b9-4a51fc0b6be4",
      "metadata": {},
      "source": [
        "<h3>Value Counts</h3>\n"
      ]
    },
    {
      "cell_type": "markdown",
      "id": "9b911b0a-7bc1-4717-bc6d-f4a8154ea6cf",
      "metadata": {},
      "source": [
        "<p>Value counts is a good way of understanding how many units of each characteristic/variable we have. We can apply the \"value_counts\" method on the column \"Radio Therapy\". Don’t forget the method \"value_counts\" only works on pandas series, not pandas dataframes. As a result, we only include one bracket <code>df['Radio Therapy']</code>, not two brackets <code>df[['Radio Therapy']]</code>.</p>\n"
      ]
    },
    {
      "cell_type": "code",
      "execution_count": null,
      "id": "14d674a9-ac21-499e-b70c-94d754e1a6a4",
      "metadata": {},
      "outputs": [],
      "source": [
        "df['Radio Therapy'].value_counts()"
      ]
    },
    {
      "cell_type": "markdown",
      "id": "539cb6d8-d1d7-4b71-ae53-7c6f77880232",
      "metadata": {},
      "source": [
        "We can convert the series to a dataframe as follows:\n"
      ]
    },
    {
      "cell_type": "code",
      "execution_count": null,
      "id": "612c1a90-3d47-4e63-a57d-7179be43d662",
      "metadata": {},
      "outputs": [],
      "source": [
        "df['Radio Therapy'].value_counts().to_frame()"
      ]
    },
    {
      "cell_type": "markdown",
      "id": "cee7b799-74ee-46fd-9e2f-f4f2cd73f927",
      "metadata": {},
      "source": [
        "Let's repeat the above steps but save the results to the dataframe \"radio_therapy_counts\" and rename the column  'Radio Therapy' to 'value_counts'.\n"
      ]
    },
    {
      "cell_type": "code",
      "execution_count": null,
      "id": "6b166a9f-cf9a-49f9-bfdb-dace8c5101bc",
      "metadata": {},
      "outputs": [],
      "source": [
        "radio_therapy_counts = df['Radio Therapy'].value_counts().to_frame()\n",
        "radio_therapy_counts.rename(columns={'Radio Therapy': 'value_counts'}, inplace=True)\n",
        "radio_therapy_counts"
      ]
    },
    {
      "cell_type": "markdown",
      "id": "9db5fe71-a8bc-455a-b930-08cc069ec987",
      "metadata": {},
      "source": [
        "Now let's rename the index to 'Radio Therapy':\n"
      ]
    },
    {
      "cell_type": "code",
      "execution_count": null,
      "id": "4d9699e8-3a52-4a30-b0af-e78568b5c6c9",
      "metadata": {},
      "outputs": [],
      "source": [
        "radio_therapy_counts.index.name = 'Radio Therapy'\n",
        "radio_therapy_counts"
      ]
    },
    {
      "cell_type": "markdown",
      "id": "f3adab0f-c272-4d76-908c-0fe199c2bc91",
      "metadata": {},
      "source": [
        "We can repeat the above process for the variable 'Tumor Stage'.\n"
      ]
    },
    {
      "cell_type": "code",
      "execution_count": null,
      "id": "cfbaa748-a246-4a55-9711-a57cbab7d04b",
      "metadata": {},
      "outputs": [],
      "source": [
        "# Tumor Stage as variable\n",
        "engine_loc_counts = df['Tumor Stage'].value_counts().to_frame()\n",
        "engine_loc_counts.rename(columns={'Tumor Stage': 'value_counts'}, inplace=True)\n",
        "engine_loc_counts.index.name = 'Tumor Stage'\n",
        "engine_loc_counts.head(10)"
      ]
    },
    {
      "cell_type": "markdown",
      "id": "0373ee3b-fe07-4e01-8629-24c38c789039",
      "metadata": {},
      "source": [
        "<p>After examining the value counts of the Tumor Stage, we see that Tumor Stage would not be a good predictor variable for the Patient's Vital Status. This is because we only have 11 patiets with 4th Tumor Stage and 24 patients with 0 Tumor Stage, so this result is skewed. Thus, we are not able to draw any conclusions about the Tumor Stage.</p>\n"
      ]
    },
    {
      "cell_type": "markdown",
      "id": "c59ae625-b159-4a3a-9e6f-d7058befc000",
      "metadata": {},
      "source": [
        "<p id=\"basic_grouping\"></p>\n",
        "<h2>4. Basics of Grouping</h2>\n"
      ]
    },
    {
      "cell_type": "markdown",
      "id": "47af84d5-9b55-4bb7-807f-006ae4fa80c8",
      "metadata": {},
      "source": [
        "<p>The \"groupby\" method groups data by different categories. The data is grouped based on one or several variables, and analysis is performed on the individual groups.</p>\n",
        "\n",
        "<p>For example, let's group by the variable \"Nottingham prognostic index\". We see that there are 7 different categories of Nottingham prognostic index.</p>\n"
      ]
    },
    {
      "cell_type": "code",
      "execution_count": null,
      "id": "169d7796-39cf-4ce8-9cec-ce12c084ad72",
      "metadata": {},
      "outputs": [],
      "source": [
        "df['Nottingham prognostic index'].unique()"
      ]
    },
    {
      "cell_type": "markdown",
      "id": "e15a8595-33df-4761-b7a2-6afd206cc15b",
      "metadata": {},
      "source": [
        "<p>If we want to know, on average, which type of Nottingham prognostic index is most valuable, we can group \"Nottingham prognostic index\" and then average them.</p>\n",
        "\n",
        "<p>We can select the columns 'Radio Therapy', 'Nottingham prognostic index' and 'Patient's Vital Status - transformed', then assign it to the variable \"df_group_one\".</p>\n"
      ]
    },
    {
      "cell_type": "code",
      "execution_count": null,
      "id": "8a36bb3c-2ecc-4866-99a0-c868b3b4d2db",
      "metadata": {},
      "outputs": [],
      "source": [
        "df_group_one = df[['Radio Therapy','Nottingham prognostic index',\"Patient's Vital Status - transformed\"]]"
      ]
    },
    {
      "cell_type": "markdown",
      "id": "878969b9-c7e9-49fa-955e-85d98029c825",
      "metadata": {},
      "source": [
        "We can then calculate the average Patient's Vital Status for each of the different categories of data.\n"
      ]
    },
    {
      "cell_type": "code",
      "execution_count": null,
      "id": "49d2e8f6-93ee-4834-9ae8-b2c3da89af7b",
      "metadata": {},
      "outputs": [],
      "source": [
        "# grouping results\n",
        "df_group_one = df_group_one.groupby(['Radio Therapy'],as_index=False).mean()\n",
        "df_group_one"
      ]
    },
    {
      "cell_type": "markdown",
      "id": "1da3f12c-3f3f-423d-a7bc-074fb564e3db",
      "metadata": {},
      "source": [
        "<p>From our data, it seems \"True\" Radio Therapy are, on average, the highest survival rate.</p>\n",
        "\n",
        "<p>You can also group by multiple variables. For example, let's group by both 'Radio Therapy' and 'Nottingham prognostic index'. This groups the dataframe by the unique combination of 'Radio Therapy' and 'Nottingham prognostic index'. We can store the results in the variable 'grouped_test1'.</p>\n"
      ]
    },
    {
      "cell_type": "code",
      "execution_count": null,
      "id": "920acf99-09b7-48d5-859a-450dd7cac7b7",
      "metadata": {},
      "outputs": [],
      "source": [
        "# grouping results\n",
        "df_gptest = df[['Radio Therapy','Nottingham prognostic index',\"Patient's Vital Status - transformed\"]]\n",
        "grouped_test1 = df_gptest.groupby(['Radio Therapy','Nottingham prognostic index'],as_index=False).mean()\n",
        "grouped_test1"
      ]
    },
    {
      "cell_type": "markdown",
      "id": "01e49949-f05a-4516-8d1d-8d04d107a7e9",
      "metadata": {},
      "source": [
        "<p>This grouped data is much easier to visualize when it is made into a pivot table. A pivot table is like an Excel spreadsheet, with one variable along the column and another along the row. We can convert the dataframe to a pivot table using the method \"pivot\" to create a pivot table from the groups.</p>\n",
        "\n",
        "<p>In this case, we will leave the Radio Therapy variable as the rows of the table, and pivot Nottingham prognostic index to become the columns of the table:</p>\n"
      ]
    },
    {
      "cell_type": "code",
      "execution_count": null,
      "id": "29c25198-b7d1-4fcb-84e6-39add3daacf5",
      "metadata": {},
      "outputs": [],
      "source": [
        "grouped_pivot = grouped_test1.pivot(index='Radio Therapy',columns='Nottingham prognostic index')\n",
        "grouped_pivot"
      ]
    },
    {
      "cell_type": "markdown",
      "id": "7d46ff59-9cf2-4039-b50c-9ef0928d9ee4",
      "metadata": {},
      "source": [
        "<p>Often, we won't have data for some of the pivot cells. We can fill these missing cells with empty value, but any other value could potentially be used as well. It should be mentioned that missing data is quite a complex subject and is an entire course on its own.</p>\n"
      ]
    },
    {
      "cell_type": "code",
      "execution_count": null,
      "id": "c04717f8-abe2-4134-96df-6b4f37741b8a",
      "metadata": {},
      "outputs": [],
      "source": [
        "grouped_pivot = grouped_pivot.fillna('') #fill missing values with empty value\n",
        "grouped_pivot"
      ]
    },
    {
      "cell_type": "markdown",
      "id": "9f68c5aa-a840-448c-8a5c-fa906919294c",
      "metadata": {},
      "source": [
        "<div class=\"alert alert-danger alertdanger\" style=\"margin-top: 20px\">\n",
        "<h1>Question 4:</h1>\n",
        "\n",
        "<p>Use the \"groupby\" function to find the average \"Patient's Vital Status\" of each patient based on \"Nottingham prognostic index\".</p>\n",
        "</div>\n"
      ]
    },
    {
      "cell_type": "code",
      "execution_count": null,
      "id": "bf2fbd4c-7b1c-48c8-8fd9-ec23c44c125d",
      "metadata": {},
      "outputs": [],
      "source": [
        "# Write your code below and press Shift+Enter to execute \n"
      ]
    },
    {
      "cell_type": "markdown",
      "id": "7c8c95f9-c313-4df6-a593-dedf0eeb11c6",
      "metadata": {},
      "source": [
        "<details><summary>Click here for the solution</summary>\n",
        "\n",
        "```python\n",
        "# grouping results\n",
        "df_gptest2 = df[['Nottingham prognostic index',\"Patient's Vital Status - transformed\"]]\n",
        "grouped_test_bodystyle = df_gptest2.groupby(['Nottingham prognostic index'],as_index= False).mean()\n",
        "grouped_test_bodystyle\n",
        "\n",
        "```\n",
        "\n",
        "</details>\n"
      ]
    },
    {
      "cell_type": "markdown",
      "id": "dc8bacf3-8881-40c8-94c4-3ac778b4a8bc",
      "metadata": {},
      "source": [
        "<h4>Variables: Radio Therapy and Nottingham prognostic index vs. Patient's Vital Status</h4>\n"
      ]
    },
    {
      "cell_type": "markdown",
      "id": "83f1101c-eca5-40e5-bca2-4835bc1eb5e2",
      "metadata": {},
      "source": [
        "Let's use a heat map to visualize the relationship between Radio Therapy and Nottingham prognostic index vs Patient's Vital Status.\n"
      ]
    },
    {
      "cell_type": "code",
      "execution_count": null,
      "id": "233fa0a4-485e-445c-9318-1c862f730ac7",
      "metadata": {},
      "outputs": [],
      "source": [
        "#use the grouped results\n",
        "grouped_pivot = grouped_test1.pivot(index='Radio Therapy',columns='Nottingham prognostic index').fillna(0)\n",
        "plt.pcolor(grouped_pivot, cmap='RdBu')\n",
        "plt.colorbar()\n",
        "plt.show()"
      ]
    },
    {
      "cell_type": "markdown",
      "id": "543888ac-a463-466a-a9dd-4edb436b2560",
      "metadata": {},
      "source": [
        "<p>The heatmap plots the target variable (Patient's Vital Status) proportional to colour with respect to the variables 'Radio Therapy' and 'Nottingham prognostic index' on the vertical and horizontal axis, respectively. This allows us to visualize how the Patient's Vital Status is related to 'Radio Therapy' and 'Nottingham prognostic index'.</p>\n",
        "\n",
        "<p>The default labels convey no useful information to us. Let's change that:</p>\n"
      ]
    },
    {
      "cell_type": "code",
      "execution_count": null,
      "id": "8598ee72-f96f-4b3d-870e-6d6e1338d11a",
      "metadata": {},
      "outputs": [],
      "source": [
        "fig, ax = plt.subplots()\n",
        "im = ax.pcolor(grouped_pivot, cmap='RdBu')\n",
        "\n",
        "#label names\n",
        "row_labels = grouped_pivot.columns.levels[1]\n",
        "col_labels = grouped_pivot.index\n",
        "\n",
        "#move ticks and labels to the center\n",
        "ax.set_xticks(np.arange(grouped_pivot.shape[1]) + 0.5, minor=False)\n",
        "ax.set_yticks(np.arange(grouped_pivot.shape[0]) + 0.5, minor=False)\n",
        "\n",
        "#insert labels\n",
        "ax.set_xticklabels(row_labels, minor=False)\n",
        "ax.set_yticklabels(col_labels, minor=False)\n",
        "\n",
        "#rotate label if too long\n",
        "plt.xticks(rotation=90)\n",
        "\n",
        "fig.colorbar(im)\n",
        "plt.show()"
      ]
    },
    {
      "cell_type": "markdown",
      "id": "1a42262b-18f9-4a2b-8ef2-9c96b5e4fb36",
      "metadata": {},
      "source": [
        "<p>Visualization is very important in data science, and Python visualization packages provide great freedom. We will go more in-depth in a separate Python visualizations course.</p>\n",
        "\n",
        "<p>The main question we want to answer in this module is, \"What are the main characteristics which have the most impact on the Patient's Vital Status?\".</p>\n",
        "\n",
        "<p>To get a better measure of the important characteristics, we look at the correlation of these variables with the Patient's Vital Status. In other words: how is the Patient's Vital Status dependent on this variable?</p>\n"
      ]
    },
    {
      "cell_type": "markdown",
      "id": "90a22887-047b-4021-8e75-3a2f3fbe10dd",
      "metadata": {},
      "source": [
        "<p id=\"correlation_causation\"></p>\n",
        "<h2>5. Correlation and Causation</h2>\n"
      ]
    },
    {
      "cell_type": "markdown",
      "id": "ab77bf7a-aba9-4eb7-9c01-53074aa4e7ff",
      "metadata": {},
      "source": [
        "<p><b>Correlation</b>: a measure of the extent of interdependence between variables.</p>\n",
        "\n",
        "<p><b>Causation</b>: the relationship between cause and effect between two variables.</p>\n",
        "\n",
        "<p>It is important to know the difference between these two. Correlation does not imply causation. Determining correlation is much simpler  the determining causation as causation may require independent experimentation.</p>\n"
      ]
    },
    {
      "cell_type": "markdown",
      "id": "ce21391a-095c-41e6-9705-36a026c00a1a",
      "metadata": {},
      "source": [
        "<p><b>Pearson Correlation</b></p>\n",
        "<p>The Pearson Correlation measures the linear dependence between two variables X and Y.</p>\n",
        "<p>The resulting coefficient is a value between -1 and 1 inclusive, where:</p>\n",
        "<ul>\n",
        "    <li><b>1</b>: Perfect positive linear correlation.</li>\n",
        "    <li><b>0</b>: No linear correlation, the two variables most likely do not affect each other.</li>\n",
        "    <li><b>-1</b>: Perfect negative linear correlation.</li>\n",
        "</ul>\n"
      ]
    },
    {
      "cell_type": "markdown",
      "id": "764be7d8-8f6e-45c9-8a8a-c46bc9fd4020",
      "metadata": {},
      "source": [
        "<p>Pearson Correlation is the default method of the function \"corr\". Like before, we can calculate the Pearson Correlation of the of the 'int64' or 'float64'  variables.</p>\n"
      ]
    },
    {
      "cell_type": "code",
      "execution_count": null,
      "id": "ccb020c0-d943-48a6-a76e-3c4ae0068a32",
      "metadata": {},
      "outputs": [],
      "source": [
        "df.corr()"
      ]
    },
    {
      "cell_type": "markdown",
      "id": "abc3daca-e058-401a-85f3-2e0a5fd18e06",
      "metadata": {},
      "source": [
        "Sometimes we would like to know the significant of the correlation estimate.\n"
      ]
    },
    {
      "cell_type": "markdown",
      "id": "505b96b8-0e14-4395-826e-0ccf39c20c73",
      "metadata": {},
      "source": [
        "<b>P-value</b>\n",
        "\n",
        "<p>What is this P-value? The P-value is the probability value that the correlation between these two variables is statistically significant. Normally, we choose a significance level of 0.05, which means that we are 95% confident that the correlation between the variables is significant.</p>\n",
        "\n",
        "By convention, when the\n",
        "\n",
        "<ul>\n",
        "    <li>p-value is $<$ 0.001: we say there is strong evidence that the correlation is significant.</li>\n",
        "    <li>the p-value is $<$ 0.05: there is moderate evidence that the correlation is significant.</li>\n",
        "    <li>the p-value is $<$ 0.1: there is weak evidence that the correlation is significant.</li>\n",
        "    <li>the p-value is $>$ 0.1: there is no evidence that the correlation is significant.</li>\n",
        "</ul>\n"
      ]
    },
    {
      "cell_type": "markdown",
      "id": "c7ce34ea-b3bb-4fb6-93b6-2a77db7d4f57",
      "metadata": {},
      "source": [
        "<h3>Each column vs. Patient's Vital Status</h3>\n"
      ]
    },
    {
      "cell_type": "markdown",
      "id": "fdc38857-02a3-46b5-9bed-a737cac15d6e",
      "metadata": {},
      "source": [
        "Let's calculate the  Pearson Correlation Coefficient and P-value of different columns of float and int type and 'Patient's Vital Status'.\n"
      ]
    },
    {
      "cell_type": "code",
      "execution_count": null,
      "id": "78191916-d0ab-451e-807e-85ad0d7f943d",
      "metadata": {},
      "outputs": [],
      "source": [
        "columns = df.select_dtypes(include=['int', 'float']).columns\n",
        "columns = columns[:-1]\n",
        "\n",
        "for c in columns:\n",
        "    pearson_coef, p_value = stats.pearsonr(df[c], df[\"Patient's Vital Status - transformed\"])\n",
        "    print(c, \":\\n Pearson Correlation Coefficient is\", round(pearson_coef, 2), \" with a P-value of P=\", \"{:.2e}\".format(p_value))\n"
      ]
    },
    {
      "cell_type": "markdown",
      "id": "44414947-62af-43d4-b4ec-8e44981448d4",
      "metadata": {},
      "source": [
        "<h4>Conclusion:</h4>\n",
        "<p>Since the p-value is $<$ 0.001, the correlation between different columns and Patient's Vital Status is statistically significant, although the linear relationship isn't extremely strong. These columns are 'Overall Survival (Months)', 'Relapse Free Status (Months)', 'Relapse Free Status-Not Recurred', 'Relapse Free Status-Recurred', 'Lymph nodes examined positive'.\n",
        "</p>\n"
      ]
    },
    {
      "cell_type": "markdown",
      "id": "c728732d-2413-4a45-ab08-b321689f3266",
      "metadata": {},
      "source": [
        "<p id=\"anova\"></p>\n",
        "<h2>6. ANOVA</h2>\n"
      ]
    },
    {
      "cell_type": "markdown",
      "id": "16280c6b-e5d6-4089-b043-d3f483faa64e",
      "metadata": {},
      "source": [
        "<h3>ANOVA: Analysis of Variance</h3>\n",
        "<p>A statistical technique called the Analysis of Variance (ANOVA) is used to determine whether the means of two or more groups differ significantly from one another. Two parameters are returned by ANOVA:</p>\n",
        "\n",
        "<p><b>F-test score</b>: ANOVA determines how much the actual means differ from the presumption and reports it as the F-test score. It makes the assumption that all group means are equal. A higher score indicates a greater disparity between the means.</p>\n",
        "\n",
        "\n",
        "<p>The P-value indicates the statistical significance of the derived score value.</p>\n",
        "\n",
        "<p>ANOVA should produce a sizeable F-test score and a low p-value if our pricing variable is strongly associated with the variable we are examining.</p>\n"
      ]
    },
    {
      "cell_type": "markdown",
      "id": "7e81aba6-7c30-4071-b3b2-fcdd788f68de",
      "metadata": {},
      "source": [
        "<h3>Nottingham prognostic index</h3>\n"
      ]
    },
    {
      "cell_type": "markdown",
      "id": "9d99b097-457a-46ba-825b-dec01ac4ec1c",
      "metadata": {},
      "source": [
        "<p>Since ANOVA analyzes the difference between different groups of the same variable, the groupby function will come in handy. Because the ANOVA algorithm averages the data automatically, we do not need to take the average before hand.</p>\n",
        "\n",
        "<p>To see if different types of 'Nottingham prognostic index' impact  'Patient's Vital Status', we group the data.</p>\n"
      ]
    },
    {
      "cell_type": "code",
      "execution_count": null,
      "id": "51d74f39-1fb4-411d-ae24-c987ed0dc650",
      "metadata": {},
      "outputs": [],
      "source": [
        "grouped_test2=df_gptest[['Nottingham prognostic index', \"Patient's Vital Status - transformed\"]].groupby(['Nottingham prognostic index'])\n",
        "grouped_test2.head(2)"
      ]
    },
    {
      "cell_type": "code",
      "execution_count": null,
      "id": "39fef9fa-81ad-46d7-b623-d34906fd37e9",
      "metadata": {},
      "outputs": [],
      "source": [
        "df_gptest"
      ]
    },
    {
      "cell_type": "markdown",
      "id": "170c76c0-6ea8-417a-852d-91183c1ea3b4",
      "metadata": {},
      "source": [
        "We can obtain the values of the method group using the method \"get_group\".\n"
      ]
    },
    {
      "cell_type": "code",
      "execution_count": null,
      "id": "f3c947d7-4b6d-4260-95e6-892e5e4cac37",
      "metadata": {},
      "outputs": [],
      "source": [
        "grouped_test2.get_group(1)[\"Patient's Vital Status - transformed\"]"
      ]
    },
    {
      "cell_type": "markdown",
      "id": "1154e224-983c-4add-bbb4-32fe05187880",
      "metadata": {},
      "source": [
        "We can use the function 'f_oneway' in the module 'stats' to obtain the <b>F-test score</b> and <b>P-value</b>.\n"
      ]
    },
    {
      "cell_type": "code",
      "execution_count": null,
      "id": "103313b5-7bb7-4f4d-85f6-f395613eb900",
      "metadata": {},
      "outputs": [],
      "source": [
        "# ANOVA\n",
        "f_val, p_val = stats.f_oneway(grouped_test2.get_group(1)[\"Patient's Vital Status - transformed\"], grouped_test2.get_group(2)[\"Patient's Vital Status - transformed\"], grouped_test2.get_group(3)[\"Patient's Vital Status - transformed\"], grouped_test2.get_group(4)[\"Patient's Vital Status - transformed\"], grouped_test2.get_group(5)[\"Patient's Vital Status - transformed\"], grouped_test2.get_group(6)[\"Patient's Vital Status - transformed\"], grouped_test2.get_group(7)[\"Patient's Vital Status - transformed\"])\n",
        " \n",
        "print( \"ANOVA results: F=\", round(f_val, 2), \", P =\", \"{:.2e}\".format(p_value))"
      ]
    },
    {
      "cell_type": "markdown",
      "id": "e1eada3e-0aa2-4346-b4d2-ea91cda21906",
      "metadata": {},
      "source": [
        "This is a great result with a large F-test score showing a strong correlation and a P-value of almost 0 implying almost certain statistical significance. But does this mean all seven tested groups are all this highly correlated?\n",
        "\n",
        "Let's examine them separately.\n"
      ]
    },
    {
      "cell_type": "markdown",
      "id": "5a3cad1e-bb76-4fa7-8bc9-92bc4d806e22",
      "metadata": {},
      "source": [
        "To compare pairs of groups we can use `itertools`"
      ]
    },
    {
      "cell_type": "code",
      "execution_count": null,
      "id": "2b4b03fd-5dee-4dc7-8f80-b66fb7a9bdb7",
      "metadata": {},
      "outputs": [],
      "source": [
        "values = [1, 2, 3, 4, 5, 6, 7]\n",
        "for a, b in itertools.combinations(values, 2):\n",
        "    f_val, p_val = stats.f_oneway(grouped_test2.get_group(a)[\"Patient's Vital Status - transformed\"], grouped_test2.get_group(b)[\"Patient's Vital Status - transformed\"])\n",
        "    print(a, \"and\", b, \"ANOVA results: F=\", round(f_val, 2), \", P =\", \"{:.2e}\".format(p_val))"
      ]
    },
    {
      "cell_type": "markdown",
      "id": "febec91b-1760-402d-9386-9cc33d08e6cc",
      "metadata": {},
      "source": [
        "Results represent that some of separately compared pairs of groups have different F and P value from other pairs. So only some of them are highly correlated"
      ]
    },
    {
      "cell_type": "markdown",
      "id": "902e8941-07d3-4f91-ab39-92676e18ee64",
      "metadata": {},
      "source": [
        "<h3>Conclusion: Important Variables</h3>\n"
      ]
    },
    {
      "cell_type": "markdown",
      "id": "ec2edd70-1ec8-4682-a610-c31390adb332",
      "metadata": {},
      "source": [
        "<p>We now have a better idea of what our data looks like and which variables are important to take into account when predicting the Patient's Vital Status. We have narrowed it down to the following variables:</p>\n",
        "\n",
        "Continuous numerical variables:\n",
        "\n",
        "<ul>\n",
        "    <li>Overall Survival (Months)</li>\n",
        "    <li>Relapse Free Status (Months)</li>\n",
        "    <li>Relapse Free Status-Not Recurred</li>\n",
        "    <li>Relapse Free Status-Recurred</li>\n",
        "    <li>Lymph nodes examined positive</li>\n",
        "    <li>Nottingham prognostic index</li>\n",
        "    <li>Tumor Stage</li>\n",
        "</ul>\n",
        "\n",
        "Categorical variables:\n",
        "\n",
        "<ul>\n",
        "    <li>Pam50 + Claudin-low subtype</li>\n",
        "    <li>Integrative Cluster</li>\n",
        "    <li>Overall Survival Status</li>\n",
        "</ul>\n",
        "\n",
        "<p>As we now move into building machine learning models to automate our analysis, feeding the model with variables that meaningfully affect our target variable will improve our model's prediction performance.</p>\n"
      ]
    },
    {
      "cell_type": "markdown",
      "id": "32c2de5d-133e-4712-a3e2-528c79dd13b0",
      "metadata": {},
      "source": [
        "Before saving the DataSet, let's remove the unnecessary columns.\n"
      ]
    },
    {
      "cell_type": "code",
      "execution_count": null,
      "id": "fb6c93e0-eea7-43cd-9af5-f383cbb170eb",
      "metadata": {},
      "outputs": [],
      "source": [
        "df[\"Cancer Type\"].value_counts()"
      ]
    },
    {
      "cell_type": "markdown",
      "id": "a9bc04e2-d5f4-4f9c-9482-7723bb550cc5",
      "metadata": {},
      "source": [
        "In this particular case, \"Breast Sarcoma\" only appears three times out of a total of 2509 cases, which is less than 0.1% of the total data. This means that it is unlikely that this value will have a significant impact on any predictions or decisions. Therefore, deleting this column may simplify our analysis and improve its accuracy and interpretability.\n",
        "We do not need \"Overall Survival Status\", because our predictive column is \"Patient's Vital Status\".\n",
        "The \"Sex\" column can also be removed because all patients are female."
      ]
    },
    {
      "cell_type": "code",
      "execution_count": null,
      "id": "7a1e45ca-5d50-4bd8-a754-0ba78e47d02b",
      "metadata": {},
      "outputs": [],
      "source": [
        "df = df.drop([\"Cancer Type\", \"Overall Survival Status\", \"Sex\", \"Patient\\'s Vital Status - transformed\"], axis=1)"
      ]
    },
    {
      "cell_type": "markdown",
      "id": "94520d4b-3de1-466b-9bc3-fd779138fb66",
      "metadata": {},
      "source": [
        "Save the new csv:"
      ]
    },
    {
      "cell_type": "code",
      "execution_count": null,
      "id": "0c0a480f-ccb9-4410-a390-f36e939e573e",
      "metadata": {},
      "outputs": [],
      "source": [
        "df.to_csv('clean_df.csv')"
      ]
    },
    {
      "cell_type": "markdown",
      "id": "c4ed6907-6862-4d67-969b-35d24493ec11",
      "metadata": {},
      "source": [
        "### Thank you for completing this lab!\n",
        "\n",
        "## Author\n",
        "\n",
        "<a href=\"https://author.skills.network/instructors/dmytro_shliakhovskyi\">Dmytro Shliakhovskyi</a>\n",
        "\n",
        "### Other Contributors\n",
        "\n",
        "<a href=\"https://author.skills.network/instructors/yaroslav_vyklyuk_2\">Prof. Yaroslav Vyklyuk, DrSc, PhD</a>\n",
        "\n",
        "<a href=\"https://author.skills.network/instructors/nataliya_boyko\">Ass. Prof. Nataliya Boyko, PhD</a>\n",
        "\n",
        "\n",
        "## Change Log\n",
        "\n",
        "| Date (YYYY-MM-DD) | Version | Changed By | Change Description                                         |\n",
        "| ----------------- | ------- | ---------- | ---------------------------------------------------------- |\n",
        "|    2023-03-11     | 01 | Dmytro Shliakhovkyi | Lab created |\n",
        "\n",
        "\n",
        "\n",
        "<hr>\n",
        "\n",
        "## <h3 align=\"center\"> © IBM Corporation 2020. All rights reserved. <h3/>\n"
      ]
    }
  ],
  "metadata": {
    "kernelspec": {
      "display_name": "Python 3",
      "language": "python",
      "name": "python3"
    },
    "language_info": {
      "codemirror_mode": {
        "name": "ipython",
        "version": 3
      },
      "file_extension": ".py",
      "mimetype": "text/x-python",
      "name": "python",
      "nbconvert_exporter": "python",
      "pygments_lexer": "ipython3",
      "version": "3.10.9"
    }
  },
  "nbformat": 4,
  "nbformat_minor": 4
}
