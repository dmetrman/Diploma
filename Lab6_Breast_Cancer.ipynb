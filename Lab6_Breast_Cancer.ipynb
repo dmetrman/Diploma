{
  "cells": [
    {
      "cell_type": "markdown",
      "id": "085cb721-7a20-4754-b645-ecdd2c452a64",
      "metadata": {},
      "source": [
        "<center>\n",
        "    <img src=\"https://cf-courses-data.s3.us.cloud-object-storage.appdomain.cloud/assets/logos/SN_web_lightmode.png\" width=\"300\" alt=\"cognitiveclass.ai logo\">\n",
        "</center>\n",
        "\n",
        "# **Breast Cancer Investigation**\n",
        "\n",
        "# Lab 6. Predicting the patient's status\n",
        "\n",
        "## Abstract\n",
        "\n",
        "In this lab, delve into healthcare data analysis using Python and Pandas, focusing on breast cancer prediction. Import essential libraries, load the dataset, and explore data pre-preparation and preparation techniques. Gain hands-on experience with Logistic Regression, ensemble of classifiers, and Decision Trees. Apply these models to predict patients' diagnoses accurately. Join this project to enhance your data analysis and machine learning skills, and unlock the potential of medical data models in improving breast cancer detection and treatment.\n",
        "\n",
        "Estimated time needed: **30** minutes\n",
        "\n",
        "## Objectives\n",
        "\n",
        "After completing this lab you will be able to:\n",
        "\n",
        "*   Be confident about your data analysis skills\n",
        "\n",
        "The statistical data obtained from <a href=\"https://www.kaggle.com/datasets/raghadalharbi/breast-cancer-gene-expression-profiles-metabric\">https://www.kaggle.com/datasets/raghadalharbi/breast-cancer-gene-expression-profiles-metabric</a> under <a href=\"https://opendatacommons.org/licenses/dbcl/1-0/\" target=\"_blank\">Database: Open Database, Contents: Database Contents</a> license.\n",
        "\n",
        "The Molecular Taxonomy of Breast Cancer International Consortium (METABRIC) database is a Canada-UK Project which contains targeted sequencing data of 1,980 primary breast cancer samples. Clinical and genomic data was downloaded from cBioPortal.\n",
        "\n",
        "The dataset was collected by Professor Carlos Caldas from Cambridge Research Institute and Professor Sam Aparicio from the British Columbia Cancer Centre in Canada and published on Nature Communications (Pereira et al., 2016). It was also featured in multiple papers including Nature and others."
      ]
    },
    {
      "cell_type": "markdown",
      "id": "fc2b45da-b042-4269-b09f-09d06a1ba985",
      "metadata": {},
      "source": [
        "## Table of Contents"
      ]
    },
    {
      "cell_type": "markdown",
      "id": "c5f9258c-f5ed-4db6-9e04-f63a87a2c082",
      "metadata": {},
      "source": [
        "<div class=\"alert alert-block alert-info\" style=\"margin-top: 20px\">\n",
        "  <ol>\n",
        "    <li><a href=\"#import-libraries\">Import libraries</a></li>\n",
        "    <li><a href=\"#importing-the-data\">Importing the Data</a></li>\n",
        "    <li><a href=\"#data-pre-preparation\">Data pre-preparation</a></li>\n",
        "    <li><a href=\"#data-preparation\">Data preparation</a></li>\n",
        "    <li><a href=\"#logistic-regression\">Logistic Regression</a></li>\n",
        "    <li><a href=\"#ensemble-of-classifiers\">Ensemble of classifiers</a></li>\n",
        "    <li><a href=\"#decision-trees\">Decision Trees</a></li>\n",
        "    <li><a href=\"#diagnoses-prediction\">Predict patients diagnoses</a></li>\n",
        "  </ol>\n",
        "</div>\n"
      ]
    },
    {
      "cell_type": "markdown",
      "id": "39e58c8b-71b7-4eba-bc31-8babb9853330",
      "metadata": {},
      "source": [
        "## 1. Import libraries <p id = \"import-libraries\"></p>"
      ]
    },
    {
      "cell_type": "code",
      "execution_count": null,
      "id": "c3af6f11-bbdb-4643-aaed-397df54f8467",
      "metadata": {},
      "outputs": [],
      "source": [
        "!pip install scikit-learn"
      ]
    },
    {
      "cell_type": "code",
      "execution_count": null,
      "id": "b909c1fe-4552-4590-b715-3d970d538dd7",
      "metadata": {},
      "outputs": [],
      "source": [
        "!pip install imblearn"
      ]
    },
    {
      "cell_type": "code",
      "execution_count": null,
      "id": "74aee79e-02f0-4b9f-b90d-d25f9b0bdc89",
      "metadata": {},
      "outputs": [],
      "source": [
        "!pip install dython"
      ]
    },
    {
      "cell_type": "code",
      "execution_count": 1,
      "id": "0e1d8131-9f48-40f1-a227-043b98233678",
      "metadata": {},
      "outputs": [],
      "source": [
        "import pandas as pd\n",
        "import numpy as np\n",
        "import matplotlib.pyplot as plt\n",
        "import matplotlib as mpl\n",
        "import seaborn as sns\n",
        "from sklearn.preprocessing import LabelEncoder, OrdinalEncoder, StandardScaler, MinMaxScaler\n",
        "from sklearn.compose import make_column_transformer\n",
        "from sklearn import set_config\n",
        "from sklearn.model_selection import train_test_split\n",
        "from imblearn.pipeline import make_pipeline\n",
        "from sklearn.metrics import plot_confusion_matrix\n",
        "from imblearn.over_sampling import RandomOverSampler\n",
        "from sklearn.linear_model import LogisticRegression\n",
        "from sklearn.svm import SVC\n",
        "from sklearn.ensemble import RandomForestClassifier, AdaBoostClassifier\n",
        "from sklearn.neural_network import MLPClassifier\n",
        "from sklearn.ensemble import GradientBoostingClassifier\n",
        "from sklearn.ensemble import BaggingClassifier\n",
        "from sklearn.ensemble import VotingClassifier\n",
        "from sklearn import tree\n",
        "from sklearn.metrics import recall_score\n",
        "from dython.nominal import associations\n",
        "from sklearn.model_selection import cross_val_score\n",
        "from sklearn.model_selection import cross_val_predict\n",
        "from sklearn.ensemble import ExtraTreesClassifier\n",
        "from sklearn.tree import DecisionTreeClassifier, ExtraTreeClassifier"
      ]
    },
    {
      "cell_type": "markdown",
      "id": "a1362d6f-d7f0-44d2-bcd2-1c5507a2fca7",
      "metadata": {},
      "source": [
        "<div class=\"alert alert-danger alertdanger\" style=\"margin-top: 20px\">\n",
        "If error appeared, please restart kernel or run this block again.\n",
        "</div>\n"
      ]
    },
    {
      "cell_type": "markdown",
      "id": "d459fe65-5e52-44c8-9aef-b40316c12fcf",
      "metadata": {},
      "source": [
        "Let's disable warnings by **[warnings.filterwarnings()](https://docs.python.org/3/library/warnings.html)**"
      ]
    },
    {
      "cell_type": "code",
      "execution_count": 2,
      "id": "fe433571-cae5-46ec-a924-4c965ffa0f2a",
      "metadata": {},
      "outputs": [],
      "source": [
        "import warnings\n",
        "warnings.filterwarnings('ignore')"
      ]
    },
    {
      "cell_type": "markdown",
      "id": "3800d4a1-ce6a-4067-a29d-0fe948af1283",
      "metadata": {},
      "source": [
        "## 2. Importing the Data <p id = \"importing-the-data\"></p>"
      ]
    },
    {
      "cell_type": "markdown",
      "id": "f5a7fdfb-fc09-4f56-9457-81f9fdd06f83",
      "metadata": {},
      "source": [
        "Load the csv:\n"
      ]
    },
    {
      "cell_type": "code",
      "execution_count": null,
      "id": "517676bf-cedb-41ef-a326-0f0c156ad424",
      "metadata": {},
      "outputs": [],
      "source": [
        "filename = \"https://cf-courses-data.s3.us.cloud-object-storage.appdomain.cloud/IBMSkillsNetwork-GPXX08UPEN/METABRIC_RNA_Mutation.csv\"\n",
        "df = pd.read_csv(filename)"
      ]
    },
    {
      "cell_type": "markdown",
      "id": "0b969a60-df6d-4701-ac3a-066a4775ecf3",
      "metadata": {},
      "source": [
        "We use the method  <code>head()</code>  to display the first 5 columns of the dataframe:"
      ]
    },
    {
      "cell_type": "code",
      "execution_count": null,
      "id": "e4205896-8601-4518-a0b2-dbb82e8108fd",
      "metadata": {},
      "outputs": [],
      "source": [
        "df.head()"
      ]
    },
    {
      "cell_type": "markdown",
      "id": "68eedb09-d29e-43e2-add1-cac4c8a7d9c7",
      "metadata": {},
      "source": [
        "<details>\n",
        "<summary><b>Click to see attribute information</b></summary>\n",
        "\n",
        "Input features (column names):\n",
        "\n",
        "    1. `patient_id` - Patient ID\n",
        "    2. `age_at_diagnosis` - Age of the patient at diagnosis time\n",
        "    3. `type_of_breast_surgery` - Breast cancer surgery type\n",
        "    4. `cancer_type` - Breast cancer types\n",
        "    5. `cancer_type_detailed` - Detailed Breast cancer types\n",
        "    6. `cellularity` - Cancer cellularity post-chemotherapy, which refers to the number of tumor cells in the specimen and their arrangement into clusters\n",
        "    7. `chemotherapy` - Whether or not the patient had chemotherapy as a treatment (yes/no)\n",
        "    8. `pam50_+_claudin-low_subtype` - Pam 50: is a tumor profiling test that helps show whether some estrogen receptor-positive (ER-positive), HER2-negative breast cancers are likely to metastasize (when breast cancer spreads to other organs).\n",
        "    9. `cohort` - A cohort is a group of subjects who share a defining characteristic\n",
        "    10. `er_status_measured_by_ihc` - To assess if estrogen receptors are expressed on cancer cells by using immune-histochemistry\n",
        "    11. `er_status` - Cancer cells are positive or negative for estrogen receptors\n",
        "    12. `neoplasm_histologic_grade` - Determined by pathology by looking at the nature of the cells, do they look aggressive or not\n",
        "    13. `her2_status_measured_by_snp6` - To assess if cancer positive for HER2 or not by using advanced molecular techniques\n",
        "    14. `her2_status` - Whether the cancer is positive or negative for HER2\n",
        "    15. `tumor_other_histologic_subtype` - Type of cancer based on microscopic examination of the cancer tissue\n",
        "    16. `hormone_therapy` - Whether or not the patient had hormonal as a treatment (yes/no)\n",
        "    17. `inferred_menopausal_state` - Whether the patient is is post-menopausal or not (post/pre)\n",
        "    18. `integrative_cluster` - Molecular subtype of cancer based on some gene expression\n",
        "    19. `primary_tumor_laterality` - Whether it is involving the right breast or the left breast\n",
        "    20. `lymph_nodes_examined_positive` - To take samples of the lymph node during the surgery and see if there were involved in the cancer\n",
        "    21. `mutation_count` - Number of a gene that has relevant mutations\n",
        "    22. `nottingham_prognostic_index` - It is used to determine the prognosis following surgery for breast cancer. Its value is calculated using three pathological criteria: the size of the tumor; the number of involved lymph nodes; and the grade of the tumor.\n",
        "    23. `oncotree_code` - The OncoTree is an open-source ontology that was developed at Memorial Sloan Kettering Cancer Center (MSK) for standardizing cancer-type diagnosis from a clinical perspective by assigning each diagnosis a unique OncoTree code.\n",
        "    24. `overall_survival_months` - Duration from the time of the intervention to death\n",
        "    25. `overall_survival` - Target variable whether the patient is alive or dead.\n",
        "    26. `pr_status` - Cancer cells are positive or negative for progesterone receptors\n",
        "    27. `radio_therapy` - Whether or not the patient had radio as a treatment (yes/no)\n",
        "    28. `3-gene_classifier_subtype` - Three Gene classifier subtype\n",
        "    29. `tumor_size` - Tumor size measured by imaging techniques\n",
        "    30. `tumor_stage` - Stage of cancer based on the involvement of surrounding structures, lymph nodes, and distant spread\n",
        "\n",
        "Output feature (desired target):\n",
        "\n",
        "    31. `death_from_cancer` - Whether the patient's death was due to cancer\n",
        "    \n",
        "</details>"
      ]
    },
    {
      "cell_type": "markdown",
      "id": "50e49871-3c71-492a-ab32-8024dc6fe17d",
      "metadata": {},
      "source": [
        "## 3. Data pre-preparation <p id=\"data-pre-preparation\"></p>"
      ]
    },
    {
      "cell_type": "markdown",
      "id": "0b82b7af-20d7-48d8-945e-5199bdcd1e0d",
      "metadata": {},
      "source": [
        "<div class=\"alert alert-danger alertdanger\" style=\"margin-top: 20px\">\n",
        "<h1> Question 1 </h1>\n",
        "<b>Delete unnecessary columns from 31 to the last one:</b>\n",
        "</div>"
      ]
    },
    {
      "cell_type": "code",
      "execution_count": null,
      "id": "6d5d9605-b17d-4c95-8abf-fd2ae847e299",
      "metadata": {},
      "outputs": [],
      "source": [
        "# Write your code below and press Shift+Enter to execute"
      ]
    },
    {
      "cell_type": "markdown",
      "id": "b98579dc-60ed-41de-8e92-6ff6d884a79d",
      "metadata": {},
      "source": [
        "<div class=\"alert alert-danger alertdanger\" style=\"margin-top: 20px\">\n",
        "<h1> Question 2 </h1>\n",
        "<b>Check for NaN and remove them using `dropna`:</b>\n",
        "</div>"
      ]
    },
    {
      "cell_type": "code",
      "execution_count": null,
      "id": "45f5fe18-589c-4d6b-98fa-0dc26009fc15",
      "metadata": {},
      "outputs": [],
      "source": [
        "# Write your code below and press Shift+Enter to execute"
      ]
    },
    {
      "cell_type": "markdown",
      "id": "e7407f8c-ec9d-4fb7-accf-436d0d0ac868",
      "metadata": {},
      "source": [
        "<div class=\"alert alert-danger alertdanger\" style=\"margin-top: 20px\">\n",
        "<h1> Question 3 </h1>\n",
        "<b>Build a correlation matrix for numeric columns and association heatmap for object columns:</b>\n",
        "</div>"
      ]
    },
    {
      "cell_type": "code",
      "execution_count": null,
      "id": "ef8fc9d6-4dbb-429b-9ace-bcea04e5a068",
      "metadata": {},
      "outputs": [],
      "source": [
        "# Write your code below and press Shift+Enter to execute"
      ]
    },
    {
      "cell_type": "markdown",
      "id": "68c58796-4655-489b-a5f1-b790d0649ee8",
      "metadata": {},
      "source": [
        "<div class=\"alert alert-danger alertdanger\" style=\"margin-top: 20px\">\n",
        "<h1> Question 4 </h1>\n",
        "<b>Remove columns that are strictly correlate each other:</b>\n",
        "</div>"
      ]
    },
    {
      "cell_type": "code",
      "execution_count": null,
      "id": "6b240a48-6de9-4ea5-991c-ec87e2b3b9d2",
      "metadata": {},
      "outputs": [],
      "source": [
        "# Write your code below and press Shift+Enter to execute"
      ]
    },
    {
      "cell_type": "markdown",
      "id": "32c0184b-3bbc-44e9-8c90-1df01585dda6",
      "metadata": {},
      "source": [
        "<div class=\"alert alert-danger alertdanger\" style=\"margin-top: 20px\">\n",
        "<h1> Question 5 </h1>\n",
        "<b>Check the data type of the columns and change their data type:</b>\n",
        "</div>"
      ]
    },
    {
      "cell_type": "code",
      "execution_count": null,
      "id": "221b3f2a-1865-491b-b9ef-8c0d7112408a",
      "metadata": {},
      "outputs": [],
      "source": [
        "# Write your code below and press Shift+Enter to execute"
      ]
    },
    {
      "cell_type": "markdown",
      "id": "8db0a985-048f-462f-b91a-ea59e1625b65",
      "metadata": {},
      "source": [
        "## 4. Data preparation <p id=\"data-preparation\"></p>"
      ]
    },
    {
      "cell_type": "markdown",
      "id": "5dddd205-6651-4632-978b-548ac779e7fd",
      "metadata": {},
      "source": [
        "<div class=\"alert alert-danger alertdanger\" style=\"margin-top: 20px\">\n",
        "<h1> Question 6 </h1>\n",
        "<b>Create two dataframes for the feature column and the target column:</b>\n",
        "</div>"
      ]
    },
    {
      "cell_type": "code",
      "execution_count": null,
      "id": "4b30adee-3ee1-4781-a75e-d241ffe0979c",
      "metadata": {},
      "outputs": [],
      "source": [
        "# Write your code below and press Shift+Enter to execute"
      ]
    },
    {
      "cell_type": "markdown",
      "id": "0967ba6a-d089-474e-a67e-9f7ce813a868",
      "metadata": {},
      "source": [
        "<div class=\"alert alert-danger alertdanger\" style=\"margin-top: 20px\">\n",
        "<h1> Question 7 </h1>\n",
        "<b>Create transformer using `make_column_transformer`:</b>\n",
        "</div>"
      ]
    },
    {
      "cell_type": "code",
      "execution_count": null,
      "id": "0c5d4962-a6dc-4845-a782-5f2717dc425e",
      "metadata": {},
      "outputs": [],
      "source": [
        "# Write your code below and press Shift+Enter to execute"
      ]
    },
    {
      "cell_type": "markdown",
      "id": "6142df5b-26b8-4f7f-93cc-f6bea5c81110",
      "metadata": {},
      "source": [
        "<div class=\"alert alert-danger alertdanger\" style=\"margin-top: 20px\">\n",
        "<h1> Question 8 </h1>\n",
        "<b>Incorporate a train/test split with a ratio of 0.3 for our DataSet:</b>\n",
        "</div>"
      ]
    },
    {
      "cell_type": "code",
      "execution_count": null,
      "id": "a362f304-4276-4542-abc5-f9a74a6ae055",
      "metadata": {},
      "outputs": [],
      "source": [
        "# Write your code below and press Shift+Enter to execute"
      ]
    },
    {
      "cell_type": "markdown",
      "id": "20b1f8c5-7e2d-461b-9068-744cbd799ead",
      "metadata": {},
      "source": [
        "## 5. Logistic Regression <p id=\"logistic-regression\">"
      ]
    },
    {
      "cell_type": "markdown",
      "id": "dda7afe1-47af-4bdf-82ae-eb211e7dd289",
      "metadata": {},
      "source": [
        "<div class=\"alert alert-danger alertdanger\" style=\"margin-top: 20px\">\n",
        "<h1> Question 9 </h1>\n",
        "<b>Create a logistic regression pipeline and fit it:</b>\n",
        "</div>"
      ]
    },
    {
      "cell_type": "code",
      "execution_count": null,
      "id": "f6664b78-ec8f-489b-ac9d-37cf61764861",
      "metadata": {},
      "outputs": [],
      "source": [
        "# Write your code below and press Shift+Enter to execute"
      ]
    },
    {
      "cell_type": "markdown",
      "id": "c90f108c-21a2-40d8-a3aa-d106155b571d",
      "metadata": {},
      "source": [
        "<div class=\"alert alert-danger alertdanger\" style=\"margin-top: 20px\">\n",
        "<h1> Question 10 </h1>\n",
        "<b>Calculate the accuracy of the pipeline for test and train DataSets:</b>\n",
        "</div>"
      ]
    },
    {
      "cell_type": "code",
      "execution_count": null,
      "id": "08faa91e-4fd9-4f89-a93a-4f1afc8c0f69",
      "metadata": {},
      "outputs": [],
      "source": [
        "# Write your code below and press Shift+Enter to execute"
      ]
    },
    {
      "cell_type": "markdown",
      "id": "232b2f49-7f25-4d35-8d51-e9a183a6a810",
      "metadata": {},
      "source": [
        "<div class=\"alert alert-danger alertdanger\" style=\"margin-top: 20px\">\n",
        "<h1> Question 11 </h1>\n",
        "<b>Add cross-validation and predict the output:</b>\n",
        "</div>"
      ]
    },
    {
      "cell_type": "code",
      "execution_count": null,
      "id": "0a2ec8e3-b577-4f8d-90bc-31254e7b5dc1",
      "metadata": {},
      "outputs": [],
      "source": [
        "# Write your code below and press Shift+Enter to execute"
      ]
    },
    {
      "cell_type": "markdown",
      "id": "c145c1ac-4b40-4599-8957-c291b825c10b",
      "metadata": {},
      "source": [
        "<div class=\"alert alert-danger alertdanger\" style=\"margin-top: 20px\">\n",
        "<h1> Question 12 </h1>\n",
        "<b>Plot the confusion matrix:</b>\n",
        "</div>"
      ]
    },
    {
      "cell_type": "code",
      "execution_count": null,
      "id": "f38fdb8a-75aa-4749-8e44-bdb73306dcbf",
      "metadata": {},
      "outputs": [],
      "source": [
        "# Write your code below and press Shift+Enter to execute"
      ]
    },
    {
      "cell_type": "markdown",
      "id": "b14a2988-6386-453b-b0a2-4e64c9ec3cbf",
      "metadata": {},
      "source": [
        "## 6. Ensemble of classifiers <p id=\"ensemble-of-classifiers\"></p>"
      ]
    },
    {
      "cell_type": "markdown",
      "id": "3c21892a-c7a4-4df6-a974-da785ba8f9b9",
      "metadata": {},
      "source": [
        "<div class=\"alert alert-danger alertdanger\" style=\"margin-top: 20px\">\n",
        "<h1> Question 13 </h1>\n",
        "<b>Determine if the count of values in the target column is alike:</b>\n",
        "</div>"
      ]
    },
    {
      "cell_type": "code",
      "execution_count": null,
      "id": "d200bb97-cb94-452f-bd4a-8f65914c6b0f",
      "metadata": {},
      "outputs": [],
      "source": [
        "# Write your code below and press Shift+Enter to execute"
      ]
    },
    {
      "cell_type": "markdown",
      "id": "3f75b8f2-701d-440c-b897-3756bfbcdf10",
      "metadata": {},
      "source": [
        "<div class=\"alert alert-danger alertdanger\" style=\"margin-top: 20px\">\n",
        "<h1> Question 14 </h1>\n",
        "<b>Use `RandomOverSampler` to balance the number of values in the target column:</b>\n",
        "</div>"
      ]
    },
    {
      "cell_type": "code",
      "execution_count": null,
      "id": "c77865bc-d138-4e77-9d9e-a6cfe83ad6ea",
      "metadata": {},
      "outputs": [],
      "source": [
        "# Write your code below and press Shift+Enter to execute"
      ]
    },
    {
      "cell_type": "markdown",
      "id": "3b893193-3d1e-4c90-9490-eb9be3080d26",
      "metadata": {},
      "source": [
        "<div class=\"alert alert-danger alertdanger\" style=\"margin-top: 20px\">\n",
        "<h1> Question 15 </h1>\n",
        "<b>Add this function to our `Pipeline` and fit the model:</b>\n",
        "</div>"
      ]
    },
    {
      "cell_type": "code",
      "execution_count": null,
      "id": "2f76f7ed-3600-46c9-b153-e801993f2f66",
      "metadata": {},
      "outputs": [],
      "source": [
        "# Write your code below and press Shift+Enter to execute"
      ]
    },
    {
      "cell_type": "markdown",
      "id": "ee7ec9a8-5619-4770-90a1-f8becc7eccea",
      "metadata": {},
      "source": [
        "<div class=\"alert alert-danger alertdanger\" style=\"margin-top: 20px\">\n",
        "<h1> Question 16 </h1>\n",
        "<b>Calculate the accuracy for `pipe_s_lr` using the `Recall` metric:</b>\n",
        "</div>"
      ]
    },
    {
      "cell_type": "code",
      "execution_count": null,
      "id": "22ba28f0-9eef-44d7-b091-97090069c676",
      "metadata": {},
      "outputs": [],
      "source": [
        "# Write your code below and press Shift+Enter to execute"
      ]
    },
    {
      "cell_type": "markdown",
      "id": "0ceda439-804a-443d-8b55-a2b44c7bcda3",
      "metadata": {},
      "source": [
        "<div class=\"alert alert-danger alertdanger\" style=\"margin-top: 20px\">\n",
        "<h1> Question 17 </h1>\n",
        "<b>Plot the confusion matrix for `pipe_s_lr`:</b>\n",
        "</div>"
      ]
    },
    {
      "cell_type": "code",
      "execution_count": null,
      "id": "942d56ed-534d-4fb1-afa2-40c5009d322a",
      "metadata": {},
      "outputs": [],
      "source": [
        "# Write your code below and press Shift+Enter to execute"
      ]
    },
    {
      "cell_type": "markdown",
      "id": "652a8232-4c05-401e-b9d2-1cb0b68d2a8e",
      "metadata": {},
      "source": [
        "<div class=\"alert alert-danger alertdanger\" style=\"margin-top: 20px\">\n",
        "<h1> Question 18 </h1>\n",
        "<b>Add cross-validation for `pipe_s_lr` and predict the output:</b>\n",
        "</div>"
      ]
    },
    {
      "cell_type": "code",
      "execution_count": null,
      "id": "8961e7ae-219f-4909-99c2-2bc9cf04b48b",
      "metadata": {},
      "outputs": [],
      "source": [
        "# Write your code below and press Shift+Enter to execute"
      ]
    },
    {
      "cell_type": "markdown",
      "id": "5be10af9-bea4-4656-82bf-4f24007ff702",
      "metadata": {},
      "source": [
        "<div class=\"alert alert-danger alertdanger\" style=\"margin-top: 20px\">\n",
        "<h1> Question 19 </h1>\n",
        "<b>Create an ensemble of classifiers including `VotingClassifier` and calculate their accuracy:</b>\n",
        "</div>"
      ]
    },
    {
      "cell_type": "code",
      "execution_count": null,
      "id": "b88777b4-dc41-4702-9470-05a046f24797",
      "metadata": {},
      "outputs": [],
      "source": [
        "# Write your code below and press Shift+Enter to execute"
      ]
    },
    {
      "cell_type": "markdown",
      "id": "c2f84d18-2005-4197-8022-ccc00e993294",
      "metadata": {},
      "source": [
        "<div class=\"alert alert-danger alertdanger\" style=\"margin-top: 20px\">\n",
        "<h1> Question 20 </h1>\n",
        "<b>Display the accuracy of each classifier:</b>\n",
        "</div>"
      ]
    },
    {
      "cell_type": "code",
      "execution_count": null,
      "id": "b1226f2e-759f-4c20-9785-30446114ee07",
      "metadata": {},
      "outputs": [],
      "source": [
        "# Write your code below and press Shift+Enter to execute"
      ]
    },
    {
      "cell_type": "markdown",
      "id": "c6d60f44-14fc-4621-98ab-4d6cb053c9d3",
      "metadata": {},
      "source": [
        "<div class=\"alert alert-danger alertdanger\" style=\"margin-top: 20px\">\n",
        "<h1> Question 21 </h1>\n",
        "<b>Build a diagram of classifiers' accuracy:</b>\n",
        "</div>"
      ]
    },
    {
      "cell_type": "code",
      "execution_count": null,
      "id": "fc91760c-b45a-446e-b59d-a5b6775e7264",
      "metadata": {},
      "outputs": [],
      "source": [
        "# Write your code below and press Shift+Enter to execute"
      ]
    },
    {
      "cell_type": "markdown",
      "id": "8e87a75e-1c20-4f3a-97d1-8486c171d0d6",
      "metadata": {},
      "source": [
        "## 7. Decision Trees <p id=\"decision-trees\"></p>"
      ]
    },
    {
      "cell_type": "markdown",
      "id": "91be2e06-27a2-4f1d-a778-a7bfbebdfe97",
      "metadata": {},
      "source": [
        "<div class=\"alert alert-danger alertdanger\" style=\"margin-top: 20px\">\n",
        "<h1> Question 22 </h1>\n",
        "<b>Create a Pipeline based on Decision Tree and calculate the accuracy:</b>\n",
        "</div>"
      ]
    },
    {
      "cell_type": "code",
      "execution_count": null,
      "id": "c055dc08-9037-404d-89d6-d5037f4f40f1",
      "metadata": {},
      "outputs": [],
      "source": [
        "# Write your code below and press Shift+Enter to execute"
      ]
    },
    {
      "cell_type": "markdown",
      "id": "7883d459-7539-4722-a50e-b3827968093d",
      "metadata": {},
      "source": [
        "<div class=\"alert alert-danger alertdanger\" style=\"margin-top: 20px\">\n",
        "<h1> Question 23 </h1>\n",
        "<b>Build a text visualization of decision tree:</b>\n",
        "</div>"
      ]
    },
    {
      "cell_type": "code",
      "execution_count": null,
      "id": "a14cbaa1-f84c-49f5-84aa-5b442f47db78",
      "metadata": {},
      "outputs": [],
      "source": [
        "# Write your code below and press Shift+Enter to execute"
      ]
    },
    {
      "cell_type": "markdown",
      "id": "504c132f-9ecf-4377-b7a3-2a479c80da01",
      "metadata": {},
      "source": [
        "<div class=\"alert alert-danger alertdanger\" style=\"margin-top: 20px\">\n",
        "<h1> Question 24 </h1>\n",
        "<b>Plot decision tree using `plot_tree`:</b>\n",
        "</div>"
      ]
    },
    {
      "cell_type": "code",
      "execution_count": null,
      "id": "4b3e5613-72e3-479b-a4df-a3dd99e8031b",
      "metadata": {},
      "outputs": [],
      "source": [
        "# Write your code below and press Shift+Enter to execute"
      ]
    },
    {
      "cell_type": "markdown",
      "id": "2bcb42fd-ea93-4b96-89c7-ee95a3198f65",
      "metadata": {},
      "source": [
        "## 8. Predict patients diagnoses <p id=\"diagnoses-prediction\"></p>"
      ]
    },
    {
      "cell_type": "markdown",
      "id": "97b208da-f4d6-4b7a-b08d-c2191cdd4b4b",
      "metadata": {},
      "source": [
        "<div class=\"alert alert-danger alertdanger\" style=\"margin-top: 20px\">\n",
        "<h1> Question 25 </h1>\n",
        "<b>Compose a function called `create_ensemble()` that generates an ensemble utilizing a fixed count of classifiers previously established:</b>\n",
        "</div>"
      ]
    },
    {
      "cell_type": "code",
      "execution_count": null,
      "id": "f62bace0-a73b-44ca-96c9-87e14977e126",
      "metadata": {},
      "outputs": [],
      "source": [
        "# Write your code below and press Shift+Enter to execute"
      ]
    },
    {
      "cell_type": "markdown",
      "id": "cbb0fc1f-fdfa-494a-a9fa-38c6499c68ee",
      "metadata": {},
      "source": [
        "<div class=\"alert alert-danger alertdanger\" style=\"margin-top: 20px\">\n",
        "<h1> Question 26 </h1>\n",
        "<b>Compose a function called `create_ensemble()` that can predict patient vital status, with input parameters consisting of a classifier and a DataFrame:</b>\n",
        "</div>"
      ]
    },
    {
      "cell_type": "code",
      "execution_count": null,
      "id": "bdc2109c-832f-473a-9dd5-48e897ab3c3d",
      "metadata": {},
      "outputs": [],
      "source": [
        "# Write your code below and press Shift+Enter to execute"
      ]
    },
    {
      "cell_type": "markdown",
      "id": "1b6dce6a-14ac-4202-92a2-b0bb7806b3de",
      "metadata": {},
      "source": [
        "<div class=\"alert alert-danger alertdanger\" style=\"margin-top: 20px\">\n",
        "<h1> Question 27 </h1>\n",
        "<b>Create list of classifiers:</b>\n",
        "</div>"
      ]
    },
    {
      "cell_type": "code",
      "execution_count": null,
      "id": "e3abf816-ef48-4d2c-b6c5-4dd640b6b5c4",
      "metadata": {},
      "outputs": [],
      "source": [
        "# Write your code below and press Shift+Enter to execute"
      ]
    },
    {
      "cell_type": "markdown",
      "id": "420b8269-d7aa-4ec4-a770-d9303cb39c1a",
      "metadata": {},
      "source": [
        "<div class=\"alert alert-danger alertdanger\" style=\"margin-top: 20px\">\n",
        "<h1> Question 28 </h1>\n",
        "<b>Create a new ensemble using `create_ensemble`:</b>\n",
        "</div>"
      ]
    },
    {
      "cell_type": "code",
      "execution_count": null,
      "id": "e6fa03ba-acc8-484d-90af-e2f65ec9acbc",
      "metadata": {},
      "outputs": [],
      "source": [
        "# Write your code below and press Shift+Enter to execute"
      ]
    },
    {
      "cell_type": "markdown",
      "id": "28f61eb3-11ae-4735-b8b8-996a126e7c22",
      "metadata": {},
      "source": [
        "<div class=\"alert alert-danger alertdanger\" style=\"margin-top: 20px\">\n",
        "<h1> Question 29 </h1>\n",
        "<b>Make a predict using your new data and `predict_patient_status`:</b>\n",
        "</div>"
      ]
    },
    {
      "cell_type": "code",
      "execution_count": null,
      "id": "3ffdfd49-4f3d-4bac-9e95-ea791c5d91cd",
      "metadata": {},
      "outputs": [],
      "source": [
        "# Write your code below and press Shift+Enter to execute"
      ]
    },
    {
      "cell_type": "markdown",
      "id": "72190920-c2be-4a73-9ac5-4224d2aa2622",
      "metadata": {},
      "source": [
        "## Authors <p id=\"authors\"></p>"
      ]
    },
    {
      "cell_type": "markdown",
      "id": "974d11a5-ae62-4da6-b427-2b30e67411c0",
      "metadata": {},
      "source": [
        "### Thank you for completing this lab!\n",
        "\n",
        "## Author\n",
        "\n",
        "<a href=\"https://author.skills.network/instructors/dmytro_shliakhovskyi\">Dmytro Shliakhovskyi</a>\n",
        "\n",
        "### Other Contributors\n",
        "\n",
        "<a href=\"https://author.skills.network/instructors/yaroslav_vyklyuk_2\">Prof. Yaroslav Vyklyuk, DrSc, PhD</a>\n",
        "\n",
        "<a href=\"https://author.skills.network/instructors/nataliya_boyko\">Ass. Prof. Nataliya Boyko, PhD</a>\n",
        "\n",
        "\n",
        "## Change Log\n",
        "\n",
        "| Date (YYYY-MM-DD) | Version | Changed By | Change Description                                         |\n",
        "| ----------------- | ------- | ---------- | ---------------------------------------------------------- |\n",
        "|    2023-04-01     | 01 | Dmytro Shliakhovkyi | Lab created |\n",
        "\n",
        "\n",
        "\n",
        "<hr>\n",
        "\n",
        "## <h3 align=\"center\"> © IBM Corporation 2023. All rights reserved. <h3/>"
      ]
    }
  ],
  "metadata": {
    "kernelspec": {
      "display_name": "Python 3",
      "language": "python",
      "name": "python3"
    },
    "language_info": {
      "codemirror_mode": {
        "name": "ipython",
        "version": 3
      },
      "file_extension": ".py",
      "mimetype": "text/x-python",
      "name": "python",
      "nbconvert_exporter": "python",
      "pygments_lexer": "ipython3",
      "version": "3.10.9"
    }
  },
  "nbformat": 4,
  "nbformat_minor": 4
}
