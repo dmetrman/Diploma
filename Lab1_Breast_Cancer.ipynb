{
  "cells": [
    {
      "cell_type": "markdown",
      "id": "c33f79fb-3010-48d4-ae0b-36be8a12148d",
      "metadata": {},
      "source": [
        "<center>\n",
        "    <img src=\"https://cf-courses-data.s3.us.cloud-object-storage.appdomain.cloud/assets/logos/SN_web_lightmode.png\" width=\"300\" alt=\"cognitiveclass.ai logo\"  />\n",
        "</center>\n",
        "\n",
        "# **Breast Cancer Investigation**\n",
        "# Lab 1. DataSet investigation\n",
        "\n",
        "## Abstract\n",
        "Explore the world of healthcare data analysis using Python and Pandas in this exciting lab focused on breast cancer. Acquire essential skills to analyze a real dataset, identify key factors, and develop accurate predictive models for early detection. Join us to enhance your data analysis and machine learning expertise while making a tangible impact on healthcare.\n",
        "\n",
        "Estimated time needed: **10** minutes\n",
        "\n",
        "\n",
        "The laboratory work involves analyzing a breast cancer dataset with the aim of identifying factors that could affect the patient's vital status. The dataset contains information on patients who have been diagnosed with breast cancer, and the predictor column is the patient's vital status. The vital status column has three possible values: Living, Died of Other Causes, and Died of Disease.\n",
        "\n",
        "The purpose of this research is to identify the factors that contribute to the patient's vital status and to determine if there are any significant differences between the groups of patients who are still living, those who died of another causes, and those who died of the disease.\n",
        "\n",
        "To accomplish this, various statistical and analytical techniques will be employed to explore the relationships between the patient's vital status and other variables in the dataset, such as age, tumor size, lymph node status, and hormone receptor status.\n",
        "\n",
        "## Objectives\n",
        "\n",
        "After completing this lab you will be able to:\n",
        "\n",
        "*   Acquire data in various ways\n",
        "*   Obtain insights from data with Pandas library\n"
      ]
    },
    {
      "cell_type": "markdown",
      "id": "1c888798-e9e8-41a1-b0fb-8fd44e704d91",
      "metadata": {},
      "source": [
        "<h2>Table of Contents</h2>\n",
        "\n",
        "<div class=\"alert alert-block alert-info\" style=\"margin-top: 20px\">\n",
        "<ol>\n",
        "    <li><a href=\"#data_acquisition\">Data Acquisition</a>\n",
        "    <li><a href=\"#basic_insight\">Basic Insight of Dataset</a></li>\n",
        "</ol>\n",
        "\n",
        "</div>\n",
        "<hr>"
      ]
    },
    {
      "cell_type": "markdown",
      "id": "06d8bda9-4c4d-4657-9093-e7caf9916fff",
      "metadata": {},
      "source": [
        "<p id=\"data_acquisition\"></p>\n",
        "<h1>1. Data Acquisition</h1>\n",
        "<p>\n",
        "There are various formats for a dataset: .csv, .json, .xlsx  etc. The dataset can be stored in different places, on your local machine or sometimes online.<br>\n",
        "\n",
        "In this section, you will learn how to load a dataset into our Jupyter Notebook.<br>\n",
        "\n",
        "In our case, the Breast Cancer Dataset is an online source, and it is in a CSV (comma separated value) format. Let's use this dataset as an example to practice data reading.\n",
        "\n",
        "<ul>\n",
        "    <li>Data source: <a href=\"https://www.kaggle.com/datasets/gunesevitan/breast-cancer-metabric\">https://www.kaggle.com/datasets/gunesevitan/breast-cancer-metabric</a>.</li>\n",
        "    <li>Data type: csv</li>\n",
        "</ul>\n",
        "\n",
        "The statistical data obtained from <a href=\"https://www.kaggle.com/datasets/gunesevitan/breast-cancer-metabric\">https://www.kaggle.com/datasets/gunesevitan/breast-cancer-metabric</a> under <a href=\"https://opendatacommons.org/licenses/odbl/1-0/\" target=\"_blank\">Database: Open Database, Contents: © Original Authors</a> license.\n",
        "\n",
        "The Pandas Library is a useful tool that enables us to read various datasets into a dataframe; our Jupyter notebook platforms have a built-in <b>Pandas Library</b> so that all we need to do is import Pandas without installing.\n",
        "</p>\n"
      ]
    },
    {
      "cell_type": "markdown",
      "id": "000bcfb5-2697-4738-8881-262da9dab4a3",
      "metadata": {},
      "source": [
        "If you run the lab locally using Anaconda, you can load the correct library and versions by uncommenting the following:\n"
      ]
    },
    {
      "cell_type": "code",
      "execution_count": 2,
      "id": "9a99a503-72c4-42c6-835d-fde690bb9afa",
      "metadata": {},
      "outputs": [],
      "source": [
        "# import pandas library\n",
        "import pandas as pd\n",
        "import numpy as np"
      ]
    },
    {
      "cell_type": "markdown",
      "id": "a6a147ae-efd9-42db-8210-c4116c8dd2e6",
      "metadata": {},
      "source": [
        "This function will download the dataset into your browser\n"
      ]
    },
    {
      "cell_type": "markdown",
      "id": "784076ce-e2d8-4457-a70d-ad1248659053",
      "metadata": {},
      "source": [
        "<h2>Read Data</h2>\n",
        "<p>\n",
        "We use <code>pandas.read_csv()</code> function to read the csv file. In the brackets, we put the file path along with a quotation mark so that pandas will read the file into a dataframe from that address. The file path can be either an URL or your local file address.<br>\n",
        "</p>\n"
      ]
    },
    {
      "cell_type": "code",
      "execution_count": 3,
      "id": "fc9a471d-cc79-4b09-8b50-d2b38758f0d1",
      "metadata": {},
      "outputs": [],
      "source": [
        "path = \"https://cf-courses-data.s3.us.cloud-object-storage.appdomain.cloud/IBMSkillsNetwork-GPXX0TDCEN/breast_cancer.csv\""
      ]
    },
    {
      "cell_type": "markdown",
      "id": "3cbba221-43d2-4dd1-832f-39fb715839d7",
      "metadata": {},
      "source": [
        "This dataset was hosted on IBM Cloud object. Click <a href=\"https://cocl.us/DA101EN_object_storage?utm_medium=Exinfluencer&utm_source=Exinfluencer&utm_content=000026UJ&utm_term=10006555&utm_id=NA-SkillsNetwork-Channel-SkillsNetworkCoursesIBMDeveloperSkillsNetworkDA0101ENSkillsNetwork20235326-2021-01-01\">HERE</a> for free storage.\n"
      ]
    },
    {
      "cell_type": "code",
      "execution_count": null,
      "id": "61521410-088d-49f2-bb08-d1a6081680b6",
      "metadata": {},
      "outputs": [],
      "source": [
        "# Read the online file by the URL provides above, and assign it to variable \"df\"\n",
        "\n",
        "df = pd.read_csv(path)"
      ]
    },
    {
      "cell_type": "markdown",
      "id": "4a555b22-e12b-424e-b8d4-bf0ab5111c25",
      "metadata": {},
      "source": [
        "After reading the dataset, we can use the <code>dataframe.head(n)</code> method to check the top n rows of the dataframe, where n is an integer. Contrary to <code>dataframe.head(n)</code>, <code>dataframe.tail(n)</code> will show you the bottom n rows of the dataframe.\n"
      ]
    },
    {
      "cell_type": "code",
      "execution_count": null,
      "id": "9f19eca8-242b-4cf3-815d-f422382b08c9",
      "metadata": {},
      "outputs": [],
      "source": [
        "# show the first 5 rows using dataframe.head() method\n",
        "print(\"The first 5 rows of the dataframe\") \n",
        "df.head(5)"
      ]
    },
    {
      "cell_type": "markdown",
      "id": "f863ffc5-9386-4f83-8037-35e84e27d1a2",
      "metadata": {},
      "source": [
        "<div class=\"alert alert-danger alertdanger\" style=\"margin-top: 20px\">\n",
        "<h1> Question #1: </h1>\n",
        "<b>Check the bottom 10 rows of data frame \"df\".</b>\n",
        "</div>\n"
      ]
    },
    {
      "cell_type": "code",
      "execution_count": null,
      "id": "5e3adad0-8749-4dd6-b283-ac96c63ad80e",
      "metadata": {},
      "outputs": [],
      "source": [
        "# Write your code below and press Shift+Enter to execute\n"
      ]
    },
    {
      "cell_type": "markdown",
      "id": "66ef2e27-1c07-4a0c-a8e2-4583ebe3458a",
      "metadata": {},
      "source": [
        "<details><summary>Click here for the solution</summary>\n",
        "\n",
        "```python\n",
        "print(\"The last 10 rows of the dataframe\\n\")\n",
        "df.tail(10)\n",
        "```\n"
      ]
    },
    {
      "cell_type": "markdown",
      "id": "e2916471-b4c3-44f4-a1b9-43a62f3efce7",
      "metadata": {},
      "source": [
        "<h3>Rename Columns</h3>\n",
        "<p>\n",
        "Take a look at our dataset, it already has a header. But the names of some columns do not suit us, so we can rename them.\n",
        "</p>\n",
        "<p>\n",
        "We will use the <code>rename()</code> function.\n",
        "This method is very useful if we need to change some selected columns, then we need to specify only the information for the columns to be changed.\n",
        "</p>"
      ]
    },
    {
      "cell_type": "code",
      "execution_count": null,
      "id": "fb9290ae-ef29-4211-aaa6-61fd7aaa379b",
      "metadata": {},
      "outputs": [],
      "source": [
        "# rename headers list\n",
        "df = df.rename(columns={'ER status measured by IHC': 'ER Status Measured by IHC',\n",
        "                   'HER2 status measured by SNP6': 'HER2 Status Measured by SNP6',\n",
        "                   'Lymph nodes examined positive': 'Lymph Nodes Examined Positive',\n",
        "                   'Nottingham prognostic index': 'Nottingham Prognostic Index',\n",
        "                   '3-Gene classifier subtype': '3-Gene Classifier Subtype'})\n",
        "df.head(10)"
      ]
    },
    {
      "cell_type": "markdown",
      "id": "68884589-eae7-4d75-b727-bebe08b3d9c4",
      "metadata": {},
      "source": [
        "We can drop missing values along the column \"3-Gene Classifier Subtype\" as follows:"
      ]
    },
    {
      "cell_type": "code",
      "execution_count": null,
      "id": "35c7bf4c-dd0d-4a03-ac09-6caf8f2608cb",
      "metadata": {},
      "outputs": [],
      "source": [
        "df = df.dropna(subset=[\"3-Gene Classifier Subtype\"], axis=0)\n",
        "df.head(20)"
      ]
    },
    {
      "cell_type": "markdown",
      "id": "f6f57ef9-f758-4bd3-afe0-f43142ca335a",
      "metadata": {},
      "source": [
        "Now, we have successfully read the raw dataset and added the correct headers into the dataframe.\n"
      ]
    },
    {
      "cell_type": "markdown",
      "id": "cc5eb3f6-78ad-4774-b513-b85d19206df1",
      "metadata": {},
      "source": [
        " <div class=\"alert alert-danger alertdanger\" style=\"margin-top: 20px\">\n",
        "<h1> Question #2: </h1>\n",
        "<b>Find the name of the columns of the dataframe.</b>\n",
        "</div>\n"
      ]
    },
    {
      "cell_type": "code",
      "execution_count": null,
      "id": "a6c85209-ebd6-449d-ae66-84e520148113",
      "metadata": {},
      "outputs": [],
      "source": [
        "# Write your code below and press Shift+Enter to execute \n"
      ]
    },
    {
      "cell_type": "markdown",
      "id": "2c3f65e0-c611-41be-a931-c6de3d51cb52",
      "metadata": {},
      "source": [
        "<details><summary>Click here for the solution</summary>\n",
        "\n",
        "```python\n",
        "print(df.columns)\n",
        "```\n",
        "\n",
        "</details>\n"
      ]
    },
    {
      "cell_type": "markdown",
      "id": "f89f65f0-1e7e-4101-a573-1a4a4e928d5f",
      "metadata": {},
      "source": [
        "<h2>Save Dataset</h2>\n",
        "<p>\n",
        "Correspondingly, Pandas enables us to save the dataset to csv. By using the <code>dataframe.to_csv()</code> method, you can add the file path and name along with quotation marks in the brackets.\n",
        "</p>\n",
        "<p>\n",
        "For example, if you would save the dataframe <b>df</b> as <b>breast_cancer.csv</b> to your local machine, you may use the syntax below, where <code>index = False</code> means the row names will not be written.\n",
        "</p>\n"
      ]
    },
    {
      "cell_type": "raw",
      "id": "d0627f3e-c760-49c3-a040-3dc0f4f4c987",
      "metadata": {},
      "source": [
        "df.to_csv(\"breast_cancer.csv\", index=False)"
      ]
    },
    {
      "cell_type": "markdown",
      "id": "f8150b97-35f6-467e-a724-f0034d40fef4",
      "metadata": {},
      "source": [
        "We can also read and save other file formats. We can use similar functions like **`pd.read_csv()`** and **`df.to_csv()`** for other data formats. The functions are listed in the following table:\n"
      ]
    },
    {
      "cell_type": "markdown",
      "id": "2be0e099-d370-46b3-9056-2afba77c6850",
      "metadata": {},
      "source": [
        "<h2>Read/Save Other Data Formats</h2>\n",
        "\n",
        "| Data Formate |        Read       |            Save |\n",
        "| ------------ | :---------------: | --------------: |\n",
        "| csv          |  `pd.read_csv()`  |   `df.to_csv()` |\n",
        "| json         |  `pd.read_json()` |  `df.to_json()` |\n",
        "| excel        | `pd.read_excel()` | `df.to_excel()` |\n",
        "| hdf          |  `pd.read_hdf()`  |   `df.to_hdf()` |\n",
        "| sql          |  `pd.read_sql()`  |   `df.to_sql()` |\n",
        "| ...          |        ...        |             ... |\n"
      ]
    },
    {
      "cell_type": "markdown",
      "id": "51124344-a2a3-4cae-87e8-e4b677ee36c0",
      "metadata": {},
      "source": [
        "<p id=\"basic_insight\"></p>\n",
        "<h1>2. Basic Insight of Dataset</h1>\n",
        "<p>\n",
        "After reading data into Pandas dataframe, it is time for us to explore the dataset.<br>\n",
        "\n",
        "There are several ways to obtain essential insights of the data to help us better understand our dataset.\n",
        "\n",
        "</p>\n"
      ]
    },
    {
      "cell_type": "markdown",
      "id": "edc7ebdf-82fc-4234-8b5f-8e0d20de769e",
      "metadata": {},
      "source": [
        "<h2>Data Types</h2>\n",
        "<p>\n",
        "Data has a variety of types.<br>\n",
        "\n",
        "The main types stored in Pandas dataframes are <b>object</b>, <b>float</b>, <b>int</b>, <b>bool</b> and <b>datetime64</b>. In order to better learn about each attribute, it is always good for us to know the data type of each column. In Pandas:\n",
        "\n",
        "</p>\n"
      ]
    },
    {
      "cell_type": "code",
      "execution_count": null,
      "id": "2ce9b910-129c-44ba-9e3d-09cdb9f7d403",
      "metadata": {},
      "outputs": [],
      "source": [
        "df.dtypes\n"
      ]
    },
    {
      "cell_type": "markdown",
      "id": "51d25562-f62a-4257-b41c-c5d7cec8da70",
      "metadata": {},
      "source": [
        "A series with the data type of each column is returned.\n"
      ]
    },
    {
      "cell_type": "code",
      "execution_count": null,
      "id": "e47a46b9-e0e3-42ef-9a1f-bfb79d6caad1",
      "metadata": {},
      "outputs": [],
      "source": [
        "# check the data type of data frame \"df\" by .dtypes\n",
        "print(df.dtypes)"
      ]
    },
    {
      "cell_type": "markdown",
      "id": "381b685b-be85-45f8-9888-eebdce4d230d",
      "metadata": {},
      "source": [
        "<p>\n",
        "As shown above, it is clear to see that the data type of \"Patient ID\" and \"Type of Breast Surgery\" are <code>object</code>, \"Age at Diagnosis\" and \"Cohort\" is <code>float64</code>, etc.\n",
        "</p>\n",
        "<p>\n",
        "These data types can be changed; we will learn how to accomplish this in a later module.\n",
        "</p>\n"
      ]
    },
    {
      "cell_type": "markdown",
      "id": "8363aed0-59bc-49ee-bf32-a9b1afb7a7be",
      "metadata": {},
      "source": [
        "<h2>Describe</h2>\n",
        "If we would like to get a statistical summary of each column e.g. count, column mean value, column standard deviation, etc., we use the describe method:\n"
      ]
    },
    {
      "cell_type": "raw",
      "id": "c23a27ef-f702-49b7-8954-17612a55263d",
      "metadata": {},
      "source": [
        "dataframe.describe()"
      ]
    },
    {
      "cell_type": "markdown",
      "id": "604a9401-6b7b-4b93-bdc7-3f1c40b0d3e2",
      "metadata": {},
      "source": [
        "This method will provide various summary statistics, excluding <code>NaN</code> (Not a Number) values.\n"
      ]
    },
    {
      "cell_type": "code",
      "execution_count": null,
      "id": "9c779f22-d7a8-4c76-b215-67812b795cfc",
      "metadata": {},
      "outputs": [],
      "source": [
        "df.describe()"
      ]
    },
    {
      "cell_type": "markdown",
      "id": "762858cf-7749-439b-b53e-01657a22661b",
      "metadata": {},
      "source": [
        "<p>\n",
        "This shows the statistical summary of all numeric-typed (int, float) columns.<br>\n",
        "\n",
        "For example, the attribute \"Age at Diagnosis\" has 1764 counts, the mean value of this column is 61.16, the standard deviation is 12.94, the minimum value is 21.93, 25th percentile is 51.45, 50th percentile is 61.88, 75th percentile is 70.76, and the maximum value is 96.29. <br>\n",
        "\n",
        "However, what if we would also like to check all the columns including those that are of type object? <br><br>\n",
        "\n",
        "You can add an argument <code>include = \"all\"</code> inside the bracket. Let's try it again.\n",
        "\n",
        "</p>\n"
      ]
    },
    {
      "cell_type": "code",
      "execution_count": null,
      "id": "8126fbee-9a3b-46ea-ba31-f8d45fccecf3",
      "metadata": {},
      "outputs": [],
      "source": [
        "# describe all the columns in \"df\" \n",
        "df.describe(include = \"all\")"
      ]
    },
    {
      "cell_type": "markdown",
      "id": "301b3d85-6250-4ca2-8ce8-03c0a6b7ad12",
      "metadata": {},
      "source": [
        "<p>\n",
        "Now it provides the statistical summary of all the columns, including object-typed attributes.<br>\n",
        "\n",
        "We can now see how many unique values there, which one is the top value and the frequency of top value in the object-typed columns.<br>\n",
        "\n",
        "Some values in the table above show as \"NaN\". This is because those numbers are not available regarding a particular column type.<br>\n",
        "\n",
        "</p>\n"
      ]
    },
    {
      "cell_type": "markdown",
      "id": "69320d2f-0df4-4666-9573-1470df81615b",
      "metadata": {},
      "source": [
        "<div class=\"alert alert-danger alertdanger\" style=\"margin-top: 20px\">\n",
        "<h1> Question #3: </h1>\n",
        "\n",
        "<p>\n",
        "You can select the columns of a dataframe by indicating the name of each column. For example, you can select the three columns as follows:\n",
        "</p>\n",
        "<p>\n",
        "    <code>dataframe[[' column 1 ',column 2', 'column 3']]</code>\n",
        "</p>\n",
        "<p>\n",
        "Where \"column\" is the name of the column, you can apply the method  \".describe()\" to get the statistics of those columns as follows:\n",
        "</p>\n",
        "<p>\n",
        "    <code>dataframe[[' column 1 ',column 2', 'column 3'] ].describe()</code>\n",
        "</p>\n",
        "\n",
        "Apply the  method to \".describe()\" to the columns 'Age at Diagnosis' and 'Overall Survival (Months)'.\n",
        "\n",
        "</div>\n"
      ]
    },
    {
      "cell_type": "code",
      "execution_count": null,
      "id": "3458bff8-f524-4f0c-831a-768bdad3d824",
      "metadata": {},
      "outputs": [],
      "source": [
        "# Write your code below and press Shift+Enter to execute \n"
      ]
    },
    {
      "cell_type": "markdown",
      "id": "156f9bc6-2cda-4c87-8514-7ae6e30a3be4",
      "metadata": {},
      "source": [
        "<details><summary>Click here for the solution</summary>\n",
        "\n",
        "```python\n",
        "df[['Age at Diagnosis', 'Overall Survival (Months)']].describe()\n",
        "```\n",
        "\n",
        "</details>\n"
      ]
    },
    {
      "cell_type": "markdown",
      "id": "3ed17994-cc92-456c-a30a-512175fd5c6f",
      "metadata": {},
      "source": [
        "<h2>Info</h2>\n",
        "Another method you can use to check your dataset is:\n"
      ]
    },
    {
      "cell_type": "raw",
      "id": "c34869e0-41a8-4397-a63e-ea77571cd8ef",
      "metadata": {},
      "source": [
        "dataframe.info()"
      ]
    },
    {
      "cell_type": "markdown",
      "id": "71410181-791b-40b1-9dfc-36e40cc11cd1",
      "metadata": {},
      "source": [
        "It provides a concise summary of your DataFrame.\n",
        "\n",
        "This method prints information about a DataFrame including the index dtype and columns, non-null values and memory usage.\n"
      ]
    },
    {
      "cell_type": "code",
      "execution_count": null,
      "id": "1cbe9cbf-81c1-4493-b9e5-6859dc4c1c2f",
      "metadata": {},
      "outputs": [],
      "source": [
        "# look at the info of \"df\"\n",
        "df.info()"
      ]
    },
    {
      "cell_type": "markdown",
      "id": "52a533df-c3c1-44d2-9e20-cca842a36d0c",
      "metadata": {},
      "source": [
        "<h1>Excellent! You have just completed the  Introduction Notebook!</h1>\n"
      ]
    },
    {
      "cell_type": "markdown",
      "id": "eeb17df9-7e73-4b18-9c1e-f73f0ab1be9a",
      "metadata": {},
      "source": [
        "### Thank you for completing this lab!\n",
        "\n",
        "## Author\n",
        "\n",
        "<a href=\"https://author.skills.network/instructors/dmytro_shliakhovskyi\">Dmytro Shliakhovskyi</a>\n",
        "\n",
        "### Other Contributors\n",
        "\n",
        "<a href=\"https://author.skills.network/instructors/yaroslav_vyklyuk_2\">Prof. Yaroslav Vyklyuk, DrSc, PhD</a>\n",
        "\n",
        "<a href=\"https://author.skills.network/instructors/nataliya_boyko\">Ass. Prof. Nataliya Boyko, PhD</a>\n",
        "\n",
        "\n",
        "## Change Log\n",
        "\n",
        "| Date (YYYY-MM-DD) | Version | Changed By | Change Description                                         |\n",
        "| ----------------- | ------- | ---------- | ---------------------------------------------------------- |\n",
        "|    2023-02-25     | 01 | Dmytro Shliakhovkyi | Lab created |\n",
        "\n",
        "\n",
        "\n",
        "<hr>\n",
        "\n",
        "## <h3 align=\"center\"> © IBM Corporation 2020. All rights reserved. <h3/>\n"
      ]
    }
  ],
  "metadata": {
    "kernelspec": {
      "display_name": "Python 3",
      "language": "python",
      "name": "python3"
    },
    "language_info": {
      "codemirror_mode": {
        "name": "ipython",
        "version": 3
      },
      "file_extension": ".py",
      "mimetype": "text/x-python",
      "name": "python",
      "nbconvert_exporter": "python",
      "pygments_lexer": "ipython3",
      "version": "3.10.9"
    }
  },
  "nbformat": 4,
  "nbformat_minor": 4
}
